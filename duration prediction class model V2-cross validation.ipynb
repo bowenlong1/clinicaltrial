{
 "cells": [
  {
   "cell_type": "code",
   "execution_count": 223,
   "id": "cde74beb",
   "metadata": {},
   "outputs": [],
   "source": [
    "import numpy as np\n",
    "import pandas as pd\n",
    "import datetime as dt\n",
    "import re\n",
    "import matplotlib.pyplot as plt\n",
    "from collections import Counter\n",
    "from scipy import stats"
   ]
  },
  {
   "cell_type": "code",
   "execution_count": 87,
   "id": "2fac1bb5",
   "metadata": {},
   "outputs": [],
   "source": [
    "#conda list python"
   ]
  },
  {
   "cell_type": "code",
   "execution_count": 88,
   "id": "8a818286",
   "metadata": {},
   "outputs": [],
   "source": [
    "import warnings\n",
    "warnings.filterwarnings(\"ignore\")"
   ]
  },
  {
   "cell_type": "code",
   "execution_count": 89,
   "id": "1d4d6268",
   "metadata": {},
   "outputs": [],
   "source": [
    "df1 = pd.read_csv('duration eda_bowen.csv')"
   ]
  },
  {
   "cell_type": "code",
   "execution_count": 90,
   "id": "d8690fed",
   "metadata": {},
   "outputs": [
    {
     "data": {
      "text/plain": [
       "(1089, 35)"
      ]
     },
     "execution_count": 90,
     "metadata": {},
     "output_type": "execute_result"
    }
   ],
   "source": [
    "df1.shape"
   ]
  },
  {
   "cell_type": "code",
   "execution_count": 91,
   "id": "09a81688",
   "metadata": {},
   "outputs": [
    {
     "data": {
      "text/plain": [
       "Index(['Unnamed: 0', 'rank', 'nct number', 'title', 'acronym', 'status',\n",
       "       'study results', 'conditions', 'interventions', 'outcome measures',\n",
       "       'sponsor/collaborators', 'gender', 'age', 'phases', 'enrollment',\n",
       "       'funded bys', 'study type', 'study designs', 'other ids', 'start date',\n",
       "       'primary completion date', 'completion date', 'first posted',\n",
       "       'results first posted', 'last update posted', 'locations',\n",
       "       'study documents', 'url', 'duration', 'ftype2', 'cond1', 'allocation',\n",
       "       'interv_mod2', 'mask1', 'purp1'],\n",
       "      dtype='object')"
      ]
     },
     "execution_count": 91,
     "metadata": {},
     "output_type": "execute_result"
    }
   ],
   "source": [
    "df1.columns"
   ]
  },
  {
   "cell_type": "code",
   "execution_count": null,
   "id": "fa049bc5",
   "metadata": {},
   "outputs": [],
   "source": []
  },
  {
   "cell_type": "code",
   "execution_count": 92,
   "id": "3aa5e876",
   "metadata": {},
   "outputs": [
    {
     "data": {
      "text/plain": [
       "'2022-11-04'"
      ]
     },
     "execution_count": 92,
     "metadata": {},
     "output_type": "execute_result"
    }
   ],
   "source": [
    "df1['start date'].max()"
   ]
  },
  {
   "cell_type": "code",
   "execution_count": 93,
   "id": "05100c10",
   "metadata": {},
   "outputs": [
    {
     "data": {
      "text/plain": [
       "'2023-03-13'"
      ]
     },
     "execution_count": 93,
     "metadata": {},
     "output_type": "execute_result"
    }
   ],
   "source": [
    "df1['completion date'].max()"
   ]
  },
  {
   "cell_type": "code",
   "execution_count": 94,
   "id": "33babc59",
   "metadata": {},
   "outputs": [
    {
     "data": {
      "text/plain": [
       "Index(['Unnamed: 0', 'rank', 'nct number', 'title', 'acronym', 'status',\n",
       "       'study results', 'conditions', 'interventions', 'outcome measures',\n",
       "       'sponsor/collaborators', 'gender', 'age', 'phases', 'enrollment',\n",
       "       'funded bys', 'study type', 'study designs', 'other ids', 'start date',\n",
       "       'primary completion date', 'completion date', 'first posted',\n",
       "       'results first posted', 'last update posted', 'locations',\n",
       "       'study documents', 'url', 'duration', 'ftype2', 'cond1', 'allocation',\n",
       "       'interv_mod2', 'mask1', 'purp1'],\n",
       "      dtype='object')"
      ]
     },
     "execution_count": 94,
     "metadata": {},
     "output_type": "execute_result"
    }
   ],
   "source": [
    "df1.columns"
   ]
  },
  {
   "cell_type": "code",
   "execution_count": 95,
   "id": "cafa27a7",
   "metadata": {},
   "outputs": [
    {
     "data": {
      "text/plain": [
       "0       maximum tolerated dose|toxicity profile of et1...\n",
       "1       mtd of everolimus in combination with r-chop|a...\n",
       "2       safety and tolerability of parsaclisib in comb...\n",
       "3       percentage of participants who experienced a d...\n",
       "4       incidence rate of dose-limiting toxicities (dl...\n",
       "                              ...                        \n",
       "1084    maximum tolerated dose (mtd)|number of partici...\n",
       "1085    assess safety and feasibility of monoclonal ab...\n",
       "1086                                                  NaN\n",
       "1087                                                  NaN\n",
       "1088    phase i: maximum tolerated dose|phase ii: anti...\n",
       "Name: outcome measures, Length: 1089, dtype: object"
      ]
     },
     "execution_count": 95,
     "metadata": {},
     "output_type": "execute_result"
    }
   ],
   "source": [
    "df1['outcome measures'].str.lower()"
   ]
  },
  {
   "cell_type": "code",
   "execution_count": 96,
   "id": "9c5d14cb",
   "metadata": {},
   "outputs": [],
   "source": [
    "df1 = df1.rename(columns = {'nct number':'nct_number'})"
   ]
  },
  {
   "cell_type": "code",
   "execution_count": 97,
   "id": "5a3589ce",
   "metadata": {},
   "outputs": [],
   "source": [
    "df2 = pd.read_csv('updated_Lymphoma-P1 (1).csv')"
   ]
  },
  {
   "cell_type": "code",
   "execution_count": 98,
   "id": "41c7cde6",
   "metadata": {},
   "outputs": [
    {
     "data": {
      "text/plain": [
       "Index(['rank', 'nct_number', 'title', 'acronym', 'status', 'study_results',\n",
       "       'conditions', 'interventions', 'outcome_measures',\n",
       "       'sponsor/collaborators', 'gender', 'age', 'phases', 'enrollment',\n",
       "       'funded_bys', 'study_type', 'study_designs', 'other_ids',\n",
       "       'results_first_posted', 'locations', 'study_documents', 'url',\n",
       "       'duration', 'measure_AEs', 'measure_PFS', 'measure_DLT', 'measure_MTD',\n",
       "       'measure_Cmax', 'measure_OS', 'measure_DOR', 'measure_Tmax', 'measure_',\n",
       "       'measure_OR', 'lead_outcome_measure', 'number_of_measures',\n",
       "       'drug_included', 'biological_included', 'other_included',\n",
       "       'procedure_included', 'radiation_included', 'intervention_count',\n",
       "       'multiple_interverions', 'include_country_United States',\n",
       "       'include_country_France', 'include_country_United Kingdom',\n",
       "       'include_country_Germany', 'include_country_Japan',\n",
       "       'include_country_Spain', 'include_country_Italy',\n",
       "       'include_country_Canada', 'include_country_Australia',\n",
       "       'include_country_China', 'lead_country', 'location_count',\n",
       "       'multiple_locations', 'national_cancer_institute_(nci)_as_sponsor',\n",
       "       'national_institutes_of_health_clinical_center_(cc)_as_sponsor',\n",
       "       'm.d._anderson_cancer_center_as_sponsor', 'celgene_as_sponsor',\n",
       "       'millennium_pharmaceuticals_inc._as_sponsor'],\n",
       "      dtype='object')"
      ]
     },
     "execution_count": 98,
     "metadata": {},
     "output_type": "execute_result"
    }
   ],
   "source": [
    "df2.columns"
   ]
  },
  {
   "cell_type": "code",
   "execution_count": 99,
   "id": "5e4673df",
   "metadata": {},
   "outputs": [],
   "source": [
    "df = df1.merge(df2[['nct_number','lead_outcome_measure','measure_PFS', 'measure_MTD', 'measure_Cmax', 'measure_OS',\n",
    "       'measure_DOR', 'measure_DLT', 'measure_', 'measure_AEs', 'measure_Tmax', 'number_of_measures', 'drug_included',\n",
    "       'biological_included', 'other_included', 'procedure_included', 'radiation_included',\n",
    "       'intervention_count', 'multiple_interverions',\n",
    "       'include_country_United States', 'include_country_France',\n",
    "       'include_country_United Kingdom', 'include_country_Germany',\n",
    "       'lead_country', 'location_count', 'multiple_locations','national_cancer_institute_(nci)_as_sponsor',\n",
    "       'national_institutes_of_health_clinical_center_(cc)_as_sponsor',\n",
    "       'm.d._anderson_cancer_center_as_sponsor', 'celgene_as_sponsor',\n",
    "       'millennium_pharmaceuticals_inc._as_sponsor']], how = 'left')"
   ]
  },
  {
   "cell_type": "code",
   "execution_count": 100,
   "id": "1fcf7714",
   "metadata": {},
   "outputs": [],
   "source": [
    "df.columns = df.columns.str.lower()"
   ]
  },
  {
   "cell_type": "code",
   "execution_count": 101,
   "id": "36ac8750",
   "metadata": {},
   "outputs": [
    {
     "data": {
      "text/plain": [
       "(1089, 65)"
      ]
     },
     "execution_count": 101,
     "metadata": {},
     "output_type": "execute_result"
    }
   ],
   "source": [
    "df.shape"
   ]
  },
  {
   "cell_type": "code",
   "execution_count": 102,
   "id": "1170e34f",
   "metadata": {},
   "outputs": [],
   "source": [
    "#df[df.duration==30]['start date']"
   ]
  },
  {
   "cell_type": "markdown",
   "id": "382067b4",
   "metadata": {},
   "source": [
    "## add variables from Fangya"
   ]
  },
  {
   "cell_type": "code",
   "execution_count": 103,
   "id": "c4abbcba",
   "metadata": {},
   "outputs": [],
   "source": [
    "## 1. sponsor/collaborator"
   ]
  },
  {
   "cell_type": "code",
   "execution_count": 104,
   "id": "90d72d6c",
   "metadata": {},
   "outputs": [],
   "source": [
    "spon = \" \".join(df[\"sponsor/collaborators\"].str.split('|').explode(\"sponsor/collaborators\")).lower().split(\" \")"
   ]
  },
  {
   "cell_type": "code",
   "execution_count": 105,
   "id": "e33a9612",
   "metadata": {},
   "outputs": [
    {
     "data": {
      "text/html": [
       "<div>\n",
       "<style scoped>\n",
       "    .dataframe tbody tr th:only-of-type {\n",
       "        vertical-align: middle;\n",
       "    }\n",
       "\n",
       "    .dataframe tbody tr th {\n",
       "        vertical-align: top;\n",
       "    }\n",
       "\n",
       "    .dataframe thead th {\n",
       "        text-align: right;\n",
       "    }\n",
       "</style>\n",
       "<table border=\"1\" class=\"dataframe\">\n",
       "  <thead>\n",
       "    <tr style=\"text-align: right;\">\n",
       "      <th></th>\n",
       "      <th>index</th>\n",
       "      <th>0</th>\n",
       "    </tr>\n",
       "  </thead>\n",
       "  <tbody>\n",
       "    <tr>\n",
       "      <th>12</th>\n",
       "      <td>cancer</td>\n",
       "      <td>475</td>\n",
       "    </tr>\n",
       "    <tr>\n",
       "      <th>11</th>\n",
       "      <td>national</td>\n",
       "      <td>338</td>\n",
       "    </tr>\n",
       "    <tr>\n",
       "      <th>13</th>\n",
       "      <td>institute</td>\n",
       "      <td>312</td>\n",
       "    </tr>\n",
       "    <tr>\n",
       "      <th>14</th>\n",
       "      <td>(nci)</td>\n",
       "      <td>254</td>\n",
       "    </tr>\n",
       "    <tr>\n",
       "      <th>36</th>\n",
       "      <td>center</td>\n",
       "      <td>250</td>\n",
       "    </tr>\n",
       "    <tr>\n",
       "      <th>4</th>\n",
       "      <td>university</td>\n",
       "      <td>232</td>\n",
       "    </tr>\n",
       "    <tr>\n",
       "      <th>58</th>\n",
       "      <td>of</td>\n",
       "      <td>231</td>\n",
       "    </tr>\n",
       "    <tr>\n",
       "      <th>2</th>\n",
       "      <td>inc.</td>\n",
       "      <td>184</td>\n",
       "    </tr>\n",
       "    <tr>\n",
       "      <th>59</th>\n",
       "      <td>health</td>\n",
       "      <td>78</td>\n",
       "    </tr>\n",
       "    <tr>\n",
       "      <th>7</th>\n",
       "      <td>clinical</td>\n",
       "      <td>78</td>\n",
       "    </tr>\n",
       "    <tr>\n",
       "      <th>25</th>\n",
       "      <td>research</td>\n",
       "      <td>76</td>\n",
       "    </tr>\n",
       "    <tr>\n",
       "      <th>48</th>\n",
       "      <td>hospital</td>\n",
       "      <td>68</td>\n",
       "    </tr>\n",
       "    <tr>\n",
       "      <th>30</th>\n",
       "      <td>pharmaceuticals</td>\n",
       "      <td>66</td>\n",
       "    </tr>\n",
       "    <tr>\n",
       "      <th>66</th>\n",
       "      <td>medical</td>\n",
       "      <td>65</td>\n",
       "    </tr>\n",
       "    <tr>\n",
       "      <th>57</th>\n",
       "      <td>institutes</td>\n",
       "      <td>61</td>\n",
       "    </tr>\n",
       "    <tr>\n",
       "      <th>105</th>\n",
       "      <td>and</td>\n",
       "      <td>60</td>\n",
       "    </tr>\n",
       "    <tr>\n",
       "      <th>167</th>\n",
       "      <td>(cc)</td>\n",
       "      <td>59</td>\n",
       "    </tr>\n",
       "    <tr>\n",
       "      <th>43</th>\n",
       "      <td>novartis</td>\n",
       "      <td>56</td>\n",
       "    </tr>\n",
       "    <tr>\n",
       "      <th>98</th>\n",
       "      <td>celgene</td>\n",
       "      <td>52</td>\n",
       "    </tr>\n",
       "    <tr>\n",
       "      <th>35</th>\n",
       "      <td>anderson</td>\n",
       "      <td>50</td>\n",
       "    </tr>\n",
       "  </tbody>\n",
       "</table>\n",
       "</div>"
      ],
      "text/plain": [
       "               index    0\n",
       "12            cancer  475\n",
       "11          national  338\n",
       "13         institute  312\n",
       "14             (nci)  254\n",
       "36            center  250\n",
       "4         university  232\n",
       "58                of  231\n",
       "2               inc.  184\n",
       "59            health   78\n",
       "7           clinical   78\n",
       "25          research   76\n",
       "48          hospital   68\n",
       "30   pharmaceuticals   66\n",
       "66           medical   65\n",
       "57        institutes   61\n",
       "105              and   60\n",
       "167             (cc)   59\n",
       "43          novartis   56\n",
       "98           celgene   52\n",
       "35          anderson   50"
      ]
     },
     "execution_count": 105,
     "metadata": {},
     "output_type": "execute_result"
    }
   ],
   "source": [
    "pd.DataFrame.from_dict(Counter(spon), orient='index').reset_index().sort_values(by=0, ascending = False)[:20]"
   ]
  },
  {
   "cell_type": "code",
   "execution_count": 106,
   "id": "5f237a8f",
   "metadata": {},
   "outputs": [],
   "source": [
    "values=[\"university\", \"academic\", \"research\" ,\"hospital\", \"nci\", \"institute\"]\n",
    "# Industry vs Academic\n",
    "df['np_spon'] = np.where(df[\"sponsor/collaborators\"].str.lower().str.contains('|'.join(values)),1 ,0)"
   ]
  },
  {
   "cell_type": "code",
   "execution_count": 107,
   "id": "eee07761",
   "metadata": {},
   "outputs": [
    {
     "data": {
      "text/plain": [
       "0              Eureka Therapeutics Inc.|Peking University\n",
       "1       Alliance for Clinical Trials in Oncology|Natio...\n",
       "2                                      Incyte Corporation\n",
       "3                      Beijing Mabworks Biotech Co., Ltd.\n",
       "4       The Lymphoma Academic Research Organisation|Ka...\n",
       "                              ...                        \n",
       "1084                          M.D. Anderson Cancer Center\n",
       "1085    Baylor College of Medicine|The Methodist Hospi...\n",
       "1086    Northwestern University|National Cancer Instit...\n",
       "1087    Northwestern University|National Cancer Instit...\n",
       "1088                         Philogen S.p.A.|Eudax S.r.l.\n",
       "Name: sponsor/collaborators, Length: 1089, dtype: object"
      ]
     },
     "execution_count": 107,
     "metadata": {},
     "output_type": "execute_result"
    }
   ],
   "source": [
    "df[\"sponsor/collaborators\"]"
   ]
  },
  {
   "cell_type": "code",
   "execution_count": 108,
   "id": "e81b47bc",
   "metadata": {},
   "outputs": [
    {
     "data": {
      "text/html": [
       "<div>\n",
       "<style scoped>\n",
       "    .dataframe tbody tr th:only-of-type {\n",
       "        vertical-align: middle;\n",
       "    }\n",
       "\n",
       "    .dataframe tbody tr th {\n",
       "        vertical-align: top;\n",
       "    }\n",
       "\n",
       "    .dataframe thead th {\n",
       "        text-align: right;\n",
       "    }\n",
       "</style>\n",
       "<table border=\"1\" class=\"dataframe\">\n",
       "  <thead>\n",
       "    <tr style=\"text-align: right;\">\n",
       "      <th></th>\n",
       "      <th>count</th>\n",
       "      <th>mean</th>\n",
       "    </tr>\n",
       "    <tr>\n",
       "      <th>np_spon</th>\n",
       "      <th></th>\n",
       "      <th></th>\n",
       "    </tr>\n",
       "  </thead>\n",
       "  <tbody>\n",
       "    <tr>\n",
       "      <th>0</th>\n",
       "      <td>567</td>\n",
       "      <td>1515.696649</td>\n",
       "    </tr>\n",
       "    <tr>\n",
       "      <th>1</th>\n",
       "      <td>522</td>\n",
       "      <td>2084.536398</td>\n",
       "    </tr>\n",
       "  </tbody>\n",
       "</table>\n",
       "</div>"
      ],
      "text/plain": [
       "         count         mean\n",
       "np_spon                    \n",
       "0          567  1515.696649\n",
       "1          522  2084.536398"
      ]
     },
     "execution_count": 108,
     "metadata": {},
     "output_type": "execute_result"
    }
   ],
   "source": [
    "df.groupby('np_spon')['duration'].agg(['count', 'mean'])"
   ]
  },
  {
   "cell_type": "code",
   "execution_count": 109,
   "id": "ebb2dd7b",
   "metadata": {},
   "outputs": [],
   "source": [
    "## 2. age - contains child"
   ]
  },
  {
   "cell_type": "code",
   "execution_count": 110,
   "id": "4ccc3a26",
   "metadata": {},
   "outputs": [],
   "source": [
    "age = \" \".join(df[\"age\"].str.split('|').explode(\"age\")).lower().split(\" \")"
   ]
  },
  {
   "cell_type": "code",
   "execution_count": 111,
   "id": "2bc4ae5a",
   "metadata": {},
   "outputs": [
    {
     "data": {
      "text/html": [
       "<div>\n",
       "<style scoped>\n",
       "    .dataframe tbody tr th:only-of-type {\n",
       "        vertical-align: middle;\n",
       "    }\n",
       "\n",
       "    .dataframe tbody tr th {\n",
       "        vertical-align: top;\n",
       "    }\n",
       "\n",
       "    .dataframe thead th {\n",
       "        text-align: right;\n",
       "    }\n",
       "</style>\n",
       "<table border=\"1\" class=\"dataframe\">\n",
       "  <thead>\n",
       "    <tr style=\"text-align: right;\">\n",
       "      <th></th>\n",
       "      <th>index</th>\n",
       "      <th>0</th>\n",
       "    </tr>\n",
       "  </thead>\n",
       "  <tbody>\n",
       "    <tr>\n",
       "      <th>3</th>\n",
       "      <td>older</td>\n",
       "      <td>1680</td>\n",
       "    </tr>\n",
       "    <tr>\n",
       "      <th>1</th>\n",
       "      <td>years</td>\n",
       "      <td>1289</td>\n",
       "    </tr>\n",
       "    <tr>\n",
       "      <th>4</th>\n",
       "      <td></td>\n",
       "      <td>1049</td>\n",
       "    </tr>\n",
       "    <tr>\n",
       "      <th>6</th>\n",
       "      <td>adult)</td>\n",
       "      <td>1013</td>\n",
       "    </tr>\n",
       "    <tr>\n",
       "      <th>5</th>\n",
       "      <td>(adult,</td>\n",
       "      <td>844</td>\n",
       "    </tr>\n",
       "    <tr>\n",
       "      <th>0</th>\n",
       "      <td>18</td>\n",
       "      <td>827</td>\n",
       "    </tr>\n",
       "    <tr>\n",
       "      <th>2</th>\n",
       "      <td>and</td>\n",
       "      <td>713</td>\n",
       "    </tr>\n",
       "    <tr>\n",
       "      <th>7</th>\n",
       "      <td>to</td>\n",
       "      <td>336</td>\n",
       "    </tr>\n",
       "    <tr>\n",
       "      <th>15</th>\n",
       "      <td>(child,</td>\n",
       "      <td>166</td>\n",
       "    </tr>\n",
       "    <tr>\n",
       "      <th>16</th>\n",
       "      <td>adult,</td>\n",
       "      <td>123</td>\n",
       "    </tr>\n",
       "    <tr>\n",
       "      <th>8</th>\n",
       "      <td>70</td>\n",
       "      <td>44</td>\n",
       "    </tr>\n",
       "    <tr>\n",
       "      <th>37</th>\n",
       "      <td>up</td>\n",
       "      <td>43</td>\n",
       "    </tr>\n",
       "    <tr>\n",
       "      <th>21</th>\n",
       "      <td>adult</td>\n",
       "      <td>40</td>\n",
       "    </tr>\n",
       "    <tr>\n",
       "      <th>18</th>\n",
       "      <td>75</td>\n",
       "      <td>40</td>\n",
       "    </tr>\n",
       "    <tr>\n",
       "      <th>20</th>\n",
       "      <td>child,</td>\n",
       "      <td>40</td>\n",
       "    </tr>\n",
       "    <tr>\n",
       "      <th>9</th>\n",
       "      <td>20</td>\n",
       "      <td>38</td>\n",
       "    </tr>\n",
       "    <tr>\n",
       "      <th>13</th>\n",
       "      <td>1</td>\n",
       "      <td>37</td>\n",
       "    </tr>\n",
       "    <tr>\n",
       "      <th>19</th>\n",
       "      <td>65</td>\n",
       "      <td>37</td>\n",
       "    </tr>\n",
       "    <tr>\n",
       "      <th>14</th>\n",
       "      <td>year</td>\n",
       "      <td>36</td>\n",
       "    </tr>\n",
       "    <tr>\n",
       "      <th>26</th>\n",
       "      <td>21</td>\n",
       "      <td>32</td>\n",
       "    </tr>\n",
       "  </tbody>\n",
       "</table>\n",
       "</div>"
      ],
      "text/plain": [
       "      index     0\n",
       "3     older  1680\n",
       "1     years  1289\n",
       "4            1049\n",
       "6    adult)  1013\n",
       "5   (adult,   844\n",
       "0        18   827\n",
       "2       and   713\n",
       "7        to   336\n",
       "15  (child,   166\n",
       "16   adult,   123\n",
       "8        70    44\n",
       "37       up    43\n",
       "21    adult    40\n",
       "18       75    40\n",
       "20   child,    40\n",
       "9        20    38\n",
       "13        1    37\n",
       "19       65    37\n",
       "14     year    36\n",
       "26       21    32"
      ]
     },
     "execution_count": 111,
     "metadata": {},
     "output_type": "execute_result"
    }
   ],
   "source": [
    "pd.DataFrame.from_dict(Counter(age), orient='index').reset_index().sort_values(by=0, ascending = False)[:20]"
   ]
  },
  {
   "cell_type": "code",
   "execution_count": 112,
   "id": "8b7393fa",
   "metadata": {},
   "outputs": [],
   "source": [
    "df['adult_include']=np.where(df[\"age\"].str.lower().str.contains(\"adult\"),1 ,0)\n",
    "df['child_include']=np.where(df[\"age\"].str.lower().str.contains(\"child\"),1 ,0)"
   ]
  },
  {
   "cell_type": "code",
   "execution_count": 113,
   "id": "bb2c8bec",
   "metadata": {},
   "outputs": [],
   "source": [
    "## title"
   ]
  },
  {
   "cell_type": "code",
   "execution_count": 114,
   "id": "b90ba214",
   "metadata": {},
   "outputs": [],
   "source": [
    "title = \" \".join(df[\"title\"].str.split('|').explode(\"title\")).lower().split(\" \")"
   ]
  },
  {
   "cell_type": "code",
   "execution_count": 115,
   "id": "999ec9b9",
   "metadata": {},
   "outputs": [],
   "source": [
    "pattern = re.compile(r\"\\b(refractory|relapse|replapsed)|relapsed/refractory|efficacy|transplantation|transplant|combination|immuno\\b\", re.IGNORECASE)\n",
    "df[\"ccat\"]=np.where(df[\"title\"].str.lower().str.contains(pattern),1 ,0)"
   ]
  },
  {
   "cell_type": "code",
   "execution_count": 116,
   "id": "9957aed1",
   "metadata": {},
   "outputs": [
    {
     "data": {
      "text/html": [
       "<div>\n",
       "<style scoped>\n",
       "    .dataframe tbody tr th:only-of-type {\n",
       "        vertical-align: middle;\n",
       "    }\n",
       "\n",
       "    .dataframe tbody tr th {\n",
       "        vertical-align: top;\n",
       "    }\n",
       "\n",
       "    .dataframe thead th {\n",
       "        text-align: right;\n",
       "    }\n",
       "</style>\n",
       "<table border=\"1\" class=\"dataframe\">\n",
       "  <thead>\n",
       "    <tr style=\"text-align: right;\">\n",
       "      <th></th>\n",
       "      <th>count</th>\n",
       "      <th>mean</th>\n",
       "    </tr>\n",
       "    <tr>\n",
       "      <th>ccat</th>\n",
       "      <th></th>\n",
       "      <th></th>\n",
       "    </tr>\n",
       "  </thead>\n",
       "  <tbody>\n",
       "    <tr>\n",
       "      <th>0</th>\n",
       "      <td>545</td>\n",
       "      <td>1654.851376</td>\n",
       "    </tr>\n",
       "    <tr>\n",
       "      <th>1</th>\n",
       "      <td>544</td>\n",
       "      <td>1922.121324</td>\n",
       "    </tr>\n",
       "  </tbody>\n",
       "</table>\n",
       "</div>"
      ],
      "text/plain": [
       "      count         mean\n",
       "ccat                    \n",
       "0       545  1654.851376\n",
       "1       544  1922.121324"
      ]
     },
     "execution_count": 116,
     "metadata": {},
     "output_type": "execute_result"
    }
   ],
   "source": [
    "df.groupby('ccat')['duration'].agg(['count', 'mean'])"
   ]
  },
  {
   "cell_type": "code",
   "execution_count": 117,
   "id": "29090d0a",
   "metadata": {},
   "outputs": [],
   "source": [
    "## outcome measure"
   ]
  },
  {
   "cell_type": "code",
   "execution_count": 118,
   "id": "a65abd47",
   "metadata": {},
   "outputs": [],
   "source": [
    "# EFF vs non safety\n",
    "pattern = re.compile(r\"\\b(overall survival|os|pfs|progression free survival|best overall survival|bor|duration of response|cr|crr|complete response)\\b\", re.IGNORECASE)\n",
    "df[\"out_ms\"]=np.where(df[\"outcome measures\"].str.lower().str.contains(pattern),1,0)"
   ]
  },
  {
   "cell_type": "code",
   "execution_count": 119,
   "id": "0c21a826",
   "metadata": {},
   "outputs": [
    {
     "data": {
      "text/html": [
       "<div>\n",
       "<style scoped>\n",
       "    .dataframe tbody tr th:only-of-type {\n",
       "        vertical-align: middle;\n",
       "    }\n",
       "\n",
       "    .dataframe tbody tr th {\n",
       "        vertical-align: top;\n",
       "    }\n",
       "\n",
       "    .dataframe thead th {\n",
       "        text-align: right;\n",
       "    }\n",
       "</style>\n",
       "<table border=\"1\" class=\"dataframe\">\n",
       "  <thead>\n",
       "    <tr style=\"text-align: right;\">\n",
       "      <th></th>\n",
       "      <th>count</th>\n",
       "      <th>mean</th>\n",
       "    </tr>\n",
       "    <tr>\n",
       "      <th>out_ms</th>\n",
       "      <th></th>\n",
       "      <th></th>\n",
       "    </tr>\n",
       "  </thead>\n",
       "  <tbody>\n",
       "    <tr>\n",
       "      <th>0</th>\n",
       "      <td>635</td>\n",
       "      <td>1671.056693</td>\n",
       "    </tr>\n",
       "    <tr>\n",
       "      <th>1</th>\n",
       "      <td>454</td>\n",
       "      <td>1952.438326</td>\n",
       "    </tr>\n",
       "  </tbody>\n",
       "</table>\n",
       "</div>"
      ],
      "text/plain": [
       "        count         mean\n",
       "out_ms                    \n",
       "0         635  1671.056693\n",
       "1         454  1952.438326"
      ]
     },
     "execution_count": 119,
     "metadata": {},
     "output_type": "execute_result"
    }
   ],
   "source": [
    "df.groupby('out_ms')['duration'].agg(['count', 'mean'])"
   ]
  },
  {
   "cell_type": "markdown",
   "id": "7f7a7437",
   "metadata": {},
   "source": [
    "## 1. duration bin"
   ]
  },
  {
   "cell_type": "code",
   "execution_count": 120,
   "id": "8786b21c",
   "metadata": {},
   "outputs": [
    {
     "data": {
      "text/plain": [
       "<AxesSubplot:>"
      ]
     },
     "execution_count": 120,
     "metadata": {},
     "output_type": "execute_result"
    },
    {
     "data": {
      "image/png": "[encoded data removed]",
      "text/plain": [
       "<Figure size 432x288 with 1 Axes>"
      ]
     },
     "metadata": {
      "needs_background": "light"
     },
     "output_type": "display_data"
    }
   ],
   "source": [
    "df.duration.hist()"
   ]
  },
  {
   "cell_type": "code",
   "execution_count": 121,
   "id": "73181210",
   "metadata": {},
   "outputs": [
    {
     "data": {
      "text/plain": [
       "1788.3636363636363"
      ]
     },
     "execution_count": 121,
     "metadata": {},
     "output_type": "execute_result"
    }
   ],
   "source": [
    "df.duration.mean()"
   ]
  },
  {
   "cell_type": "code",
   "execution_count": 122,
   "id": "35ca2cf4",
   "metadata": {},
   "outputs": [],
   "source": [
    "def condition(x):\n",
    "    if x<1825:\n",
    "        return \"D1: <5yr\"\n",
    "    else:\n",
    "        return 'D2: 5yr+'"
   ]
  },
  {
   "cell_type": "code",
   "execution_count": 123,
   "id": "5ebc40a0",
   "metadata": {},
   "outputs": [],
   "source": [
    "df['dc'] = df['duration'].apply(lambda x: condition(x))"
   ]
  },
  {
   "cell_type": "code",
   "execution_count": 124,
   "id": "ccd45ac9",
   "metadata": {},
   "outputs": [
    {
     "data": {
      "text/plain": [
       "D1: <5yr    651\n",
       "D2: 5yr+    438\n",
       "Name: dc, dtype: int64"
      ]
     },
     "execution_count": 124,
     "metadata": {},
     "output_type": "execute_result"
    }
   ],
   "source": [
    "df.dc.value_counts()"
   ]
  },
  {
   "cell_type": "code",
   "execution_count": 125,
   "id": "2e264553",
   "metadata": {},
   "outputs": [
    {
     "data": {
      "text/plain": [
       "Index(['unnamed: 0', 'rank', 'nct_number', 'title', 'acronym', 'status',\n",
       "       'study results', 'conditions', 'interventions', 'outcome measures',\n",
       "       'sponsor/collaborators', 'gender', 'age', 'phases', 'enrollment',\n",
       "       'funded bys', 'study type', 'study designs', 'other ids', 'start date',\n",
       "       'primary completion date', 'completion date', 'first posted',\n",
       "       'results first posted', 'last update posted', 'locations',\n",
       "       'study documents', 'url', 'duration', 'ftype2', 'cond1', 'allocation',\n",
       "       'interv_mod2', 'mask1', 'purp1', 'lead_outcome_measure', 'measure_pfs',\n",
       "       'measure_mtd', 'measure_cmax', 'measure_os', 'measure_dor',\n",
       "       'measure_dlt', 'measure_', 'measure_aes', 'measure_tmax',\n",
       "       'number_of_measures', 'drug_included', 'biological_included',\n",
       "       'other_included', 'procedure_included', 'radiation_included',\n",
       "       'intervention_count', 'multiple_interverions',\n",
       "       'include_country_united states', 'include_country_france',\n",
       "       'include_country_united kingdom', 'include_country_germany',\n",
       "       'lead_country', 'location_count', 'multiple_locations',\n",
       "       'national_cancer_institute_(nci)_as_sponsor',\n",
       "       'national_institutes_of_health_clinical_center_(cc)_as_sponsor',\n",
       "       'm.d._anderson_cancer_center_as_sponsor', 'celgene_as_sponsor',\n",
       "       'millennium_pharmaceuticals_inc._as_sponsor', 'np_spon',\n",
       "       'adult_include', 'child_include', 'ccat', 'out_ms', 'dc'],\n",
       "      dtype='object')"
      ]
     },
     "execution_count": 125,
     "metadata": {},
     "output_type": "execute_result"
    }
   ],
   "source": [
    "df.columns"
   ]
  },
  {
   "cell_type": "markdown",
   "id": "7716e42d",
   "metadata": {},
   "source": [
    "## 2. modeling"
   ]
  },
  {
   "cell_type": "code",
   "execution_count": 126,
   "id": "5af8e864",
   "metadata": {},
   "outputs": [],
   "source": [
    "## 2.0 data prepare - one hot encoding"
   ]
  },
  {
   "cell_type": "code",
   "execution_count": 127,
   "id": "cd0cb6fa",
   "metadata": {},
   "outputs": [],
   "source": [
    "from sklearn.model_selection import train_test_split"
   ]
  },
  {
   "cell_type": "code",
   "execution_count": 128,
   "id": "95683228",
   "metadata": {},
   "outputs": [
    {
     "data": {
      "text/plain": [
       "D1: <5yr    651\n",
       "D2: 5yr+    438\n",
       "Name: dc, dtype: int64"
      ]
     },
     "execution_count": 128,
     "metadata": {},
     "output_type": "execute_result"
    }
   ],
   "source": [
    "df.dc.value_counts()"
   ]
  },
  {
   "cell_type": "code",
   "execution_count": 129,
   "id": "3221a3d4",
   "metadata": {},
   "outputs": [],
   "source": [
    "df['y_class'] = 1\n",
    "df.loc[df['dc'] ==\"D1: <5yr\",'y_class'] = 0"
   ]
  },
  {
   "cell_type": "code",
   "execution_count": 130,
   "id": "03662fb0",
   "metadata": {},
   "outputs": [],
   "source": [
    "df['indus'] = df['ftype2'].apply(lambda x: 1 if x=='Industry Lead' else 0)"
   ]
  },
  {
   "cell_type": "code",
   "execution_count": 131,
   "id": "879f443d",
   "metadata": {},
   "outputs": [],
   "source": [
    "df['condition_count'] = df.conditions.str.count('\\|') + 1"
   ]
  },
  {
   "cell_type": "code",
   "execution_count": 132,
   "id": "bc95fd7b",
   "metadata": {},
   "outputs": [],
   "source": [
    "df['random'] = df['allocation'].apply(lambda x: 1 if x=='Randomized' else 0)"
   ]
  },
  {
   "cell_type": "code",
   "execution_count": 133,
   "id": "d3c4eb0d",
   "metadata": {},
   "outputs": [],
   "source": [
    "df['cross'] = df['interv_mod2'].apply(lambda x: 1 if x=='Crossover Assignment' else 0)"
   ]
  },
  {
   "cell_type": "code",
   "execution_count": 134,
   "id": "c4bc0ae8",
   "metadata": {},
   "outputs": [],
   "source": [
    "df['label_open'] = df['mask1'].apply(lambda x: 1 if x=='None (Open Label)' else 0)\n",
    "df['label_nopen'] = df['mask1'].apply(lambda x: 1 if x=='Not Open Label' else 0)"
   ]
  },
  {
   "cell_type": "code",
   "execution_count": 135,
   "id": "78dfc946",
   "metadata": {},
   "outputs": [
    {
     "data": {
      "text/plain": [
       "None (Open Label)    996\n",
       "Not Open Label        14\n",
       "Name: mask1, dtype: int64"
      ]
     },
     "execution_count": 135,
     "metadata": {},
     "output_type": "execute_result"
    }
   ],
   "source": [
    "df.mask1.value_counts()"
   ]
  },
  {
   "cell_type": "code",
   "execution_count": 136,
   "id": "c002e50b",
   "metadata": {},
   "outputs": [],
   "source": [
    "df['purp_treat'] = df['purp1'].apply(lambda x: 1 if x=='Treatment/Diagnostic' else 0)\n",
    "df['purp_prev'] = df['purp1'].apply(lambda x: 1 if x=='Other/Basic/Prevention' else 0)"
   ]
  },
  {
   "cell_type": "code",
   "execution_count": 137,
   "id": "9d766277",
   "metadata": {},
   "outputs": [
    {
     "data": {
      "text/plain": [
       "Treatment/Diagnostic      1035\n",
       "Other/Basic/Prevention      34\n",
       "Supportive Care             15\n",
       "Name: purp1, dtype: int64"
      ]
     },
     "execution_count": 137,
     "metadata": {},
     "output_type": "execute_result"
    }
   ],
   "source": [
    "df.purp1.value_counts()"
   ]
  },
  {
   "cell_type": "code",
   "execution_count": 138,
   "id": "0dc81423",
   "metadata": {},
   "outputs": [],
   "source": [
    "df['us_lead'] = df['lead_country'].apply(lambda x: 1 if x=='United States' else 0)\n",
    "df['france_lead'] = df['lead_country'].apply(lambda x: 1 if x=='France' else 0)\n",
    "df['uk_lead'] = df['lead_country'].apply(lambda x: 1 if x=='United Kingdom' else 0)\n",
    "df['german_lead'] = df['lead_country'].apply(lambda x: 1 if x=='Germany' else 0)"
   ]
  },
  {
   "cell_type": "code",
   "execution_count": 139,
   "id": "8d6bbaa3",
   "metadata": {},
   "outputs": [
    {
     "data": {
      "text/plain": [
       "Others    541\n",
       "AEs       185\n",
       "MTD       133\n",
       "DLT       123\n",
       "OR          7\n",
       "Cmax        4\n",
       "Tmax        1\n",
       "OS          1\n",
       "Name: lead_outcome_measure, dtype: int64"
      ]
     },
     "execution_count": 139,
     "metadata": {},
     "output_type": "execute_result"
    }
   ],
   "source": [
    "df.lead_outcome_measure.value_counts()"
   ]
  },
  {
   "cell_type": "code",
   "execution_count": 140,
   "id": "792e9578",
   "metadata": {},
   "outputs": [],
   "source": [
    "df['lead_aes'] = df['lead_outcome_measure'].apply(lambda x: 1 if x=='AEs' else 0)\n",
    "df['lead_mtd'] = df['lead_outcome_measure'].apply(lambda x: 1 if x=='MTD' else 0)\n",
    "df['lead_dlt'] = df['lead_outcome_measure'].apply(lambda x: 1 if x=='DLT' else 0)"
   ]
  },
  {
   "cell_type": "code",
   "execution_count": 141,
   "id": "23c282fa",
   "metadata": {},
   "outputs": [
    {
     "data": {
      "text/plain": [
       "United States     829\n",
       "Others            195\n",
       "France             28\n",
       "United Kingdom     21\n",
       "Germany            16\n",
       "Name: lead_country, dtype: int64"
      ]
     },
     "execution_count": 141,
     "metadata": {},
     "output_type": "execute_result"
    }
   ],
   "source": [
    "df.lead_country.value_counts()"
   ]
  },
  {
   "cell_type": "code",
   "execution_count": 142,
   "id": "68278e13",
   "metadata": {},
   "outputs": [],
   "source": [
    "df.columns = df.columns.str.lower()"
   ]
  },
  {
   "cell_type": "code",
   "execution_count": 143,
   "id": "667ea3b4",
   "metadata": {},
   "outputs": [
    {
     "data": {
      "text/plain": [
       "Index(['unnamed: 0', 'rank', 'nct_number', 'title', 'acronym', 'status',\n",
       "       'study results', 'conditions', 'interventions', 'outcome measures',\n",
       "       'sponsor/collaborators', 'gender', 'age', 'phases', 'enrollment',\n",
       "       'funded bys', 'study type', 'study designs', 'other ids', 'start date',\n",
       "       'primary completion date', 'completion date', 'first posted',\n",
       "       'results first posted', 'last update posted', 'locations',\n",
       "       'study documents', 'url', 'duration', 'ftype2', 'cond1', 'allocation',\n",
       "       'interv_mod2', 'mask1', 'purp1', 'lead_outcome_measure', 'measure_pfs',\n",
       "       'measure_mtd', 'measure_cmax', 'measure_os', 'measure_dor',\n",
       "       'measure_dlt', 'measure_', 'measure_aes', 'measure_tmax',\n",
       "       'number_of_measures', 'drug_included', 'biological_included',\n",
       "       'other_included', 'procedure_included', 'radiation_included',\n",
       "       'intervention_count', 'multiple_interverions',\n",
       "       'include_country_united states', 'include_country_france',\n",
       "       'include_country_united kingdom', 'include_country_germany',\n",
       "       'lead_country', 'location_count', 'multiple_locations',\n",
       "       'national_cancer_institute_(nci)_as_sponsor',\n",
       "       'national_institutes_of_health_clinical_center_(cc)_as_sponsor',\n",
       "       'm.d._anderson_cancer_center_as_sponsor', 'celgene_as_sponsor',\n",
       "       'millennium_pharmaceuticals_inc._as_sponsor', 'np_spon',\n",
       "       'adult_include', 'child_include', 'ccat', 'out_ms', 'dc', 'y_class',\n",
       "       'indus', 'condition_count', 'random', 'cross', 'label_open',\n",
       "       'label_nopen', 'purp_treat', 'purp_prev', 'us_lead', 'france_lead',\n",
       "       'uk_lead', 'german_lead', 'lead_aes', 'lead_mtd', 'lead_dlt'],\n",
       "      dtype='object')"
      ]
     },
     "execution_count": 143,
     "metadata": {},
     "output_type": "execute_result"
    }
   ],
   "source": [
    "df.columns"
   ]
  },
  {
   "cell_type": "markdown",
   "id": "790afce8",
   "metadata": {},
   "source": [
    "# additional features"
   ]
  },
  {
   "cell_type": "code",
   "execution_count": 144,
   "id": "1864b769",
   "metadata": {},
   "outputs": [],
   "source": [
    "df['multi_measures'] = 0\n",
    "df.loc[df['number_of_measures']>1,'multi_measures'] = 1"
   ]
  },
  {
   "cell_type": "code",
   "execution_count": 145,
   "id": "030ee5c2",
   "metadata": {},
   "outputs": [],
   "source": [
    "df['multi_condition'] = 0\n",
    "df.loc[df['condition_count']>1,'multi_condition'] = 1"
   ]
  },
  {
   "cell_type": "markdown",
   "id": "78965bfd",
   "metadata": {},
   "source": [
    "# what's 'measure_'"
   ]
  },
  {
   "cell_type": "code",
   "execution_count": 146,
   "id": "02bcb6b2",
   "metadata": {},
   "outputs": [],
   "source": [
    "X_features = [\"enrollment\",\n",
    "\"indus\",\n",
    "\"national_cancer_institute_(nci)_as_sponsor\",\n",
    "\"location_count\",\n",
    "\"us_lead\",\n",
    "#\"france_lead\",\n",
    "#\"uk_lead\",\n",
    "#\"german_lead\",\n",
    "\"include_country_united states\",\n",
    "#\"include_country_france\",\n",
    "#\"include_country_united kingdom\",\n",
    "#\"include_country_germany\",\n",
    "\"number_of_measures\",\n",
    "# \"multi_measures\",\n",
    "# \"out_ms\",\n",
    "# \"measure_pfs\",\n",
    "\"lead_aes\",\n",
    "\"lead_mtd\",\n",
    "\"lead_dlt\",                   \n",
    "\"measure_mtd\",\n",
    "\"measure_cmax\",\n",
    "\"measure_os\",\n",
    "\"measure_dor\",\n",
    "\"measure_dlt\",\n",
    "# \"measure_\",\n",
    "\"measure_aes\",\n",
    "\"measure_tmax\",\n",
    "# \"measure_orr\",\n",
    "\"condition_count\",\n",
    "\"intervention_count\",\n",
    "\"biological_included\",\n",
    "#\"other_included\",\n",
    "\"drug_included\",\n",
    "\"procedure_included\",\n",
    "'radiation_included',           \n",
    "\"ccat\",\n",
    "\"random\",\n",
    "\"purp_prev\",\n",
    "\"purp_treat\",\n",
    "\"label_open\",\n",
    "\"label_nopen\",\n",
    "# \"multiple_locations\",\n",
    "# \"multiple_interverions\",\n",
    "# \"multiple_interverions\",        \n",
    "\"cross\"]"
   ]
  },
  {
   "cell_type": "code",
   "execution_count": 147,
   "id": "5aed1bfb",
   "metadata": {},
   "outputs": [
    {
     "data": {
      "text/plain": [
       "30"
      ]
     },
     "execution_count": 147,
     "metadata": {},
     "output_type": "execute_result"
    }
   ],
   "source": [
    "len(X_features)"
   ]
  },
  {
   "cell_type": "code",
   "execution_count": 148,
   "id": "1134258b",
   "metadata": {},
   "outputs": [
    {
     "data": {
      "text/plain": [
       "['enrollment',\n",
       " 'indus',\n",
       " 'national_cancer_institute_(nci)_as_sponsor',\n",
       " 'location_count',\n",
       " 'us_lead',\n",
       " 'include_country_united states',\n",
       " 'number_of_measures',\n",
       " 'lead_aes',\n",
       " 'lead_mtd',\n",
       " 'lead_dlt',\n",
       " 'measure_mtd',\n",
       " 'measure_cmax',\n",
       " 'measure_os',\n",
       " 'measure_dor',\n",
       " 'measure_dlt',\n",
       " 'measure_aes',\n",
       " 'measure_tmax',\n",
       " 'condition_count',\n",
       " 'intervention_count',\n",
       " 'biological_included',\n",
       " 'drug_included',\n",
       " 'procedure_included',\n",
       " 'radiation_included',\n",
       " 'ccat',\n",
       " 'random',\n",
       " 'purp_prev',\n",
       " 'purp_treat',\n",
       " 'label_open',\n",
       " 'label_nopen',\n",
       " 'cross']"
      ]
     },
     "execution_count": 148,
     "metadata": {},
     "output_type": "execute_result"
    }
   ],
   "source": [
    "X_features"
   ]
  },
  {
   "cell_type": "code",
   "execution_count": 149,
   "id": "5162790a",
   "metadata": {},
   "outputs": [],
   "source": [
    "#df[X_features].head()"
   ]
  },
  {
   "cell_type": "code",
   "execution_count": 150,
   "id": "2341863a",
   "metadata": {},
   "outputs": [],
   "source": [
    "#X_features = top20"
   ]
  },
  {
   "cell_type": "code",
   "execution_count": 151,
   "id": "f988b01e",
   "metadata": {},
   "outputs": [
    {
     "data": {
      "text/plain": [
       "enrollment                                    46\n",
       "indus                                          0\n",
       "national_cancer_institute_(nci)_as_sponsor     0\n",
       "location_count                                 0\n",
       "us_lead                                        0\n",
       "include_country_united states                  0\n",
       "number_of_measures                             0\n",
       "lead_aes                                       0\n",
       "lead_mtd                                       0\n",
       "lead_dlt                                       0\n",
       "measure_mtd                                    0\n",
       "measure_cmax                                   0\n",
       "measure_os                                     0\n",
       "measure_dor                                    0\n",
       "measure_dlt                                    0\n",
       "measure_aes                                    0\n",
       "measure_tmax                                   0\n",
       "condition_count                                0\n",
       "intervention_count                             0\n",
       "biological_included                            0\n",
       "drug_included                                  0\n",
       "procedure_included                             0\n",
       "radiation_included                             0\n",
       "ccat                                           0\n",
       "random                                         0\n",
       "purp_prev                                      0\n",
       "purp_treat                                     0\n",
       "label_open                                     0\n",
       "label_nopen                                    0\n",
       "cross                                          0\n",
       "dtype: int64"
      ]
     },
     "execution_count": 151,
     "metadata": {},
     "output_type": "execute_result"
    }
   ],
   "source": [
    "df[X_features].isna().sum()"
   ]
  },
  {
   "cell_type": "code",
   "execution_count": 152,
   "id": "21d1b88b",
   "metadata": {},
   "outputs": [
    {
     "data": {
      "text/plain": [
       "30"
      ]
     },
     "execution_count": 152,
     "metadata": {},
     "output_type": "execute_result"
    }
   ],
   "source": [
    "len(X_features)"
   ]
  },
  {
   "cell_type": "code",
   "execution_count": 153,
   "id": "13230944",
   "metadata": {},
   "outputs": [],
   "source": [
    "df.loc[df.enrollment.isna(), 'enrollment'] = df.enrollment.mean()"
   ]
  },
  {
   "cell_type": "code",
   "execution_count": 180,
   "id": "082f7950",
   "metadata": {},
   "outputs": [],
   "source": [
    "data = df[X_features+['y_class','duration']]\n",
    "##change types\n",
    "bool_cols = data.select_dtypes(include=[bool]).columns\n",
    "data[bool_cols] = data[bool_cols].astype(int)        "
   ]
  },
  {
   "cell_type": "code",
   "execution_count": 181,
   "id": "17997e0a",
   "metadata": {},
   "outputs": [],
   "source": [
    "train, test = train_test_split(data, test_size = 0.2, random_state = 42)"
   ]
  },
  {
   "cell_type": "code",
   "execution_count": 182,
   "id": "043dd594",
   "metadata": {},
   "outputs": [],
   "source": [
    "lung = pd.read_csv('lungcancer.csv')\n",
    "lung = lung[X_features+['y_class']]\n",
    "\n",
    "##change types\n",
    "bool_cols = lung.select_dtypes(include=[bool]).columns\n",
    "lung[bool_cols] = lung[bool_cols].astype(int)"
   ]
  },
  {
   "cell_type": "code",
   "execution_count": 183,
   "id": "555700ad",
   "metadata": {},
   "outputs": [],
   "source": [
    "# train['tag'] = 'train'\n",
    "# test['tag'] = 'test'\n",
    "# lymodel = train.append(test)\n",
    "# lymodel.to_csv('lymodel.csv')"
   ]
  },
  {
   "cell_type": "code",
   "execution_count": 184,
   "id": "817131a0",
   "metadata": {},
   "outputs": [
    {
     "data": {
      "text/plain": [
       "(871, 32)"
      ]
     },
     "execution_count": 184,
     "metadata": {},
     "output_type": "execute_result"
    }
   ],
   "source": [
    "train.shape"
   ]
  },
  {
   "cell_type": "code",
   "execution_count": 185,
   "id": "7f9579bc",
   "metadata": {},
   "outputs": [],
   "source": [
    "from sklearn.metrics import accuracy_score, roc_auc_score, f1_score"
   ]
  },
  {
   "cell_type": "markdown",
   "id": "02ef6767",
   "metadata": {},
   "source": [
    "## 2. cross validation pipelines for all models"
   ]
  },
  {
   "cell_type": "markdown",
   "id": "ddc93039",
   "metadata": {},
   "source": [
    "# Final - cross validation"
   ]
  },
  {
   "cell_type": "code",
   "execution_count": 203,
   "id": "b17ce7d3",
   "metadata": {},
   "outputs": [
    {
     "name": "stdout",
     "output_type": "stream",
     "text": [
      "===== Logistic Regression =====\n",
      "[0.71428571 0.74137931 0.64942529 0.72413793 0.72988506] Accuracy: 0.7118 ± 0.0324\n",
      "[0.68518519 0.6984127  0.56       0.65714286 0.66197183] Precision: 0.6525 ± 0.0487\n",
      "[0.52857143 0.62857143 0.6        0.65714286 0.67142857] Recall: 0.6171 ± 0.0506\n",
      "[0.59677419 0.66165414 0.57931034 0.65714286 0.66666667] F1: 0.6323 ± 0.0367\n",
      "[0.7770068  0.80233516 0.72252747 0.78255495 0.79532967] Roc_auc: 0.7760 ± 0.0282\n",
      "Test accuracy: 0.6376\n",
      "Test precision: 0.5529\n",
      "Test recall: 0.5341\n",
      "Test f1_score: 0.5434\n",
      "Test roc_auc: 0.7281\n",
      "Test2 accuracy: 0.7321\n",
      "Test2 precision: 0.5971\n",
      "Test2 recall: 0.5863\n",
      "Test2 f1_score: 0.5917\n",
      "Test2 roc_auc: 0.7701\n",
      "\n",
      "===== Decision Tree =====\n",
      "[0.62285714 0.64942529 0.61494253 0.68390805 0.66091954] Accuracy: 0.6464 ± 0.0252\n",
      "[0.52941176 0.55421687 0.52459016 0.6056338  0.56962025] Precision: 0.5567 ± 0.0295\n",
      "[0.51428571 0.65714286 0.45714286 0.61428571 0.64285714] Recall: 0.5771 ± 0.0780\n",
      "[0.52173913 0.60130719 0.48854962 0.60992908 0.60402685] F1: 0.5651 ± 0.0502\n",
      "[0.60972789 0.65068681 0.58914835 0.67403846 0.65796703] Roc_auc: 0.6363 ± 0.0317\n",
      "Test accuracy: 0.6239\n",
      "Test precision: 0.5326\n",
      "Test recall: 0.5568\n",
      "Test f1_score: 0.5444\n",
      "Test roc_auc: 0.6130\n",
      "Test2 accuracy: 0.6619\n",
      "Test2 precision: 0.4911\n",
      "Test2 recall: 0.5971\n",
      "Test2 f1_score: 0.5390\n",
      "Test2 roc_auc: 0.6455\n",
      "\n",
      "===== MLP =====\n",
      "Best hyperparameters for MLP: {'classifier__activation': 'relu', 'classifier__hidden_layer_sizes': (100,), 'classifier__solver': 'adam'}\n",
      "[0.63428571 0.68390805 0.64367816 0.67816092 0.7183908 ] Accuracy: 0.6717 ± 0.0302\n",
      "[0.56       0.65306122 0.58695652 0.59459459 0.67213115] Precision: 0.6133 ± 0.0423\n",
      "[0.4        0.45714286 0.38571429 0.62857143 0.58571429] Recall: 0.4914 ± 0.0984\n",
      "[0.46666667 0.53781513 0.46551724 0.61111111 0.6259542 ] F1: 0.5414 ± 0.0684\n",
      "[0.60367347 0.75700549 0.68063187 0.73131868 0.76263736] Roc_auc: 0.7071 ± 0.0593\n",
      "Test accuracy: 0.5963\n",
      "Test precision: 0.5000\n",
      "Test recall: 0.3750\n",
      "Test f1_score: 0.4286\n",
      "Test roc_auc: 0.6680\n",
      "Test2 accuracy: 0.6762\n",
      "Test2 precision: 0.5106\n",
      "Test2 recall: 0.5180\n",
      "Test2 f1_score: 0.5143\n",
      "Test2 roc_auc: 0.7065\n",
      "\n",
      "===== Random Forest =====\n",
      "Best hyperparameters for Random Forest: {'classifier__bootstrap': False, 'classifier__max_depth': 20, 'classifier__min_samples_split': 10, 'classifier__n_estimators': 100}\n",
      "[0.72       0.74712644 0.67241379 0.75862069 0.78735632] Accuracy: 0.7371 ± 0.0389\n",
      "[0.69811321 0.70967742 0.61016949 0.69444444 0.7260274 ] Precision: 0.6877 ± 0.0403\n",
      "[0.52857143 0.62857143 0.51428571 0.71428571 0.75714286] Recall: 0.6286 ± 0.0969\n",
      "[0.60162602 0.66666667 0.55813953 0.70422535 0.74125874] F1: 0.6544 ± 0.0667\n",
      "[0.74761905 0.80425824 0.70659341 0.81428571 0.80494505] Roc_auc: 0.7755 ± 0.0418\n",
      "Test accuracy: 0.7248\n",
      "Test precision: 0.6750\n",
      "Test recall: 0.6136\n",
      "Test f1_score: 0.6429\n",
      "Test roc_auc: 0.7677\n",
      "Test2 accuracy: 0.7405\n",
      "Test2 precision: 0.6079\n",
      "Test2 recall: 0.6079\n",
      "Test2 f1_score: 0.6079\n",
      "Test2 roc_auc: 0.7671\n",
      "\n",
      "===== XGBoost =====\n",
      "[0.68571429 0.75287356 0.68965517 0.72988506 0.77011494] Accuracy: 0.7256 ± 0.0335\n",
      "[0.63636364 0.69565217 0.63793103 0.66666667 0.72058824] Precision: 0.6714 ± 0.0328\n",
      "[0.5        0.68571429 0.52857143 0.65714286 0.7       ] Recall: 0.6143 ± 0.0833\n",
      "[0.56       0.69064748 0.578125   0.6618705  0.71014493] F1: 0.6402 ± 0.0603\n",
      "[0.73632653 0.80041209 0.70384615 0.77980769 0.81277473] Roc_auc: 0.7666 ± 0.0408\n",
      "Test accuracy: 0.6835\n",
      "Test precision: 0.6118\n",
      "Test recall: 0.5909\n",
      "Test f1_score: 0.6012\n",
      "Test roc_auc: 0.7502\n",
      "Test2 accuracy: 0.7179\n",
      "Test2 precision: 0.5659\n",
      "Test2 recall: 0.6331\n",
      "Test2 f1_score: 0.5976\n",
      "Test2 roc_auc: 0.7599\n",
      "\n",
      "===== Gaussian NB =====\n",
      "[0.52571429 0.55172414 0.53448276 0.5        0.53448276] Accuracy: 0.5293 ± 0.0169\n",
      "[0.45454545 0.47101449 0.45925926 0.44137931 0.45925926] Precision: 0.4571 ± 0.0096\n",
      "[0.92857143 0.92857143 0.88571429 0.91428571 0.88571429] Recall: 0.9086 ± 0.0194\n",
      "[0.61032864 0.625      0.60487805 0.59534884 0.60487805] F1: 0.6081 ± 0.0097\n",
      "[0.71530612 0.69663462 0.64711538 0.72664835 0.7043956 ] Roc_auc: 0.6980 ± 0.0274\n",
      "Test accuracy: 0.5275\n",
      "Test precision: 0.4586\n",
      "Test recall: 0.9432\n",
      "Test f1_score: 0.6171\n",
      "Test roc_auc: 0.7156\n",
      "Test2 accuracy: 0.4964\n",
      "Test2 precision: 0.3855\n",
      "Test2 recall: 0.8777\n",
      "Test2 f1_score: 0.5357\n",
      "Test2 roc_auc: 0.7092\n",
      "\n",
      "===== KNN =====\n",
      "[0.56       0.66091954 0.68965517 0.5862069  0.61494253] Accuracy: 0.6223 ± 0.0475\n",
      "[0.44067797 0.59016393 0.65384615 0.48076923 0.52727273] Precision: 0.5385 ± 0.0762\n",
      "[0.37142857 0.51428571 0.48571429 0.35714286 0.41428571] Recall: 0.4286 ± 0.0619\n",
      "[0.40310078 0.54961832 0.55737705 0.40983607 0.464     ] F1: 0.4768 ± 0.0661\n",
      "[0.56911565 0.6948489  0.68495879 0.63990385 0.65480769] Roc_auc: 0.6487 ± 0.0445\n",
      "Test accuracy: 0.6193\n",
      "Test precision: 0.5333\n",
      "Test recall: 0.4545\n",
      "Test f1_score: 0.4908\n",
      "Test roc_auc: 0.6379\n",
      "Test2 accuracy: 0.6619\n",
      "Test2 precision: 0.4903\n",
      "Test2 recall: 0.5432\n",
      "Test2 f1_score: 0.5154\n",
      "Test2 roc_auc: 0.6634\n",
      "\n",
      "===== LDA =====\n",
      "[0.72571429 0.71264368 0.63218391 0.74712644 0.7183908 ] Accuracy: 0.7072 ± 0.0393\n",
      "[0.68333333 0.66129032 0.54054054 0.69117647 0.65217391] Precision: 0.6457 ± 0.0545\n",
      "[0.58571429 0.58571429 0.57142857 0.67142857 0.64285714] Recall: 0.6114 ± 0.0388\n",
      "[0.63076923 0.62121212 0.55555556 0.68115942 0.64748201] F1: 0.6272 ± 0.0412\n",
      "[0.78557823 0.78379121 0.68791209 0.77527473 0.75082418] Roc_auc: 0.7567 ± 0.0365\n",
      "Test accuracy: 0.6927\n",
      "Test precision: 0.6180\n",
      "Test recall: 0.6250\n",
      "Test f1_score: 0.6215\n",
      "Test roc_auc: 0.7319\n",
      "Test2 accuracy: 0.7310\n",
      "Test2 precision: 0.5985\n",
      "Test2 recall: 0.5683\n",
      "Test2 f1_score: 0.5830\n",
      "Test2 roc_auc: 0.7647\n",
      "\n"
     ]
    }
   ],
   "source": [
    "from sklearn.datasets import load_iris\n",
    "from sklearn.model_selection import train_test_split, GridSearchCV,  cross_validate\n",
    "from sklearn.linear_model import LogisticRegression\n",
    "from sklearn.tree import DecisionTreeClassifier\n",
    "from sklearn.neural_network import MLPClassifier\n",
    "from sklearn.ensemble import RandomForestClassifier\n",
    "from xgboost import XGBClassifier\n",
    "from sklearn.naive_bayes import GaussianNB\n",
    "from sklearn.neighbors import KNeighborsClassifier\n",
    "from sklearn.discriminant_analysis import LinearDiscriminantAnalysis\n",
    "from sklearn.metrics import accuracy_score, precision_score, recall_score, f1_score, roc_auc_score, make_scorer\n",
    "from sklearn.pipeline import Pipeline\n",
    "import numpy as np\n",
    "\n",
    "# Load dataset and split into training, validation, and testing sets\n",
    "\n",
    "X, y, z = data[X_features], data['y_class'], data['duration']\n",
    "X_train, X_test, y_train, y_test, z_train, z_test = train_test_split(X, y, z, test_size=0.2, random_state=42, stratify=y)\n",
    "\n",
    "##addtional test\n",
    "X_test2, y_test2 = lung[X_features], lung['y_class']\n",
    "\n",
    "# Define models\n",
    "models = {\n",
    "    'Logistic Regression': LogisticRegression(random_state=42),\n",
    "    'Decision Tree': DecisionTreeClassifier(random_state=42),\n",
    "    'MLP': MLPClassifier(early_stopping=True, max_iter=1000,random_state=42),\n",
    "    'Random Forest': RandomForestClassifier(random_state=42),\n",
    "    'XGBoost': XGBClassifier(random_state=42),\n",
    "    'Gaussian NB': GaussianNB(),\n",
    "    'KNN': KNeighborsClassifier(),\n",
    "    'LDA': LinearDiscriminantAnalysis()\n",
    "}\n",
    "\n",
    "# Hyperparameters for grid search\n",
    "param_grids = {\n",
    "    'Random Forest': {\n",
    "        'classifier__n_estimators': [50, 100, 200,300,500],\n",
    "        'classifier__max_depth': [None, 10, 20, 30],\n",
    "        'classifier__min_samples_split': [2, 5, 10],\n",
    "        'classifier__bootstrap':[True,False]\n",
    "    }\n",
    "     ,\n",
    "#     'XGBoost': {\n",
    "#         'classifier__learning_rate': [0.01, 0.05, 0.1],\n",
    "#         'classifier__n_estimators': [100, 200,300,500],\n",
    "#         'classifier__max_depth': [3, 5, 7],\n",
    "#     },\n",
    "    'MLP': {\n",
    "        'classifier__hidden_layer_sizes': [(50,), (100,), (50, 50)],\n",
    "        'classifier__activation': ['relu', 'tanh'],\n",
    "        'classifier__solver': ['adam', 'sgd'],\n",
    "    }\n",
    "}\n",
    "\n",
    "scoring = {\n",
    "    'accuracy': make_scorer(accuracy_score),\n",
    "    'precision': make_scorer(precision_score),\n",
    "    'recall': make_scorer(recall_score),\n",
    "    'f1': make_scorer(f1_score),\n",
    "    'roc_auc': make_scorer(roc_auc_score, needs_proba=True)\n",
    "}\n",
    "\n",
    "for name, model in models.items():\n",
    "    print(f\"===== {name} =====\")\n",
    "    \n",
    "    pipeline = Pipeline([\n",
    "        ('classifier', model)\n",
    "    ])\n",
    "    \n",
    "    # If the model has hyperparameters to tune, apply GridSearchCV\n",
    "    if name in param_grids:\n",
    "        grid_search = GridSearchCV(pipeline, param_grids[name], cv=5, n_jobs=-1)\n",
    "        grid_search.fit(X_train, y_train)\n",
    "        best_pipeline = grid_search.best_estimator_\n",
    "        if name == 'Random Forest':\n",
    "            rf_model = best_pipeline\n",
    "        # Output the best hyperparameters for each model\n",
    "        print(f\"Best hyperparameters for {name}: {grid_search.best_params_}\")\n",
    "    else:\n",
    "        best_pipeline = pipeline\n",
    "        best_pipeline.fit(X_train, y_train)\n",
    "\n",
    "    # Cross-Validation metrics\n",
    "    cv_results = cross_validate(best_pipeline, X_train, y_train, cv=5, scoring=scoring)\n",
    "    \n",
    "    for metric in scoring.keys():\n",
    "        mean_metric = np.mean(cv_results[f'test_{metric}'])\n",
    "        std_metric = np.std(cv_results[f'test_{metric}'])\n",
    "        print(cv_results[f'test_{metric}'],f\"{metric.capitalize()}: {mean_metric:.4f} ± {std_metric:.4f}\")\n",
    "\n",
    "\n",
    "    # Evaluate on the test set\n",
    "    y_test_pred = best_pipeline.predict(X_test)\n",
    "    y_test_proba = best_pipeline.predict_proba(X_test)[:, 1] if hasattr(best_pipeline, 'predict_proba') else None\n",
    "    \n",
    "    # Evaluate on test set\n",
    "    print(f\"Test accuracy: {accuracy_score(y_test, y_test_pred):.4f}\")\n",
    "    print(f\"Test precision: {precision_score(y_test, y_test_pred):.4f}\")\n",
    "    print(f\"Test recall: {recall_score(y_test, y_test_pred):.4f}\")\n",
    "    print(f\"Test f1_score: {f1_score(y_test, y_test_pred):.4f}\")\n",
    "    if y_test_proba is not None:\n",
    "        print(f\"Test roc_auc: {roc_auc_score(y_test, y_test_proba):.4f}\")\n",
    "\n",
    "    # Evaluate on the test set2\n",
    "    y_test_pred2 = best_pipeline.predict(X_test2)\n",
    "    y_test_proba2 = best_pipeline.predict_proba(X_test2)[:, 1] if hasattr(best_pipeline, 'predict_proba') else None\n",
    "\n",
    "    # Evaluate on test set2\n",
    "    print(f\"Test2 accuracy: {accuracy_score(y_test2, y_test_pred2):.4f}\")\n",
    "\n",
    "    unique_labels = np.unique(y_test_pred2)\n",
    "    if len(unique_labels) == 2: # Both classes are present\n",
    "        print(f\"Test2 precision: {precision_score(y_test2, y_test_pred2):.4f}\")\n",
    "        print(f\"Test2 recall: {recall_score(y_test2, y_test_pred2):.4f}\")\n",
    "        print(f\"Test2 f1_score: {f1_score(y_test2, y_test_pred2):.4f}\")\n",
    "    else:\n",
    "        print(f\"Test2 precision: N/A (Only one class present in predictions)\")\n",
    "        print(f\"Test2 recall: N/A (Only one class present in predictions)\")\n",
    "        print(f\"Test2 f1_score: N/A (Only one class present in predictions)\")\n",
    "\n",
    "    if y_test_proba2 is not None:\n",
    "        print(f\"Test2 roc_auc: {roc_auc_score(y_test2, y_test_proba2):.4f}\")\n",
    "        \n",
    "    print()\n"
   ]
  },
  {
   "cell_type": "markdown",
   "id": "bde551cd",
   "metadata": {},
   "source": [
    "# Model breakdown by probability"
   ]
  },
  {
   "cell_type": "code",
   "execution_count": 216,
   "id": "551b01cd",
   "metadata": {},
   "outputs": [
    {
     "data": {
      "text/plain": [
       "Pipeline(steps=[('classifier',\n",
       "                 RandomForestClassifier(bootstrap=False, max_depth=20,\n",
       "                                        min_samples_split=10,\n",
       "                                        random_state=42))])"
      ]
     },
     "execution_count": 216,
     "metadata": {},
     "output_type": "execute_result"
    }
   ],
   "source": [
    "rf_model.fit(X_train, y_train)"
   ]
  },
  {
   "cell_type": "code",
   "execution_count": 225,
   "id": "11fcb85e",
   "metadata": {},
   "outputs": [],
   "source": [
    "## train \n",
    "df_train = X_train.copy()\n",
    "df_train['y_class'] = y_train\n",
    "df_train['duration'] = z_train\n",
    "df_train['pred'] = rf_model.predict(X_train)\n",
    "df_train['proba'] = rf_model.predict_proba(X_train)[:, 1]\n",
    "\n",
    "## test\n",
    "df_test = X_test.copy()\n",
    "df_test['y_class'] = y_test\n",
    "df_test['duration'] = z_test\n",
    "df_test['pred'] = rf_model.predict(X_test)\n",
    "df_test['proba'] = rf_model.predict_proba(X_test)[:, 1]"
   ]
  },
  {
   "cell_type": "markdown",
   "id": "d37e1011",
   "metadata": {},
   "source": [
    "### train set"
   ]
  },
  {
   "cell_type": "code",
   "execution_count": 226,
   "id": "6f658516",
   "metadata": {},
   "outputs": [
    {
     "name": "stdout",
     "output_type": "stream",
     "text": [
      "                                y_class               duration  \\\n",
      "                       Percentage of 1s Count Average Duration   \n",
      "proba_group                                                      \n",
      "0.0-0.2                        0.000000   349       999.939828   \n",
      "0.2-0.4                        2.702703   148      1285.851351   \n",
      "0.4-0.6000000000000001        68.674699    83      2223.060241   \n",
      "0.6-0.8                       98.461538   130      2616.615385   \n",
      "0.8-1.0                      100.000000   161      3056.509317   \n",
      "\n",
      "                                                                  \\\n",
      "                                                          95% CI   \n",
      "proba_group                                                        \n",
      "0.0-0.2                  (955.9745936163271, 1043.9050625441312)   \n",
      "0.2-0.4                  (1202.9008223899316, 1368.801880312771)   \n",
      "0.4-0.6000000000000001  (2000.4113506906497, 2445.7091312370612)   \n",
      "0.6-0.8                   (2469.3373759907395, 2763.89339324003)   \n",
      "0.8-1.0                  (2890.9480689165575, 3222.070564623815)   \n",
      "\n",
      "                                       \n",
      "                              p-value  \n",
      "proba_group                            \n",
      "0.0-0.2                 2.925235e-116  \n",
      "0.2-0.4                  4.164777e-23  \n",
      "0.4-0.6000000000000001   2.388652e-04  \n",
      "0.6-0.8                  2.232765e-20  \n",
      "0.8-1.0                  2.051346e-32  \n"
     ]
    }
   ],
   "source": [
    "# Define bins for the probabilities\n",
    "bins = [i/10 for i in range(0, 11, 2)]\n",
    "labels = [f\"{i}-{i+0.2}\" for i in bins[:-1]]\n",
    "\n",
    "df_train['proba_group'] = pd.cut(df_train['proba'], bins=bins, labels=labels, include_lowest=True)\n",
    "\n",
    "# Function to compute 95% CI for mean\n",
    "def compute_95_ci(array):\n",
    "    sample_mean = array.mean()\n",
    "    sample_std = array.std(ddof=1)\n",
    "    sample_size = len(array)\n",
    "    ci_lower = sample_mean - (1.96 * (sample_std / (sample_size ** 0.5)))\n",
    "    ci_upper = sample_mean + (1.96 * (sample_std / (sample_size ** 0.5)))\n",
    "    return ci_lower, ci_upper\n",
    "\n",
    "# Function to compute p-value against global mean\n",
    "def compute_p_value(array):\n",
    "    global_mean = df_train['duration'].mean()\n",
    "    t_stat, p_val = stats.ttest_1samp(array, global_mean)\n",
    "    return p_val\n",
    "\n",
    "grouped_train = df_train.groupby('proba_group').agg({\n",
    "    'y_class': [(\"Percentage of 1s\", lambda x: (x == 1).mean() * 100), \n",
    "                (\"Count\", 'size')],\n",
    "    'duration': [(\"Average Duration\", 'mean'),\n",
    "                 (\"95% CI\", lambda x: compute_95_ci(x)),\n",
    "                 (\"p-value\", lambda x: compute_p_value(x))]\n",
    "})\n",
    "\n",
    "print(grouped_train)"
   ]
  },
  {
   "cell_type": "markdown",
   "id": "2e95728c",
   "metadata": {},
   "source": [
    "### test set"
   ]
  },
  {
   "cell_type": "code",
   "execution_count": 228,
   "id": "8ae16f28",
   "metadata": {},
   "outputs": [
    {
     "name": "stdout",
     "output_type": "stream",
     "text": [
      "                                y_class               duration  \\\n",
      "                       Percentage of 1s Count Average Duration   \n",
      "proba_group                                                      \n",
      "0.0-0.2                        8.928571    56      1146.375000   \n",
      "0.2-0.4                       33.928571    56      1685.392857   \n",
      "0.4-0.6000000000000001        53.448276    58      2071.931034   \n",
      "0.6-0.8                       63.157895    38      2330.526316   \n",
      "0.8-1.0                       90.000000    10      2416.000000   \n",
      "\n",
      "                                                                                \n",
      "                                                          95% CI       p-value  \n",
      "proba_group                                                                     \n",
      "0.0-0.2                  (977.1784209256743, 1315.5715790743257)  5.258692e-10  \n",
      "0.2-0.4                 (1443.0674834704855, 1927.7182308152287)  3.760087e-01  \n",
      "0.4-0.6000000000000001   (1729.6375387359578, 2414.224530229559)  1.192973e-01  \n",
      "0.6-0.8                  (1944.5410804667604, 2716.511551112187)  9.995036e-03  \n",
      "0.8-1.0                 (1853.1078520987444, 2978.8921479012556)  5.909046e-02  \n"
     ]
    }
   ],
   "source": [
    "# Define bins for the probabilities\n",
    "bins = [i/10 for i in range(0, 11, 2)]\n",
    "labels = [f\"{i}-{i+0.2}\" for i in bins[:-1]]\n",
    "\n",
    "df_test['proba_group'] = pd.cut(df_test['proba'], bins=bins, labels=labels, include_lowest=True)\n",
    "\n",
    "# Function to compute 95% CI for mean\n",
    "def compute_95_ci(array):\n",
    "    sample_mean = array.mean()\n",
    "    sample_std = array.std(ddof=1)\n",
    "    sample_size = len(array)\n",
    "    ci_lower = sample_mean - (1.96 * (sample_std / (sample_size ** 0.5)))\n",
    "    ci_upper = sample_mean + (1.96 * (sample_std / (sample_size ** 0.5)))\n",
    "    return ci_lower, ci_upper\n",
    "\n",
    "# Function to compute p-value against global mean\n",
    "def compute_p_value(array):\n",
    "    global_mean = df_test['duration'].mean()\n",
    "    t_stat, p_val = stats.ttest_1samp(array, global_mean)\n",
    "    return p_val\n",
    "\n",
    "grouped = df_test.groupby('proba_group').agg({\n",
    "    'y_class': [(\"Percentage of 1s\", lambda x: (x == 1).mean() * 100), \n",
    "                (\"Count\", 'size')],\n",
    "    'duration': [(\"Average Duration\", 'mean'),\n",
    "                 (\"95% CI\", lambda x: compute_95_ci(x)),\n",
    "                 (\"p-value\", lambda x: compute_p_value(x))]\n",
    "})\n",
    "\n",
    "print(grouped)"
   ]
  },
  {
   "cell_type": "code",
   "execution_count": 246,
   "id": "96f7d4c0",
   "metadata": {},
   "outputs": [
    {
     "data": {
      "image/png": "[encoded data removed]",
      "text/plain": [
       "<Figure size 720x576 with 1 Axes>"
      ]
     },
     "metadata": {
      "needs_background": "light"
     },
     "output_type": "display_data"
    }
   ],
   "source": [
    "import matplotlib.pyplot as plt\n",
    "from sklearn.calibration import calibration_curve\n",
    "\n",
    "# Predicted probabilities from your model\n",
    "y_proba = df_test['proba']\n",
    "\n",
    "# True outcomes\n",
    "y_true = df_test['y_class']\n",
    "\n",
    "# Get calibrated probabilities and fraction of positives\n",
    "prob_true, prob_pred = calibration_curve(y_true, y_proba, n_bins=5, strategy='uniform')\n",
    "\n",
    "# Plot size modification\n",
    "plt.figure(figsize=(10, 8))\n",
    "\n",
    "# Reference line for a perfectly calibrated model\n",
    "plt.plot([0, 1], [0, 1], 'k:', label='Perfectly Calibrated')\n",
    "plt.plot(prob_pred, prob_true, 's-', label='Random Forest Model')\n",
    "plt.xlabel('Mean Predicted Probability')\n",
    "plt.ylabel('Fraction of True Positives')\n",
    "plt.title('Model Probability Calibration Curve (Testing Set)')\n",
    "plt.legend()\n",
    "\n",
    "# Display the average fraction of positives for each bin\n",
    "for i, txt in enumerate(prob_true):\n",
    "    plt.annotate(f\"{txt:.2f}\", (prob_pred[i], prob_true[i]), fontsize=9, ha='right')\n",
    "\n",
    "plt.show()\n"
   ]
  },
  {
   "cell_type": "code",
   "execution_count": null,
   "id": "f0a444c7",
   "metadata": {},
   "outputs": [],
   "source": [
    "from sklearn.metrics import brier_score_loss\n",
    "\n",
    "score = brier_score_loss(df_test['y_class'], df_test['proba'])\n",
    "print(f\"Brier Score: {score:.4f}\")"
   ]
  },
  {
   "cell_type": "code",
   "execution_count": 266,
   "id": "14df315f",
   "metadata": {},
   "outputs": [
    {
     "data": {
      "image/png": "[encoded data removed]",
      "text/plain": [
       "<Figure size 864x432 with 1 Axes>"
      ]
     },
     "metadata": {
      "needs_background": "light"
     },
     "output_type": "display_data"
    }
   ],
   "source": [
    "import matplotlib.pyplot as plt\n",
    "import numpy as np\n",
    "import scipy.stats\n",
    "\n",
    "# Assuming x, avg_durations, lower_bounds, upper_bounds, and counts are defined as before\n",
    "\n",
    "# Choose a blue color, e.g., 'cornflowerblue'\n",
    "bar_color = 'cornflowerblue'\n",
    "\n",
    "# Create custom tick labels\n",
    "labels = [f\"{group[0]:.1f}-{group[1]:.1f} ({count} trials)\" for group, count in zip(groups, counts)]\n",
    "\n",
    "# Plot\n",
    "plt.figure(figsize=(12, 6))\n",
    "bars = plt.bar(x, avg_durations, yerr=[avg_durations - np.array(lower_bounds), np.array(upper_bounds) - avg_durations], \n",
    "        color=bar_color, alpha=0.7, capsize=10)\n",
    "plt.xticks(x, labels)\n",
    "plt.xlabel('Probability Group')\n",
    "plt.ylabel('Average Duration (days)')\n",
    "plt.title('Average Trial Duration by Probability Group with 95% CI (Testing Set)')\n",
    "plt.tight_layout()\n",
    "\n",
    "# Annotate with mean and CI values\n",
    "for bar, avg, lb, ub in zip(bars, avg_durations, lower_bounds, upper_bounds):\n",
    "    height = bar.get_height()\n",
    "    plt.text(bar.get_x() + bar.get_width()/2.-0.18, height + 50, f\"{int(round(avg))} days\",\n",
    "             ha='center', color='black', fontsize=8)\n",
    "    plt.text(bar.get_x() + bar.get_width()/2., lb - 150, f\"{int(round(lb))} days\",\n",
    "             ha='center', color='red', fontsize=8)\n",
    "    plt.text(bar.get_x() + bar.get_width()/2., ub + 50, f\"{int(round(ub))} days\",\n",
    "             ha='center', color='green', fontsize=8)\n",
    "\n",
    "plt.show()\n"
   ]
  },
  {
   "cell_type": "code",
   "execution_count": 265,
   "id": "164c2704",
   "metadata": {},
   "outputs": [
    {
     "data": {
      "text/plain": [
       "6.619178082191781"
      ]
     },
     "execution_count": 265,
     "metadata": {},
     "output_type": "execute_result"
    }
   ],
   "source": [
    "2416/365"
   ]
  },
  {
   "cell_type": "code",
   "execution_count": 264,
   "id": "285215b5",
   "metadata": {},
   "outputs": [
    {
     "data": {
      "text/plain": [
       "3.1397260273972605"
      ]
     },
     "execution_count": 264,
     "metadata": {},
     "output_type": "execute_result"
    }
   ],
   "source": [
    "1146/365"
   ]
  },
  {
   "cell_type": "markdown",
   "id": "de660359",
   "metadata": {},
   "source": [
    "## 2.5 Random Forest"
   ]
  },
  {
   "cell_type": "code",
   "execution_count": 190,
   "id": "909dba63",
   "metadata": {},
   "outputs": [],
   "source": [
    "# # Load dataset and split into training, validation, and testing sets\n",
    "# X, y = data[X_features], data['y_class']\n",
    "\n",
    "# X_train, X_test, y_train, y_test = train_test_split(X, y, test_size=0.2, random_state=42, stratify=y)\n",
    "\n",
    "# percentages = [0.2,0.4,0.6,0.8,1.0]\n",
    "# results = {}\n",
    "\n",
    "# ##addtional test\n",
    "# X_test2, y_test2 = lung[X_features], lung['y_class']\n",
    "\n",
    "\n",
    "# # Hyperparameters for grid search\n",
    "# param_grid = {\n",
    "#     'rf': {\n",
    "#         'rf__n_estimators': [50, 100, 200,300,500],\n",
    "#         'rf__max_depth': [None, 10, 20, 30],\n",
    "#         'rf__min_samples_split': [2, 5, 10],\n",
    "#         'rf__bootstrap':[True,False]\n",
    "#     }\n",
    "# }\n",
    "\n",
    "# scoring = {\n",
    "#     'accuracy': make_scorer(accuracy_score),\n",
    "#     'precision': make_scorer(precision_score),\n",
    "#     'recall': make_scorer(recall_score),\n",
    "#     'f1': make_scorer(f1_score),\n",
    "#     'roc_auc': make_scorer(roc_auc_score, needs_proba=True)\n",
    "# }\n",
    "\n",
    "\n",
    "\n",
    "# pipeline =  Pipeline([\n",
    "#     ('rf', RandomForestClassifier(random_state = 42))\n",
    "# ])\n",
    "\n",
    "\n",
    "# for perc in percentages:\n",
    "#     subset_size = int(len(X_train) * perc)\n",
    "#     X_train_subset = X_train[:subset_size]\n",
    "#     y_train_subset = y_train[:subset_size]\n",
    "\n",
    "#     # Assuming you have some param_grid defined somewhere for GridSearch\n",
    "#     grid_search = GridSearchCV(pipeline, param_grid['rf'], cv=5)\n",
    "#     grid_search.fit(X_train_subset, y_train_subset)\n",
    "    \n",
    "#     best_pipeline = grid_search.best_estimator_\n",
    "    \n",
    "#     # Cross-Validation metrics\n",
    "#     cv_results = cross_validate(best_pipeline, X_train, y_train, cv=5, scoring=scoring)\n",
    "    \n",
    "#     results[perc] = {\n",
    "#         'best_params': grid_search.best_params_,\n",
    "#         'best_score': grid_search.best_score_,\n",
    "#         'cv_results': cv_results }\n",
    "\n",
    "#     for metric in scoring.keys():\n",
    "#         mean_metric = np.mean(cv_results[f'test_{metric}'])\n",
    "#         std_metric = np.std(cv_results[f'test_{metric}'])\n",
    "\n",
    "#         print(cv_results[f'test_{metric}'],f\"{metric.capitalize()}: {mean_metric:.4f} ± {std_metric:.4f}\")\n",
    "    \n",
    "#     # Evaluate on the test set\n",
    "#     y_test_pred = best_pipeline.predict(X_test)\n",
    "#     y_test_proba = best_pipeline.predict_proba(X_test)[:, 1] if hasattr(best_pipeline, 'predict_proba') else None\n",
    "\n",
    "#     # Evaluate on test set\n",
    "#     print(f\"Test accuracy: {accuracy_score(y_test, y_test_pred):.4f}\")\n",
    "#     print(f\"Test precision: {precision_score(y_test, y_test_pred):.4f}\")\n",
    "#     print(f\"Test recall: {recall_score(y_test, y_test_pred):.4f}\")\n",
    "#     print(f\"Test f1_score: {f1_score(y_test, y_test_pred):.4f}\")\n",
    "#     if y_test_proba is not None:\n",
    "#         print(f\"Test roc_auc: {roc_auc_score(y_test, y_test_proba):.4f}\")\n",
    "\n",
    "#     # Evaluate on the test set2\n",
    "#     y_test_pred2 = best_pipeline.predict(X_test2)\n",
    "#     y_test_proba2 = best_pipeline.predict_proba(X_test2)[:, 1] if hasattr(best_pipeline, 'predict_proba') else None\n",
    "\n",
    "#     # Evaluate on test set2\n",
    "#     print(f\"Test2 accuracy: {accuracy_score(y_test2, y_test_pred2):.4f}\")\n",
    "\n",
    "#     unique_labels = np.unique(y_test_pred2)\n",
    "#     if len(unique_labels) == 2: # Both classes are present\n",
    "#         print(f\"Test2 precision: {precision_score(y_test2, y_test_pred2):.4f}\")\n",
    "#         print(f\"Test2 recall: {recall_score(y_test2, y_test_pred2):.4f}\")\n",
    "#         print(f\"Test2 f1_score: {f1_score(y_test2, y_test_pred2):.4f}\")\n",
    "#     else:\n",
    "#         print(f\"Test2 precision: N/A (Only one class present in predictions)\")\n",
    "#         print(f\"Test2 recall: N/A (Only one class present in predictions)\")\n",
    "#         print(f\"Test2 f1_score: N/A (Only one class present in predictions)\")\n",
    "\n",
    "#     if y_test_proba2 is not None:\n",
    "#         print(f\"Test2 roc_auc: {roc_auc_score(y_test2, y_test_proba2):.4f}\")\n"
   ]
  },
  {
   "cell_type": "code",
   "execution_count": 191,
   "id": "465d4634",
   "metadata": {},
   "outputs": [],
   "source": [
    "# from sklearn.ensemble import RandomForestClassifier\n",
    "# #rf_model = RandomForestClassifier(max_depth=8, n_estimators=100, bootstrap = False, min_samples_split= 10, random_state=42).fit(X_train,y_train)\n",
    "\n",
    "# # Evaluate on the test set\n",
    "# y_test_pred = rf_model.predict(X_test)\n",
    "# y_test_proba = rf_model.predict_proba(X_test)[:, 1]\n",
    "\n",
    "# # Evaluate on test set\n",
    "# print(f\"Test accuracy: {accuracy_score(y_test, y_test_pred):.4f}\")\n",
    "# print(f\"Test precision: {precision_score(y_test, y_test_pred):.4f}\")\n",
    "# print(f\"Test recall: {recall_score(y_test, y_test_pred):.4f}\")\n",
    "# print(f\"Test f1_score: {f1_score(y_test, y_test_pred):.4f}\")\n",
    "# if y_test_proba is not None:\n",
    "#     print(f\"Test roc_auc: {roc_auc_score(y_test, y_test_proba):.4f}\")\n"
   ]
  },
  {
   "cell_type": "markdown",
   "id": "450426a4",
   "metadata": {},
   "source": [
    "## 3. EDA for paper"
   ]
  },
  {
   "cell_type": "code",
   "execution_count": 192,
   "id": "7fe91a69",
   "metadata": {},
   "outputs": [],
   "source": [
    "## 3.1 sample characteristics"
   ]
  },
  {
   "cell_type": "code",
   "execution_count": 193,
   "id": "bc283a22",
   "metadata": {},
   "outputs": [
    {
     "data": {
      "text/plain": [
       "0    521\n",
       "1    350\n",
       "Name: y_class, dtype: int64"
      ]
     },
     "execution_count": 193,
     "metadata": {},
     "output_type": "execute_result"
    }
   ],
   "source": [
    "y_train.value_counts()"
   ]
  },
  {
   "cell_type": "code",
   "execution_count": 194,
   "id": "060c7d33",
   "metadata": {},
   "outputs": [
    {
     "data": {
      "text/plain": [
       "0.4018369690011481"
      ]
     },
     "execution_count": 194,
     "metadata": {},
     "output_type": "execute_result"
    }
   ],
   "source": [
    "350/(350+521)"
   ]
  },
  {
   "cell_type": "code",
   "execution_count": 195,
   "id": "1f4ef945",
   "metadata": {},
   "outputs": [
    {
     "data": {
      "text/plain": [
       "0    130\n",
       "1     88\n",
       "Name: y_class, dtype: int64"
      ]
     },
     "execution_count": 195,
     "metadata": {},
     "output_type": "execute_result"
    }
   ],
   "source": [
    "y_test.value_counts()"
   ]
  },
  {
   "cell_type": "code",
   "execution_count": 196,
   "id": "b720af0e",
   "metadata": {},
   "outputs": [
    {
     "data": {
      "text/plain": [
       "0.4036697247706422"
      ]
     },
     "execution_count": 196,
     "metadata": {},
     "output_type": "execute_result"
    }
   ],
   "source": [
    "88/(88+130)"
   ]
  },
  {
   "cell_type": "code",
   "execution_count": 197,
   "id": "1b0737c4",
   "metadata": {},
   "outputs": [],
   "source": [
    "top12 = [\"enrollment\",\n",
    "\"indus\",\n",
    "\"location_count\",\n",
    "\"number_of_measures\",\n",
    "\"condition_count\",\n",
    "\"intervention_count\",\n",
    "\"national_cancer_institute_(nci)_as_sponsor\",\n",
    "\"measure_aes\",\n",
    "\"label_open\",\n",
    "\"biological_included\",\n",
    "\"ccat\",\n",
    "\"random\"]"
   ]
  },
  {
   "cell_type": "code",
   "execution_count": 198,
   "id": "d15bd99f",
   "metadata": {},
   "outputs": [
    {
     "data": {
      "text/html": [
       "<div>\n",
       "<style scoped>\n",
       "    .dataframe tbody tr th:only-of-type {\n",
       "        vertical-align: middle;\n",
       "    }\n",
       "\n",
       "    .dataframe tbody tr th {\n",
       "        vertical-align: top;\n",
       "    }\n",
       "\n",
       "    .dataframe thead th {\n",
       "        text-align: right;\n",
       "    }\n",
       "</style>\n",
       "<table border=\"1\" class=\"dataframe\">\n",
       "  <thead>\n",
       "    <tr style=\"text-align: right;\">\n",
       "      <th></th>\n",
       "      <th>count</th>\n",
       "      <th>mean</th>\n",
       "      <th>std</th>\n",
       "      <th>min</th>\n",
       "      <th>25%</th>\n",
       "      <th>50%</th>\n",
       "      <th>75%</th>\n",
       "      <th>max</th>\n",
       "    </tr>\n",
       "  </thead>\n",
       "  <tbody>\n",
       "    <tr>\n",
       "      <th>enrollment</th>\n",
       "      <td>871.0</td>\n",
       "      <td>48.755665</td>\n",
       "      <td>57.221954</td>\n",
       "      <td>1.0</td>\n",
       "      <td>20.0</td>\n",
       "      <td>35.0</td>\n",
       "      <td>55.0</td>\n",
       "      <td>686.0</td>\n",
       "    </tr>\n",
       "    <tr>\n",
       "      <th>indus</th>\n",
       "      <td>871.0</td>\n",
       "      <td>0.464983</td>\n",
       "      <td>0.499059</td>\n",
       "      <td>0.0</td>\n",
       "      <td>0.0</td>\n",
       "      <td>0.0</td>\n",
       "      <td>1.0</td>\n",
       "      <td>1.0</td>\n",
       "    </tr>\n",
       "    <tr>\n",
       "      <th>location_count</th>\n",
       "      <td>871.0</td>\n",
       "      <td>5.836969</td>\n",
       "      <td>11.116564</td>\n",
       "      <td>1.0</td>\n",
       "      <td>1.0</td>\n",
       "      <td>2.0</td>\n",
       "      <td>6.0</td>\n",
       "      <td>144.0</td>\n",
       "    </tr>\n",
       "    <tr>\n",
       "      <th>number_of_measures</th>\n",
       "      <td>871.0</td>\n",
       "      <td>6.305396</td>\n",
       "      <td>7.582706</td>\n",
       "      <td>1.0</td>\n",
       "      <td>2.0</td>\n",
       "      <td>4.0</td>\n",
       "      <td>8.0</td>\n",
       "      <td>78.0</td>\n",
       "    </tr>\n",
       "    <tr>\n",
       "      <th>condition_count</th>\n",
       "      <td>871.0</td>\n",
       "      <td>3.740528</td>\n",
       "      <td>6.185203</td>\n",
       "      <td>1.0</td>\n",
       "      <td>1.0</td>\n",
       "      <td>2.0</td>\n",
       "      <td>4.0</td>\n",
       "      <td>85.0</td>\n",
       "    </tr>\n",
       "    <tr>\n",
       "      <th>intervention_count</th>\n",
       "      <td>871.0</td>\n",
       "      <td>2.545350</td>\n",
       "      <td>2.442431</td>\n",
       "      <td>1.0</td>\n",
       "      <td>1.0</td>\n",
       "      <td>2.0</td>\n",
       "      <td>3.0</td>\n",
       "      <td>17.0</td>\n",
       "    </tr>\n",
       "    <tr>\n",
       "      <th>national_cancer_institute_(nci)_as_sponsor</th>\n",
       "      <td>871.0</td>\n",
       "      <td>0.230769</td>\n",
       "      <td>0.421567</td>\n",
       "      <td>0.0</td>\n",
       "      <td>0.0</td>\n",
       "      <td>0.0</td>\n",
       "      <td>0.0</td>\n",
       "      <td>1.0</td>\n",
       "    </tr>\n",
       "    <tr>\n",
       "      <th>measure_aes</th>\n",
       "      <td>871.0</td>\n",
       "      <td>0.342135</td>\n",
       "      <td>0.474697</td>\n",
       "      <td>0.0</td>\n",
       "      <td>0.0</td>\n",
       "      <td>0.0</td>\n",
       "      <td>1.0</td>\n",
       "      <td>1.0</td>\n",
       "    </tr>\n",
       "    <tr>\n",
       "      <th>label_open</th>\n",
       "      <td>871.0</td>\n",
       "      <td>0.913892</td>\n",
       "      <td>0.280685</td>\n",
       "      <td>0.0</td>\n",
       "      <td>1.0</td>\n",
       "      <td>1.0</td>\n",
       "      <td>1.0</td>\n",
       "      <td>1.0</td>\n",
       "    </tr>\n",
       "    <tr>\n",
       "      <th>biological_included</th>\n",
       "      <td>871.0</td>\n",
       "      <td>0.233065</td>\n",
       "      <td>0.423026</td>\n",
       "      <td>0.0</td>\n",
       "      <td>0.0</td>\n",
       "      <td>0.0</td>\n",
       "      <td>0.0</td>\n",
       "      <td>1.0</td>\n",
       "    </tr>\n",
       "    <tr>\n",
       "      <th>ccat</th>\n",
       "      <td>871.0</td>\n",
       "      <td>0.497130</td>\n",
       "      <td>0.500279</td>\n",
       "      <td>0.0</td>\n",
       "      <td>0.0</td>\n",
       "      <td>0.0</td>\n",
       "      <td>1.0</td>\n",
       "      <td>1.0</td>\n",
       "    </tr>\n",
       "    <tr>\n",
       "      <th>random</th>\n",
       "      <td>871.0</td>\n",
       "      <td>0.060850</td>\n",
       "      <td>0.239192</td>\n",
       "      <td>0.0</td>\n",
       "      <td>0.0</td>\n",
       "      <td>0.0</td>\n",
       "      <td>0.0</td>\n",
       "      <td>1.0</td>\n",
       "    </tr>\n",
       "  </tbody>\n",
       "</table>\n",
       "</div>"
      ],
      "text/plain": [
       "                                            count       mean        std  min  \\\n",
       "enrollment                                  871.0  48.755665  57.221954  1.0   \n",
       "indus                                       871.0   0.464983   0.499059  0.0   \n",
       "location_count                              871.0   5.836969  11.116564  1.0   \n",
       "number_of_measures                          871.0   6.305396   7.582706  1.0   \n",
       "condition_count                             871.0   3.740528   6.185203  1.0   \n",
       "intervention_count                          871.0   2.545350   2.442431  1.0   \n",
       "national_cancer_institute_(nci)_as_sponsor  871.0   0.230769   0.421567  0.0   \n",
       "measure_aes                                 871.0   0.342135   0.474697  0.0   \n",
       "label_open                                  871.0   0.913892   0.280685  0.0   \n",
       "biological_included                         871.0   0.233065   0.423026  0.0   \n",
       "ccat                                        871.0   0.497130   0.500279  0.0   \n",
       "random                                      871.0   0.060850   0.239192  0.0   \n",
       "\n",
       "                                             25%   50%   75%    max  \n",
       "enrollment                                  20.0  35.0  55.0  686.0  \n",
       "indus                                        0.0   0.0   1.0    1.0  \n",
       "location_count                               1.0   2.0   6.0  144.0  \n",
       "number_of_measures                           2.0   4.0   8.0   78.0  \n",
       "condition_count                              1.0   2.0   4.0   85.0  \n",
       "intervention_count                           1.0   2.0   3.0   17.0  \n",
       "national_cancer_institute_(nci)_as_sponsor   0.0   0.0   0.0    1.0  \n",
       "measure_aes                                  0.0   0.0   1.0    1.0  \n",
       "label_open                                   1.0   1.0   1.0    1.0  \n",
       "biological_included                          0.0   0.0   0.0    1.0  \n",
       "ccat                                         0.0   0.0   1.0    1.0  \n",
       "random                                       0.0   0.0   0.0    1.0  "
      ]
     },
     "execution_count": 198,
     "metadata": {},
     "output_type": "execute_result"
    }
   ],
   "source": [
    "X_train[top12].describe().T"
   ]
  },
  {
   "cell_type": "code",
   "execution_count": 199,
   "id": "43d6f7f4",
   "metadata": {},
   "outputs": [
    {
     "data": {
      "text/html": [
       "<div>\n",
       "<style scoped>\n",
       "    .dataframe tbody tr th:only-of-type {\n",
       "        vertical-align: middle;\n",
       "    }\n",
       "\n",
       "    .dataframe tbody tr th {\n",
       "        vertical-align: top;\n",
       "    }\n",
       "\n",
       "    .dataframe thead th {\n",
       "        text-align: right;\n",
       "    }\n",
       "</style>\n",
       "<table border=\"1\" class=\"dataframe\">\n",
       "  <thead>\n",
       "    <tr style=\"text-align: right;\">\n",
       "      <th></th>\n",
       "      <th>count</th>\n",
       "      <th>mean</th>\n",
       "      <th>std</th>\n",
       "      <th>min</th>\n",
       "      <th>25%</th>\n",
       "      <th>50%</th>\n",
       "      <th>75%</th>\n",
       "      <th>max</th>\n",
       "    </tr>\n",
       "  </thead>\n",
       "  <tbody>\n",
       "    <tr>\n",
       "      <th>enrollment</th>\n",
       "      <td>218.0</td>\n",
       "      <td>50.364167</td>\n",
       "      <td>62.890269</td>\n",
       "      <td>1.0</td>\n",
       "      <td>18.0</td>\n",
       "      <td>32.0</td>\n",
       "      <td>56.00</td>\n",
       "      <td>582.0</td>\n",
       "    </tr>\n",
       "    <tr>\n",
       "      <th>indus</th>\n",
       "      <td>218.0</td>\n",
       "      <td>0.481651</td>\n",
       "      <td>0.500813</td>\n",
       "      <td>0.0</td>\n",
       "      <td>0.0</td>\n",
       "      <td>0.0</td>\n",
       "      <td>1.00</td>\n",
       "      <td>1.0</td>\n",
       "    </tr>\n",
       "    <tr>\n",
       "      <th>location_count</th>\n",
       "      <td>218.0</td>\n",
       "      <td>5.857798</td>\n",
       "      <td>9.362291</td>\n",
       "      <td>1.0</td>\n",
       "      <td>1.0</td>\n",
       "      <td>2.0</td>\n",
       "      <td>6.75</td>\n",
       "      <td>79.0</td>\n",
       "    </tr>\n",
       "    <tr>\n",
       "      <th>number_of_measures</th>\n",
       "      <td>218.0</td>\n",
       "      <td>5.922018</td>\n",
       "      <td>6.626185</td>\n",
       "      <td>1.0</td>\n",
       "      <td>2.0</td>\n",
       "      <td>4.0</td>\n",
       "      <td>7.00</td>\n",
       "      <td>52.0</td>\n",
       "    </tr>\n",
       "    <tr>\n",
       "      <th>condition_count</th>\n",
       "      <td>218.0</td>\n",
       "      <td>4.073394</td>\n",
       "      <td>7.590567</td>\n",
       "      <td>1.0</td>\n",
       "      <td>1.0</td>\n",
       "      <td>2.0</td>\n",
       "      <td>4.00</td>\n",
       "      <td>67.0</td>\n",
       "    </tr>\n",
       "    <tr>\n",
       "      <th>intervention_count</th>\n",
       "      <td>218.0</td>\n",
       "      <td>2.339450</td>\n",
       "      <td>1.884793</td>\n",
       "      <td>1.0</td>\n",
       "      <td>1.0</td>\n",
       "      <td>2.0</td>\n",
       "      <td>3.00</td>\n",
       "      <td>11.0</td>\n",
       "    </tr>\n",
       "    <tr>\n",
       "      <th>national_cancer_institute_(nci)_as_sponsor</th>\n",
       "      <td>218.0</td>\n",
       "      <td>0.243119</td>\n",
       "      <td>0.429954</td>\n",
       "      <td>0.0</td>\n",
       "      <td>0.0</td>\n",
       "      <td>0.0</td>\n",
       "      <td>0.00</td>\n",
       "      <td>1.0</td>\n",
       "    </tr>\n",
       "    <tr>\n",
       "      <th>measure_aes</th>\n",
       "      <td>218.0</td>\n",
       "      <td>0.344037</td>\n",
       "      <td>0.476146</td>\n",
       "      <td>0.0</td>\n",
       "      <td>0.0</td>\n",
       "      <td>0.0</td>\n",
       "      <td>1.00</td>\n",
       "      <td>1.0</td>\n",
       "    </tr>\n",
       "    <tr>\n",
       "      <th>label_open</th>\n",
       "      <td>218.0</td>\n",
       "      <td>0.917431</td>\n",
       "      <td>0.275863</td>\n",
       "      <td>0.0</td>\n",
       "      <td>1.0</td>\n",
       "      <td>1.0</td>\n",
       "      <td>1.00</td>\n",
       "      <td>1.0</td>\n",
       "    </tr>\n",
       "    <tr>\n",
       "      <th>biological_included</th>\n",
       "      <td>218.0</td>\n",
       "      <td>0.197248</td>\n",
       "      <td>0.398837</td>\n",
       "      <td>0.0</td>\n",
       "      <td>0.0</td>\n",
       "      <td>0.0</td>\n",
       "      <td>0.00</td>\n",
       "      <td>1.0</td>\n",
       "    </tr>\n",
       "    <tr>\n",
       "      <th>ccat</th>\n",
       "      <td>218.0</td>\n",
       "      <td>0.509174</td>\n",
       "      <td>0.501066</td>\n",
       "      <td>0.0</td>\n",
       "      <td>0.0</td>\n",
       "      <td>1.0</td>\n",
       "      <td>1.00</td>\n",
       "      <td>1.0</td>\n",
       "    </tr>\n",
       "    <tr>\n",
       "      <th>random</th>\n",
       "      <td>218.0</td>\n",
       "      <td>0.077982</td>\n",
       "      <td>0.268760</td>\n",
       "      <td>0.0</td>\n",
       "      <td>0.0</td>\n",
       "      <td>0.0</td>\n",
       "      <td>0.00</td>\n",
       "      <td>1.0</td>\n",
       "    </tr>\n",
       "  </tbody>\n",
       "</table>\n",
       "</div>"
      ],
      "text/plain": [
       "                                            count       mean        std  min  \\\n",
       "enrollment                                  218.0  50.364167  62.890269  1.0   \n",
       "indus                                       218.0   0.481651   0.500813  0.0   \n",
       "location_count                              218.0   5.857798   9.362291  1.0   \n",
       "number_of_measures                          218.0   5.922018   6.626185  1.0   \n",
       "condition_count                             218.0   4.073394   7.590567  1.0   \n",
       "intervention_count                          218.0   2.339450   1.884793  1.0   \n",
       "national_cancer_institute_(nci)_as_sponsor  218.0   0.243119   0.429954  0.0   \n",
       "measure_aes                                 218.0   0.344037   0.476146  0.0   \n",
       "label_open                                  218.0   0.917431   0.275863  0.0   \n",
       "biological_included                         218.0   0.197248   0.398837  0.0   \n",
       "ccat                                        218.0   0.509174   0.501066  0.0   \n",
       "random                                      218.0   0.077982   0.268760  0.0   \n",
       "\n",
       "                                             25%   50%    75%    max  \n",
       "enrollment                                  18.0  32.0  56.00  582.0  \n",
       "indus                                        0.0   0.0   1.00    1.0  \n",
       "location_count                               1.0   2.0   6.75   79.0  \n",
       "number_of_measures                           2.0   4.0   7.00   52.0  \n",
       "condition_count                              1.0   2.0   4.00   67.0  \n",
       "intervention_count                           1.0   2.0   3.00   11.0  \n",
       "national_cancer_institute_(nci)_as_sponsor   0.0   0.0   0.00    1.0  \n",
       "measure_aes                                  0.0   0.0   1.00    1.0  \n",
       "label_open                                   1.0   1.0   1.00    1.0  \n",
       "biological_included                          0.0   0.0   0.00    1.0  \n",
       "ccat                                         0.0   1.0   1.00    1.0  \n",
       "random                                       0.0   0.0   0.00    1.0  "
      ]
     },
     "execution_count": 199,
     "metadata": {},
     "output_type": "execute_result"
    }
   ],
   "source": [
    "X_test[top12].describe().T"
   ]
  }
 ],
 "metadata": {
  "kernelspec": {
   "display_name": "Python 3 (ipykernel)",
   "language": "python",
   "name": "python3"
  },
  "language_info": {
   "codemirror_mode": {
    "name": "ipython",
    "version": 3
   },
   "file_extension": ".py",
   "mimetype": "text/x-python",
   "name": "python",
   "nbconvert_exporter": "python",
   "pygments_lexer": "ipython3",
   "version": "3.9.7"
  }
 },
 "nbformat": 4,
 "nbformat_minor": 5
}
