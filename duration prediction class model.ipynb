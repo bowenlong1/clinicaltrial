{
 "cells": [
  {
   "cell_type": "code",
   "execution_count": 1,
   "id": "cde74beb",
   "metadata": {},
   "outputs": [],
   "source": [
    "import numpy as np\n",
    "import pandas as pd\n",
    "import datetime as dt\n",
    "import re\n",
    "import matplotlib.pyplot as plt\n",
    "from collections import Counter"
   ]
  },
  {
   "cell_type": "code",
   "execution_count": 2,
   "id": "8a818286",
   "metadata": {},
   "outputs": [],
   "source": [
    "import warnings\n",
    "warnings.filterwarnings(\"ignore\")"
   ]
  },
  {
   "cell_type": "code",
   "execution_count": 3,
   "id": "1d4d6268",
   "metadata": {},
   "outputs": [],
   "source": [
    "df1 = pd.read_csv('duration eda_bowen.csv')"
   ]
  },
  {
   "cell_type": "code",
   "execution_count": 4,
   "id": "33babc59",
   "metadata": {},
   "outputs": [
    {
     "data": {
      "text/plain": [
       "Index(['Unnamed: 0', 'rank', 'nct number', 'title', 'acronym', 'status',\n",
       "       'study results', 'conditions', 'interventions', 'outcome measures',\n",
       "       'sponsor/collaborators', 'gender', 'age', 'phases', 'enrollment',\n",
       "       'funded bys', 'study type', 'study designs', 'other ids', 'start date',\n",
       "       'primary completion date', 'completion date', 'first posted',\n",
       "       'results first posted', 'last update posted', 'locations',\n",
       "       'study documents', 'url', 'duration', 'ftype2', 'cond1', 'allocation',\n",
       "       'interv_mod2', 'mask1', 'purp1'],\n",
       "      dtype='object')"
      ]
     },
     "execution_count": 4,
     "metadata": {},
     "output_type": "execute_result"
    }
   ],
   "source": [
    "df1.columns"
   ]
  },
  {
   "cell_type": "code",
   "execution_count": 5,
   "id": "cafa27a7",
   "metadata": {},
   "outputs": [
    {
     "data": {
      "text/plain": [
       "0       maximum tolerated dose|toxicity profile of et1...\n",
       "1       mtd of everolimus in combination with r-chop|a...\n",
       "2       safety and tolerability of parsaclisib in comb...\n",
       "3       percentage of participants who experienced a d...\n",
       "4       incidence rate of dose-limiting toxicities (dl...\n",
       "                              ...                        \n",
       "1084    maximum tolerated dose (mtd)|number of partici...\n",
       "1085    assess safety and feasibility of monoclonal ab...\n",
       "1086                                                  NaN\n",
       "1087                                                  NaN\n",
       "1088    phase i: maximum tolerated dose|phase ii: anti...\n",
       "Name: outcome measures, Length: 1089, dtype: object"
      ]
     },
     "execution_count": 5,
     "metadata": {},
     "output_type": "execute_result"
    }
   ],
   "source": [
    "df1['outcome measures'].str.lower()"
   ]
  },
  {
   "cell_type": "code",
   "execution_count": 6,
   "id": "9c5d14cb",
   "metadata": {},
   "outputs": [],
   "source": [
    "df1 = df1.rename(columns = {'nct number':'nct_number'})"
   ]
  },
  {
   "cell_type": "code",
   "execution_count": 7,
   "id": "5a3589ce",
   "metadata": {},
   "outputs": [],
   "source": [
    "df2 = pd.read_csv('updated_data (2).csv')"
   ]
  },
  {
   "cell_type": "code",
   "execution_count": 8,
   "id": "9abb6a24",
   "metadata": {},
   "outputs": [
    {
     "data": {
      "text/plain": [
       "Index(['rank', 'nct_number', 'title', 'acronym', 'status', 'study_results',\n",
       "       'conditions', 'interventions', 'outcome_measures',\n",
       "       'sponsor/collaborators', 'gender', 'age', 'phases', 'enrollment',\n",
       "       'funded_bys', 'study_type', 'study_designs', 'other_ids',\n",
       "       'results_first_posted', 'locations', 'study_documents', 'url',\n",
       "       'duration', 'measure_PFS', 'measure_MTD', 'measure_Cmax', 'measure_OS',\n",
       "       'measure_DOR', 'measure_DLT', 'measure_', 'measure_AEs', 'measure_Tmax',\n",
       "       'measure_ORR', 'number_of_measures', 'drug_included',\n",
       "       'biological_included', 'other_included', 'procedure_included',\n",
       "       'intervention_count', 'multiple_interverions',\n",
       "       'include_country_United States', 'include_country_France',\n",
       "       'include_country_United Kingdom', 'include_country_Germany',\n",
       "       'lead_country', 'location_count', 'multiple_locations', 'pfizer',\n",
       "       'NCI_as_sponsor', 'Pfizer_as_sponsor',\n",
       "       'National Cancer Institute (NCI)',\n",
       "       'National Institutes of Health Clinical Center (CC)',\n",
       "       'M.D. Anderson Cancer Center', 'Celgene',\n",
       "       'Millennium Pharmaceuticals, Inc.'],\n",
       "      dtype='object')"
      ]
     },
     "execution_count": 8,
     "metadata": {},
     "output_type": "execute_result"
    }
   ],
   "source": [
    "df2.columns"
   ]
  },
  {
   "cell_type": "code",
   "execution_count": 10,
   "id": "5e4673df",
   "metadata": {},
   "outputs": [],
   "source": [
    "df = df1.merge(df2[['nct_number','measure_PFS', 'measure_MTD', 'measure_Cmax', 'measure_OS',\n",
    "       'measure_DOR', 'measure_DLT', 'measure_', 'measure_AEs', 'measure_Tmax',\n",
    "       'measure_ORR', 'number_of_measures', 'drug_included',\n",
    "       'biological_included', 'other_included', 'procedure_included',\n",
    "       'intervention_count', 'multiple_interverions',\n",
    "       'include_country_United States', 'include_country_France',\n",
    "       'include_country_United Kingdom', 'include_country_Germany',\n",
    "       'lead_country', 'location_count', 'multiple_locations']], how = 'left')"
   ]
  },
  {
   "cell_type": "code",
   "execution_count": 11,
   "id": "1fcf7714",
   "metadata": {},
   "outputs": [],
   "source": [
    "df.columns = df.columns.str.lower()"
   ]
  },
  {
   "cell_type": "markdown",
   "id": "382067b4",
   "metadata": {},
   "source": [
    "## add variables from Fangya"
   ]
  },
  {
   "cell_type": "code",
   "execution_count": 39,
   "id": "c4abbcba",
   "metadata": {},
   "outputs": [],
   "source": [
    "## 1. sponsor/collaborator"
   ]
  },
  {
   "cell_type": "code",
   "execution_count": 12,
   "id": "90d72d6c",
   "metadata": {},
   "outputs": [],
   "source": [
    "spon = \" \".join(df[\"sponsor/collaborators\"].str.split('|').explode(\"sponsor/collaborators\")).lower().split(\" \")"
   ]
  },
  {
   "cell_type": "code",
   "execution_count": 13,
   "id": "e33a9612",
   "metadata": {},
   "outputs": [
    {
     "data": {
      "text/html": [
       "<div>\n",
       "<style scoped>\n",
       "    .dataframe tbody tr th:only-of-type {\n",
       "        vertical-align: middle;\n",
       "    }\n",
       "\n",
       "    .dataframe tbody tr th {\n",
       "        vertical-align: top;\n",
       "    }\n",
       "\n",
       "    .dataframe thead th {\n",
       "        text-align: right;\n",
       "    }\n",
       "</style>\n",
       "<table border=\"1\" class=\"dataframe\">\n",
       "  <thead>\n",
       "    <tr style=\"text-align: right;\">\n",
       "      <th></th>\n",
       "      <th>index</th>\n",
       "      <th>0</th>\n",
       "    </tr>\n",
       "  </thead>\n",
       "  <tbody>\n",
       "    <tr>\n",
       "      <th>12</th>\n",
       "      <td>cancer</td>\n",
       "      <td>475</td>\n",
       "    </tr>\n",
       "    <tr>\n",
       "      <th>11</th>\n",
       "      <td>national</td>\n",
       "      <td>338</td>\n",
       "    </tr>\n",
       "    <tr>\n",
       "      <th>13</th>\n",
       "      <td>institute</td>\n",
       "      <td>312</td>\n",
       "    </tr>\n",
       "    <tr>\n",
       "      <th>14</th>\n",
       "      <td>(nci)</td>\n",
       "      <td>254</td>\n",
       "    </tr>\n",
       "    <tr>\n",
       "      <th>36</th>\n",
       "      <td>center</td>\n",
       "      <td>250</td>\n",
       "    </tr>\n",
       "    <tr>\n",
       "      <th>4</th>\n",
       "      <td>university</td>\n",
       "      <td>232</td>\n",
       "    </tr>\n",
       "    <tr>\n",
       "      <th>58</th>\n",
       "      <td>of</td>\n",
       "      <td>231</td>\n",
       "    </tr>\n",
       "    <tr>\n",
       "      <th>2</th>\n",
       "      <td>inc.</td>\n",
       "      <td>184</td>\n",
       "    </tr>\n",
       "    <tr>\n",
       "      <th>59</th>\n",
       "      <td>health</td>\n",
       "      <td>78</td>\n",
       "    </tr>\n",
       "    <tr>\n",
       "      <th>7</th>\n",
       "      <td>clinical</td>\n",
       "      <td>78</td>\n",
       "    </tr>\n",
       "    <tr>\n",
       "      <th>25</th>\n",
       "      <td>research</td>\n",
       "      <td>76</td>\n",
       "    </tr>\n",
       "    <tr>\n",
       "      <th>48</th>\n",
       "      <td>hospital</td>\n",
       "      <td>68</td>\n",
       "    </tr>\n",
       "    <tr>\n",
       "      <th>30</th>\n",
       "      <td>pharmaceuticals</td>\n",
       "      <td>66</td>\n",
       "    </tr>\n",
       "    <tr>\n",
       "      <th>66</th>\n",
       "      <td>medical</td>\n",
       "      <td>65</td>\n",
       "    </tr>\n",
       "    <tr>\n",
       "      <th>57</th>\n",
       "      <td>institutes</td>\n",
       "      <td>61</td>\n",
       "    </tr>\n",
       "    <tr>\n",
       "      <th>105</th>\n",
       "      <td>and</td>\n",
       "      <td>60</td>\n",
       "    </tr>\n",
       "    <tr>\n",
       "      <th>167</th>\n",
       "      <td>(cc)</td>\n",
       "      <td>59</td>\n",
       "    </tr>\n",
       "    <tr>\n",
       "      <th>43</th>\n",
       "      <td>novartis</td>\n",
       "      <td>56</td>\n",
       "    </tr>\n",
       "    <tr>\n",
       "      <th>98</th>\n",
       "      <td>celgene</td>\n",
       "      <td>52</td>\n",
       "    </tr>\n",
       "    <tr>\n",
       "      <th>35</th>\n",
       "      <td>anderson</td>\n",
       "      <td>50</td>\n",
       "    </tr>\n",
       "  </tbody>\n",
       "</table>\n",
       "</div>"
      ],
      "text/plain": [
       "               index    0\n",
       "12            cancer  475\n",
       "11          national  338\n",
       "13         institute  312\n",
       "14             (nci)  254\n",
       "36            center  250\n",
       "4         university  232\n",
       "58                of  231\n",
       "2               inc.  184\n",
       "59            health   78\n",
       "7           clinical   78\n",
       "25          research   76\n",
       "48          hospital   68\n",
       "30   pharmaceuticals   66\n",
       "66           medical   65\n",
       "57        institutes   61\n",
       "105              and   60\n",
       "167             (cc)   59\n",
       "43          novartis   56\n",
       "98           celgene   52\n",
       "35          anderson   50"
      ]
     },
     "execution_count": 13,
     "metadata": {},
     "output_type": "execute_result"
    }
   ],
   "source": [
    "pd.DataFrame.from_dict(Counter(spon), orient='index').reset_index().sort_values(by=0, ascending = False)[:20]"
   ]
  },
  {
   "cell_type": "code",
   "execution_count": 14,
   "id": "5f237a8f",
   "metadata": {},
   "outputs": [],
   "source": [
    "values=[\"university\", \"academic\", \"research\" ,\"hospital\", \"nci\", \"institute\"]\n",
    "# Industry vs Academic\n",
    "df['np_spon'] = np.where(df[\"sponsor/collaborators\"].str.lower().str.contains('|'.join(values)),1 ,0)"
   ]
  },
  {
   "cell_type": "code",
   "execution_count": 15,
   "id": "eee07761",
   "metadata": {},
   "outputs": [
    {
     "data": {
      "text/plain": [
       "0              Eureka Therapeutics Inc.|Peking University\n",
       "1       Alliance for Clinical Trials in Oncology|Natio...\n",
       "2                                      Incyte Corporation\n",
       "3                      Beijing Mabworks Biotech Co., Ltd.\n",
       "4       The Lymphoma Academic Research Organisation|Ka...\n",
       "                              ...                        \n",
       "1084                          M.D. Anderson Cancer Center\n",
       "1085    Baylor College of Medicine|The Methodist Hospi...\n",
       "1086    Northwestern University|National Cancer Instit...\n",
       "1087    Northwestern University|National Cancer Instit...\n",
       "1088                         Philogen S.p.A.|Eudax S.r.l.\n",
       "Name: sponsor/collaborators, Length: 1089, dtype: object"
      ]
     },
     "execution_count": 15,
     "metadata": {},
     "output_type": "execute_result"
    }
   ],
   "source": [
    "df[\"sponsor/collaborators\"]"
   ]
  },
  {
   "cell_type": "code",
   "execution_count": 16,
   "id": "e81b47bc",
   "metadata": {},
   "outputs": [
    {
     "data": {
      "text/html": [
       "<div>\n",
       "<style scoped>\n",
       "    .dataframe tbody tr th:only-of-type {\n",
       "        vertical-align: middle;\n",
       "    }\n",
       "\n",
       "    .dataframe tbody tr th {\n",
       "        vertical-align: top;\n",
       "    }\n",
       "\n",
       "    .dataframe thead th {\n",
       "        text-align: right;\n",
       "    }\n",
       "</style>\n",
       "<table border=\"1\" class=\"dataframe\">\n",
       "  <thead>\n",
       "    <tr style=\"text-align: right;\">\n",
       "      <th></th>\n",
       "      <th>count</th>\n",
       "      <th>mean</th>\n",
       "    </tr>\n",
       "    <tr>\n",
       "      <th>np_spon</th>\n",
       "      <th></th>\n",
       "      <th></th>\n",
       "    </tr>\n",
       "  </thead>\n",
       "  <tbody>\n",
       "    <tr>\n",
       "      <th>0</th>\n",
       "      <td>567</td>\n",
       "      <td>1515.696649</td>\n",
       "    </tr>\n",
       "    <tr>\n",
       "      <th>1</th>\n",
       "      <td>522</td>\n",
       "      <td>2084.536398</td>\n",
       "    </tr>\n",
       "  </tbody>\n",
       "</table>\n",
       "</div>"
      ],
      "text/plain": [
       "         count         mean\n",
       "np_spon                    \n",
       "0          567  1515.696649\n",
       "1          522  2084.536398"
      ]
     },
     "execution_count": 16,
     "metadata": {},
     "output_type": "execute_result"
    }
   ],
   "source": [
    "df.groupby('np_spon')['duration'].agg(['count', 'mean'])"
   ]
  },
  {
   "cell_type": "code",
   "execution_count": 42,
   "id": "ebb2dd7b",
   "metadata": {},
   "outputs": [],
   "source": [
    "## 2. age - contains child"
   ]
  },
  {
   "cell_type": "code",
   "execution_count": 17,
   "id": "4ccc3a26",
   "metadata": {},
   "outputs": [],
   "source": [
    "age = \" \".join(df[\"age\"].str.split('|').explode(\"age\")).lower().split(\" \")"
   ]
  },
  {
   "cell_type": "code",
   "execution_count": 18,
   "id": "2bc4ae5a",
   "metadata": {},
   "outputs": [
    {
     "data": {
      "text/html": [
       "<div>\n",
       "<style scoped>\n",
       "    .dataframe tbody tr th:only-of-type {\n",
       "        vertical-align: middle;\n",
       "    }\n",
       "\n",
       "    .dataframe tbody tr th {\n",
       "        vertical-align: top;\n",
       "    }\n",
       "\n",
       "    .dataframe thead th {\n",
       "        text-align: right;\n",
       "    }\n",
       "</style>\n",
       "<table border=\"1\" class=\"dataframe\">\n",
       "  <thead>\n",
       "    <tr style=\"text-align: right;\">\n",
       "      <th></th>\n",
       "      <th>index</th>\n",
       "      <th>0</th>\n",
       "    </tr>\n",
       "  </thead>\n",
       "  <tbody>\n",
       "    <tr>\n",
       "      <th>3</th>\n",
       "      <td>older</td>\n",
       "      <td>1680</td>\n",
       "    </tr>\n",
       "    <tr>\n",
       "      <th>1</th>\n",
       "      <td>years</td>\n",
       "      <td>1289</td>\n",
       "    </tr>\n",
       "    <tr>\n",
       "      <th>4</th>\n",
       "      <td></td>\n",
       "      <td>1049</td>\n",
       "    </tr>\n",
       "    <tr>\n",
       "      <th>6</th>\n",
       "      <td>adult)</td>\n",
       "      <td>1013</td>\n",
       "    </tr>\n",
       "    <tr>\n",
       "      <th>5</th>\n",
       "      <td>(adult,</td>\n",
       "      <td>844</td>\n",
       "    </tr>\n",
       "    <tr>\n",
       "      <th>0</th>\n",
       "      <td>18</td>\n",
       "      <td>827</td>\n",
       "    </tr>\n",
       "    <tr>\n",
       "      <th>2</th>\n",
       "      <td>and</td>\n",
       "      <td>713</td>\n",
       "    </tr>\n",
       "    <tr>\n",
       "      <th>7</th>\n",
       "      <td>to</td>\n",
       "      <td>336</td>\n",
       "    </tr>\n",
       "    <tr>\n",
       "      <th>15</th>\n",
       "      <td>(child,</td>\n",
       "      <td>166</td>\n",
       "    </tr>\n",
       "    <tr>\n",
       "      <th>16</th>\n",
       "      <td>adult,</td>\n",
       "      <td>123</td>\n",
       "    </tr>\n",
       "    <tr>\n",
       "      <th>8</th>\n",
       "      <td>70</td>\n",
       "      <td>44</td>\n",
       "    </tr>\n",
       "    <tr>\n",
       "      <th>37</th>\n",
       "      <td>up</td>\n",
       "      <td>43</td>\n",
       "    </tr>\n",
       "    <tr>\n",
       "      <th>21</th>\n",
       "      <td>adult</td>\n",
       "      <td>40</td>\n",
       "    </tr>\n",
       "    <tr>\n",
       "      <th>18</th>\n",
       "      <td>75</td>\n",
       "      <td>40</td>\n",
       "    </tr>\n",
       "    <tr>\n",
       "      <th>20</th>\n",
       "      <td>child,</td>\n",
       "      <td>40</td>\n",
       "    </tr>\n",
       "    <tr>\n",
       "      <th>9</th>\n",
       "      <td>20</td>\n",
       "      <td>38</td>\n",
       "    </tr>\n",
       "    <tr>\n",
       "      <th>13</th>\n",
       "      <td>1</td>\n",
       "      <td>37</td>\n",
       "    </tr>\n",
       "    <tr>\n",
       "      <th>19</th>\n",
       "      <td>65</td>\n",
       "      <td>37</td>\n",
       "    </tr>\n",
       "    <tr>\n",
       "      <th>14</th>\n",
       "      <td>year</td>\n",
       "      <td>36</td>\n",
       "    </tr>\n",
       "    <tr>\n",
       "      <th>26</th>\n",
       "      <td>21</td>\n",
       "      <td>32</td>\n",
       "    </tr>\n",
       "  </tbody>\n",
       "</table>\n",
       "</div>"
      ],
      "text/plain": [
       "      index     0\n",
       "3     older  1680\n",
       "1     years  1289\n",
       "4            1049\n",
       "6    adult)  1013\n",
       "5   (adult,   844\n",
       "0        18   827\n",
       "2       and   713\n",
       "7        to   336\n",
       "15  (child,   166\n",
       "16   adult,   123\n",
       "8        70    44\n",
       "37       up    43\n",
       "21    adult    40\n",
       "18       75    40\n",
       "20   child,    40\n",
       "9        20    38\n",
       "13        1    37\n",
       "19       65    37\n",
       "14     year    36\n",
       "26       21    32"
      ]
     },
     "execution_count": 18,
     "metadata": {},
     "output_type": "execute_result"
    }
   ],
   "source": [
    "pd.DataFrame.from_dict(Counter(age), orient='index').reset_index().sort_values(by=0, ascending = False)[:20]"
   ]
  },
  {
   "cell_type": "code",
   "execution_count": 19,
   "id": "8b7393fa",
   "metadata": {},
   "outputs": [],
   "source": [
    "df['adult_include']=np.where(df[\"age\"].str.lower().str.contains(\"adult\"),1 ,0)\n",
    "df['child_include']=np.where(df[\"age\"].str.lower().str.contains(\"child\"),1 ,0)"
   ]
  },
  {
   "cell_type": "code",
   "execution_count": null,
   "id": "bb2c8bec",
   "metadata": {},
   "outputs": [],
   "source": [
    "## title"
   ]
  },
  {
   "cell_type": "code",
   "execution_count": 20,
   "id": "b90ba214",
   "metadata": {},
   "outputs": [],
   "source": [
    "title = \" \".join(df[\"title\"].str.split('|').explode(\"title\")).lower().split(\" \")"
   ]
  },
  {
   "cell_type": "code",
   "execution_count": 21,
   "id": "ad3f5a20",
   "metadata": {},
   "outputs": [
    {
     "data": {
      "text/html": [
       "<div>\n",
       "<style scoped>\n",
       "    .dataframe tbody tr th:only-of-type {\n",
       "        vertical-align: middle;\n",
       "    }\n",
       "\n",
       "    .dataframe tbody tr th {\n",
       "        vertical-align: top;\n",
       "    }\n",
       "\n",
       "    .dataframe thead th {\n",
       "        text-align: right;\n",
       "    }\n",
       "</style>\n",
       "<table border=\"1\" class=\"dataframe\">\n",
       "  <thead>\n",
       "    <tr style=\"text-align: right;\">\n",
       "      <th></th>\n",
       "      <th>index</th>\n",
       "      <th>0</th>\n",
       "    </tr>\n",
       "  </thead>\n",
       "  <tbody>\n",
       "    <tr>\n",
       "      <th>5</th>\n",
       "      <td>in</td>\n",
       "      <td>929</td>\n",
       "    </tr>\n",
       "    <tr>\n",
       "      <th>18</th>\n",
       "      <td>with</td>\n",
       "      <td>867</td>\n",
       "    </tr>\n",
       "    <tr>\n",
       "      <th>2</th>\n",
       "      <td>of</td>\n",
       "      <td>699</td>\n",
       "    </tr>\n",
       "    <tr>\n",
       "      <th>13</th>\n",
       "      <td>and</td>\n",
       "      <td>583</td>\n",
       "    </tr>\n",
       "    <tr>\n",
       "      <th>17</th>\n",
       "      <td>patients</td>\n",
       "      <td>541</td>\n",
       "    </tr>\n",
       "    <tr>\n",
       "      <th>33</th>\n",
       "      <td>or</td>\n",
       "      <td>521</td>\n",
       "    </tr>\n",
       "    <tr>\n",
       "      <th>10</th>\n",
       "      <td>lymphoma</td>\n",
       "      <td>493</td>\n",
       "    </tr>\n",
       "    <tr>\n",
       "      <th>1</th>\n",
       "      <td>study</td>\n",
       "      <td>477</td>\n",
       "    </tr>\n",
       "    <tr>\n",
       "      <th>36</th>\n",
       "      <td>a</td>\n",
       "      <td>256</td>\n",
       "    </tr>\n",
       "    <tr>\n",
       "      <th>7</th>\n",
       "      <td>refractory</td>\n",
       "      <td>226</td>\n",
       "    </tr>\n",
       "    <tr>\n",
       "      <th>16</th>\n",
       "      <td>treating</td>\n",
       "      <td>225</td>\n",
       "    </tr>\n",
       "    <tr>\n",
       "      <th>32</th>\n",
       "      <td>relapsed</td>\n",
       "      <td>209</td>\n",
       "    </tr>\n",
       "    <tr>\n",
       "      <th>117</th>\n",
       "      <td>advanced</td>\n",
       "      <td>185</td>\n",
       "    </tr>\n",
       "    <tr>\n",
       "      <th>63</th>\n",
       "      <td>for</td>\n",
       "      <td>180</td>\n",
       "    </tr>\n",
       "    <tr>\n",
       "      <th>9</th>\n",
       "      <td>cell</td>\n",
       "      <td>178</td>\n",
       "    </tr>\n",
       "    <tr>\n",
       "      <th>119</th>\n",
       "      <td>solid</td>\n",
       "      <td>167</td>\n",
       "    </tr>\n",
       "    <tr>\n",
       "      <th>158</th>\n",
       "      <td>the</td>\n",
       "      <td>153</td>\n",
       "    </tr>\n",
       "    <tr>\n",
       "      <th>543</th>\n",
       "      <td>leukemia</td>\n",
       "      <td>148</td>\n",
       "    </tr>\n",
       "    <tr>\n",
       "      <th>42</th>\n",
       "      <td>phase</td>\n",
       "      <td>145</td>\n",
       "    </tr>\n",
       "    <tr>\n",
       "      <th>26</th>\n",
       "      <td>safety</td>\n",
       "      <td>141</td>\n",
       "    </tr>\n",
       "    <tr>\n",
       "      <th>24</th>\n",
       "      <td>b-cell</td>\n",
       "      <td>140</td>\n",
       "    </tr>\n",
       "    <tr>\n",
       "      <th>120</th>\n",
       "      <td>tumors</td>\n",
       "      <td>137</td>\n",
       "    </tr>\n",
       "    <tr>\n",
       "      <th>95</th>\n",
       "      <td>to</td>\n",
       "      <td>129</td>\n",
       "    </tr>\n",
       "    <tr>\n",
       "      <th>14</th>\n",
       "      <td>combination</td>\n",
       "      <td>124</td>\n",
       "    </tr>\n",
       "    <tr>\n",
       "      <th>356</th>\n",
       "      <td>malignancies</td>\n",
       "      <td>119</td>\n",
       "    </tr>\n",
       "    <tr>\n",
       "      <th>277</th>\n",
       "      <td>cancer</td>\n",
       "      <td>101</td>\n",
       "    </tr>\n",
       "    <tr>\n",
       "      <th>113</th>\n",
       "      <td>non-hodgkin's</td>\n",
       "      <td>100</td>\n",
       "    </tr>\n",
       "    <tr>\n",
       "      <th>716</th>\n",
       "      <td>acute</td>\n",
       "      <td>88</td>\n",
       "    </tr>\n",
       "    <tr>\n",
       "      <th>41</th>\n",
       "      <td>lymphomas</td>\n",
       "      <td>85</td>\n",
       "    </tr>\n",
       "    <tr>\n",
       "      <th>60</th>\n",
       "      <td>stem</td>\n",
       "      <td>84</td>\n",
       "    </tr>\n",
       "    <tr>\n",
       "      <th>707</th>\n",
       "      <td>lymphocytic</td>\n",
       "      <td>77</td>\n",
       "    </tr>\n",
       "    <tr>\n",
       "      <th>1355</th>\n",
       "      <td>hematologic</td>\n",
       "      <td>77</td>\n",
       "    </tr>\n",
       "    <tr>\n",
       "      <th>54</th>\n",
       "      <td>subjects</td>\n",
       "      <td>68</td>\n",
       "    </tr>\n",
       "    <tr>\n",
       "      <th>165</th>\n",
       "      <td>rituximab</td>\n",
       "      <td>68</td>\n",
       "    </tr>\n",
       "    <tr>\n",
       "      <th>66</th>\n",
       "      <td>t-cell</td>\n",
       "      <td>67</td>\n",
       "    </tr>\n",
       "    <tr>\n",
       "      <th>706</th>\n",
       "      <td>chronic</td>\n",
       "      <td>66</td>\n",
       "    </tr>\n",
       "    <tr>\n",
       "      <th>72</th>\n",
       "      <td>participants</td>\n",
       "      <td>65</td>\n",
       "    </tr>\n",
       "    <tr>\n",
       "      <th>57</th>\n",
       "      <td>therapy</td>\n",
       "      <td>65</td>\n",
       "    </tr>\n",
       "    <tr>\n",
       "      <th>15</th>\n",
       "      <td>chemotherapy</td>\n",
       "      <td>65</td>\n",
       "    </tr>\n",
       "    <tr>\n",
       "      <th>38</th>\n",
       "      <td>treatment</td>\n",
       "      <td>62</td>\n",
       "    </tr>\n",
       "    <tr>\n",
       "      <th>47</th>\n",
       "      <td>relapsed/refractory</td>\n",
       "      <td>59</td>\n",
       "    </tr>\n",
       "    <tr>\n",
       "      <th>27</th>\n",
       "      <td>efficacy</td>\n",
       "      <td>58</td>\n",
       "    </tr>\n",
       "    <tr>\n",
       "      <th>717</th>\n",
       "      <td>lymphoblastic</td>\n",
       "      <td>58</td>\n",
       "    </tr>\n",
       "    <tr>\n",
       "      <th>81</th>\n",
       "      <td>i</td>\n",
       "      <td>57</td>\n",
       "    </tr>\n",
       "    <tr>\n",
       "      <th>61</th>\n",
       "      <td>transplantation</td>\n",
       "      <td>57</td>\n",
       "    </tr>\n",
       "    <tr>\n",
       "      <th>197</th>\n",
       "      <td>transplant</td>\n",
       "      <td>54</td>\n",
       "    </tr>\n",
       "    <tr>\n",
       "      <th>174</th>\n",
       "      <td>trial</td>\n",
       "      <td>54</td>\n",
       "    </tr>\n",
       "    <tr>\n",
       "      <th>267</th>\n",
       "      <td>dose</td>\n",
       "      <td>50</td>\n",
       "    </tr>\n",
       "    <tr>\n",
       "      <th>1511</th>\n",
       "      <td>donor</td>\n",
       "      <td>47</td>\n",
       "    </tr>\n",
       "    <tr>\n",
       "      <th>23</th>\n",
       "      <td>large</td>\n",
       "      <td>45</td>\n",
       "    </tr>\n",
       "  </tbody>\n",
       "</table>\n",
       "</div>"
      ],
      "text/plain": [
       "                    index    0\n",
       "5                      in  929\n",
       "18                   with  867\n",
       "2                      of  699\n",
       "13                    and  583\n",
       "17               patients  541\n",
       "33                     or  521\n",
       "10               lymphoma  493\n",
       "1                   study  477\n",
       "36                      a  256\n",
       "7              refractory  226\n",
       "16               treating  225\n",
       "32               relapsed  209\n",
       "117              advanced  185\n",
       "63                    for  180\n",
       "9                    cell  178\n",
       "119                 solid  167\n",
       "158                   the  153\n",
       "543              leukemia  148\n",
       "42                  phase  145\n",
       "26                 safety  141\n",
       "24                 b-cell  140\n",
       "120                tumors  137\n",
       "95                     to  129\n",
       "14            combination  124\n",
       "356          malignancies  119\n",
       "277                cancer  101\n",
       "113         non-hodgkin's  100\n",
       "716                 acute   88\n",
       "41              lymphomas   85\n",
       "60                   stem   84\n",
       "707           lymphocytic   77\n",
       "1355          hematologic   77\n",
       "54               subjects   68\n",
       "165             rituximab   68\n",
       "66                 t-cell   67\n",
       "706               chronic   66\n",
       "72           participants   65\n",
       "57                therapy   65\n",
       "15           chemotherapy   65\n",
       "38              treatment   62\n",
       "47    relapsed/refractory   59\n",
       "27               efficacy   58\n",
       "717         lymphoblastic   58\n",
       "81                      i   57\n",
       "61        transplantation   57\n",
       "197            transplant   54\n",
       "174                 trial   54\n",
       "267                  dose   50\n",
       "1511                donor   47\n",
       "23                  large   45"
      ]
     },
     "execution_count": 21,
     "metadata": {},
     "output_type": "execute_result"
    }
   ],
   "source": [
    "pd.DataFrame.from_dict(Counter(title), orient='index').reset_index().sort_values(by=0, ascending = False)[:50]"
   ]
  },
  {
   "cell_type": "code",
   "execution_count": 22,
   "id": "e1a2c11c",
   "metadata": {},
   "outputs": [],
   "source": [
    "df['refra_ttl'] = np.where(df[\"title\"].str.lower().str.contains(\"refractory\"),1 ,0)\n",
    "df['relap_ttl'] = np.where(df[\"title\"].str.lower().str.contains(\"relapsed\"),1 ,0)\n",
    "df['adv_ttl'] = np.where(df[\"title\"].str.lower().str.contains(\"advanced\"),1 ,0)\n",
    "df['nonhod_ttl'] = np.where(df[\"title\"].str.lower().str.contains(\"non-hodgkin's\"),1 ,0)"
   ]
  },
  {
   "cell_type": "code",
   "execution_count": 23,
   "id": "c09fd7eb",
   "metadata": {},
   "outputs": [],
   "source": [
    "#pattern = re.compile(r\"\\b(chemo)\\b\", re.IGNORECASE)\n",
    "df['chemo_ttl'] = np.where(df[\"title\"].str.lower().str.contains('chemo'),1 ,0)"
   ]
  },
  {
   "cell_type": "code",
   "execution_count": 24,
   "id": "e7d2ba5d",
   "metadata": {},
   "outputs": [
    {
     "data": {
      "text/html": [
       "<div>\n",
       "<style scoped>\n",
       "    .dataframe tbody tr th:only-of-type {\n",
       "        vertical-align: middle;\n",
       "    }\n",
       "\n",
       "    .dataframe tbody tr th {\n",
       "        vertical-align: top;\n",
       "    }\n",
       "\n",
       "    .dataframe thead th {\n",
       "        text-align: right;\n",
       "    }\n",
       "</style>\n",
       "<table border=\"1\" class=\"dataframe\">\n",
       "  <thead>\n",
       "    <tr style=\"text-align: right;\">\n",
       "      <th></th>\n",
       "      <th>count</th>\n",
       "      <th>mean</th>\n",
       "    </tr>\n",
       "    <tr>\n",
       "      <th>chemo_ttl</th>\n",
       "      <th></th>\n",
       "      <th></th>\n",
       "    </tr>\n",
       "  </thead>\n",
       "  <tbody>\n",
       "    <tr>\n",
       "      <th>0</th>\n",
       "      <td>1017</td>\n",
       "      <td>1766.309735</td>\n",
       "    </tr>\n",
       "    <tr>\n",
       "      <th>1</th>\n",
       "      <td>72</td>\n",
       "      <td>2099.875000</td>\n",
       "    </tr>\n",
       "  </tbody>\n",
       "</table>\n",
       "</div>"
      ],
      "text/plain": [
       "           count         mean\n",
       "chemo_ttl                    \n",
       "0           1017  1766.309735\n",
       "1             72  2099.875000"
      ]
     },
     "execution_count": 24,
     "metadata": {},
     "output_type": "execute_result"
    }
   ],
   "source": [
    "df.groupby('chemo_ttl')['duration'].agg(['count','mean'])"
   ]
  },
  {
   "cell_type": "code",
   "execution_count": 69,
   "id": "a997c94a",
   "metadata": {},
   "outputs": [],
   "source": [
    "#df[df['title'].str.lower().str.contains('chemo')]['title'].to_csv('chemo.csv')"
   ]
  },
  {
   "cell_type": "code",
   "execution_count": null,
   "id": "e8c0bb42",
   "metadata": {},
   "outputs": [],
   "source": [
    "## intervention"
   ]
  },
  {
   "cell_type": "code",
   "execution_count": 25,
   "id": "cfbb83e9",
   "metadata": {},
   "outputs": [],
   "source": [
    "interv = \" \".join(df[\"interventions\"].str.split('|').explode(\"interventions\")).lower().split(\" \")"
   ]
  },
  {
   "cell_type": "code",
   "execution_count": 26,
   "id": "f1fc2ae0",
   "metadata": {},
   "outputs": [
    {
     "data": {
      "text/html": [
       "<div>\n",
       "<style scoped>\n",
       "    .dataframe tbody tr th:only-of-type {\n",
       "        vertical-align: middle;\n",
       "    }\n",
       "\n",
       "    .dataframe tbody tr th {\n",
       "        vertical-align: top;\n",
       "    }\n",
       "\n",
       "    .dataframe thead th {\n",
       "        text-align: right;\n",
       "    }\n",
       "</style>\n",
       "<table border=\"1\" class=\"dataframe\">\n",
       "  <thead>\n",
       "    <tr style=\"text-align: right;\">\n",
       "      <th></th>\n",
       "      <th>index</th>\n",
       "      <th>0</th>\n",
       "    </tr>\n",
       "  </thead>\n",
       "  <tbody>\n",
       "    <tr>\n",
       "      <th>6</th>\n",
       "      <td>drug:</td>\n",
       "      <td>1995</td>\n",
       "    </tr>\n",
       "    <tr>\n",
       "      <th>0</th>\n",
       "      <td>biological:</td>\n",
       "      <td>339</td>\n",
       "    </tr>\n",
       "    <tr>\n",
       "      <th>68</th>\n",
       "      <td>other:</td>\n",
       "      <td>151</td>\n",
       "    </tr>\n",
       "    <tr>\n",
       "      <th>136</th>\n",
       "      <td>procedure:</td>\n",
       "      <td>135</td>\n",
       "    </tr>\n",
       "    <tr>\n",
       "      <th>5</th>\n",
       "      <td>rituximab</td>\n",
       "      <td>122</td>\n",
       "    </tr>\n",
       "    <tr>\n",
       "      <th>138</th>\n",
       "      <td>cell</td>\n",
       "      <td>96</td>\n",
       "    </tr>\n",
       "    <tr>\n",
       "      <th>7</th>\n",
       "      <td>cyclophosphamide</td>\n",
       "      <td>83</td>\n",
       "    </tr>\n",
       "    <tr>\n",
       "      <th>139</th>\n",
       "      <td>transplantation</td>\n",
       "      <td>79</td>\n",
       "    </tr>\n",
       "    <tr>\n",
       "      <th>137</th>\n",
       "      <td>stem</td>\n",
       "      <td>77</td>\n",
       "    </tr>\n",
       "    <tr>\n",
       "      <th>368</th>\n",
       "      <td>analysis</td>\n",
       "      <td>71</td>\n",
       "    </tr>\n",
       "    <tr>\n",
       "      <th>366</th>\n",
       "      <td>laboratory</td>\n",
       "      <td>62</td>\n",
       "    </tr>\n",
       "    <tr>\n",
       "      <th>367</th>\n",
       "      <td>biomarker</td>\n",
       "      <td>61</td>\n",
       "    </tr>\n",
       "    <tr>\n",
       "      <th>81</th>\n",
       "      <td>fludarabine</td>\n",
       "      <td>58</td>\n",
       "    </tr>\n",
       "    <tr>\n",
       "      <th>9</th>\n",
       "      <td>hydrochloride</td>\n",
       "      <td>54</td>\n",
       "    </tr>\n",
       "    <tr>\n",
       "      <th>45</th>\n",
       "      <td>radiation:</td>\n",
       "      <td>53</td>\n",
       "    </tr>\n",
       "    <tr>\n",
       "      <th>182</th>\n",
       "      <td>blood</td>\n",
       "      <td>52</td>\n",
       "    </tr>\n",
       "    <tr>\n",
       "      <th>12</th>\n",
       "      <td>vincristine</td>\n",
       "      <td>48</td>\n",
       "    </tr>\n",
       "    <tr>\n",
       "      <th>75</th>\n",
       "      <td>and</td>\n",
       "      <td>45</td>\n",
       "    </tr>\n",
       "    <tr>\n",
       "      <th>135</th>\n",
       "      <td>etoposide</td>\n",
       "      <td>44</td>\n",
       "    </tr>\n",
       "    <tr>\n",
       "      <th>4</th>\n",
       "      <td>cells</td>\n",
       "      <td>42</td>\n",
       "    </tr>\n",
       "  </tbody>\n",
       "</table>\n",
       "</div>"
      ],
      "text/plain": [
       "                index     0\n",
       "6               drug:  1995\n",
       "0         biological:   339\n",
       "68             other:   151\n",
       "136        procedure:   135\n",
       "5           rituximab   122\n",
       "138              cell    96\n",
       "7    cyclophosphamide    83\n",
       "139   transplantation    79\n",
       "137              stem    77\n",
       "368          analysis    71\n",
       "366        laboratory    62\n",
       "367         biomarker    61\n",
       "81        fludarabine    58\n",
       "9       hydrochloride    54\n",
       "45         radiation:    53\n",
       "182             blood    52\n",
       "12        vincristine    48\n",
       "75                and    45\n",
       "135         etoposide    44\n",
       "4               cells    42"
      ]
     },
     "execution_count": 26,
     "metadata": {},
     "output_type": "execute_result"
    }
   ],
   "source": [
    "pd.DataFrame.from_dict(Counter(interv), orient='index').reset_index().sort_values(by=0, ascending = False)[:20]"
   ]
  },
  {
   "cell_type": "code",
   "execution_count": 27,
   "id": "6052acdb",
   "metadata": {},
   "outputs": [],
   "source": [
    "df['ritu_int'] = np.where(df[\"interventions\"].str.lower().str.contains(\"rituximab\"),1 ,0)\n",
    "df['cell_int'] = np.where(df[\"interventions\"].str.lower().str.contains(\"cell\"),1 ,0)\n",
    "df['cyclo_int'] = np.where(df[\"interventions\"].str.lower().str.contains(\"cyclophosphamide\"),1 ,0)\n",
    "df['stem_int'] = np.where(df[\"interventions\"].str.lower().str.contains(\"stem\"),1 ,0)\n",
    "df['bio_int'] = np.where(df[\"interventions\"].str.lower().str.contains(\"biomarker\"),1 ,0)\n",
    "df['flud_int'] = np.where(df[\"interventions\"].str.lower().str.contains(\"fludarabine\"),1 ,0)\n",
    "df['hydro_int'] = np.where(df[\"interventions\"].str.lower().str.contains(\"hydrochloride\"),1 ,0)\n",
    "df['radia_int'] = np.where(df[\"interventions\"].str.lower().str.contains(\"radiation\"),1 ,0)"
   ]
  },
  {
   "cell_type": "code",
   "execution_count": 77,
   "id": "04fba24c",
   "metadata": {},
   "outputs": [],
   "source": [
    "## conditions"
   ]
  },
  {
   "cell_type": "code",
   "execution_count": 28,
   "id": "85d30df1",
   "metadata": {},
   "outputs": [],
   "source": [
    "cond = \" \".join(df[\"conditions\"].str.split('|').explode(\"conditions\")).lower().split(\" \")"
   ]
  },
  {
   "cell_type": "code",
   "execution_count": 29,
   "id": "71d00698",
   "metadata": {},
   "outputs": [
    {
     "data": {
      "text/html": [
       "<div>\n",
       "<style scoped>\n",
       "    .dataframe tbody tr th:only-of-type {\n",
       "        vertical-align: middle;\n",
       "    }\n",
       "\n",
       "    .dataframe tbody tr th {\n",
       "        vertical-align: top;\n",
       "    }\n",
       "\n",
       "    .dataframe thead th {\n",
       "        text-align: right;\n",
       "    }\n",
       "</style>\n",
       "<table border=\"1\" class=\"dataframe\">\n",
       "  <thead>\n",
       "    <tr style=\"text-align: right;\">\n",
       "      <th></th>\n",
       "      <th>index</th>\n",
       "      <th>0</th>\n",
       "    </tr>\n",
       "  </thead>\n",
       "  <tbody>\n",
       "    <tr>\n",
       "      <th>2</th>\n",
       "      <td>lymphoma</td>\n",
       "      <td>1655</td>\n",
       "    </tr>\n",
       "    <tr>\n",
       "      <th>80</th>\n",
       "      <td>leukemia</td>\n",
       "      <td>702</td>\n",
       "    </tr>\n",
       "    <tr>\n",
       "      <th>14</th>\n",
       "      <td>recurrent</td>\n",
       "      <td>455</td>\n",
       "    </tr>\n",
       "    <tr>\n",
       "      <th>5</th>\n",
       "      <td>cell</td>\n",
       "      <td>425</td>\n",
       "    </tr>\n",
       "    <tr>\n",
       "      <th>16</th>\n",
       "      <td>adult</td>\n",
       "      <td>393</td>\n",
       "    </tr>\n",
       "    <tr>\n",
       "      <th>87</th>\n",
       "      <td>acute</td>\n",
       "      <td>370</td>\n",
       "    </tr>\n",
       "    <tr>\n",
       "      <th>39</th>\n",
       "      <td>cancer</td>\n",
       "      <td>311</td>\n",
       "    </tr>\n",
       "    <tr>\n",
       "      <th>229</th>\n",
       "      <td>stage</td>\n",
       "      <td>282</td>\n",
       "    </tr>\n",
       "    <tr>\n",
       "      <th>60</th>\n",
       "      <td>lymphocytic</td>\n",
       "      <td>254</td>\n",
       "    </tr>\n",
       "    <tr>\n",
       "      <th>82</th>\n",
       "      <td>chronic</td>\n",
       "      <td>253</td>\n",
       "    </tr>\n",
       "    <tr>\n",
       "      <th>1</th>\n",
       "      <td>b-cell</td>\n",
       "      <td>240</td>\n",
       "    </tr>\n",
       "    <tr>\n",
       "      <th>64</th>\n",
       "      <td>lymphoblastic</td>\n",
       "      <td>230</td>\n",
       "    </tr>\n",
       "    <tr>\n",
       "      <th>19</th>\n",
       "      <td>large</td>\n",
       "      <td>206</td>\n",
       "    </tr>\n",
       "    <tr>\n",
       "      <th>7</th>\n",
       "      <td>follicular</td>\n",
       "      <td>198</td>\n",
       "    </tr>\n",
       "    <tr>\n",
       "      <th>18</th>\n",
       "      <td>diffuse</td>\n",
       "      <td>190</td>\n",
       "    </tr>\n",
       "    <tr>\n",
       "      <th>10</th>\n",
       "      <td>solid</td>\n",
       "      <td>180</td>\n",
       "    </tr>\n",
       "    <tr>\n",
       "      <th>0</th>\n",
       "      <td>lymphoma,</td>\n",
       "      <td>174</td>\n",
       "    </tr>\n",
       "    <tr>\n",
       "      <th>27</th>\n",
       "      <td>t-cell</td>\n",
       "      <td>172</td>\n",
       "    </tr>\n",
       "    <tr>\n",
       "      <th>6</th>\n",
       "      <td>non-hodgkin</td>\n",
       "      <td>166</td>\n",
       "    </tr>\n",
       "    <tr>\n",
       "      <th>59</th>\n",
       "      <td>small</td>\n",
       "      <td>151</td>\n",
       "    </tr>\n",
       "    <tr>\n",
       "      <th>49</th>\n",
       "      <td>grade</td>\n",
       "      <td>146</td>\n",
       "    </tr>\n",
       "    <tr>\n",
       "      <th>32</th>\n",
       "      <td>refractory</td>\n",
       "      <td>141</td>\n",
       "    </tr>\n",
       "    <tr>\n",
       "      <th>53</th>\n",
       "      <td>myeloma</td>\n",
       "      <td>127</td>\n",
       "    </tr>\n",
       "    <tr>\n",
       "      <th>284</th>\n",
       "      <td>myeloid</td>\n",
       "      <td>123</td>\n",
       "    </tr>\n",
       "    <tr>\n",
       "      <th>233</th>\n",
       "      <td>iv</td>\n",
       "      <td>111</td>\n",
       "    </tr>\n",
       "    <tr>\n",
       "      <th>58</th>\n",
       "      <td>and</td>\n",
       "      <td>110</td>\n",
       "    </tr>\n",
       "    <tr>\n",
       "      <th>15</th>\n",
       "      <td>hodgkin</td>\n",
       "      <td>110</td>\n",
       "    </tr>\n",
       "    <tr>\n",
       "      <th>52</th>\n",
       "      <td>multiple</td>\n",
       "      <td>107</td>\n",
       "    </tr>\n",
       "    <tr>\n",
       "      <th>162</th>\n",
       "      <td>zone</td>\n",
       "      <td>105</td>\n",
       "    </tr>\n",
       "    <tr>\n",
       "      <th>161</th>\n",
       "      <td>marginal</td>\n",
       "      <td>103</td>\n",
       "    </tr>\n",
       "    <tr>\n",
       "      <th>232</th>\n",
       "      <td>iii</td>\n",
       "      <td>103</td>\n",
       "    </tr>\n",
       "    <tr>\n",
       "      <th>291</th>\n",
       "      <td>myelodysplastic</td>\n",
       "      <td>98</td>\n",
       "    </tr>\n",
       "    <tr>\n",
       "      <th>12</th>\n",
       "      <td>non-hodgkin's</td>\n",
       "      <td>94</td>\n",
       "    </tr>\n",
       "    <tr>\n",
       "      <th>30</th>\n",
       "      <td>tumors</td>\n",
       "      <td>91</td>\n",
       "    </tr>\n",
       "    <tr>\n",
       "      <th>9</th>\n",
       "      <td>mantle</td>\n",
       "      <td>88</td>\n",
       "    </tr>\n",
       "    <tr>\n",
       "      <th>43</th>\n",
       "      <td>carcinoma</td>\n",
       "      <td>87</td>\n",
       "    </tr>\n",
       "    <tr>\n",
       "      <th>172</th>\n",
       "      <td>syndrome</td>\n",
       "      <td>85</td>\n",
       "    </tr>\n",
       "    <tr>\n",
       "      <th>118</th>\n",
       "      <td>childhood</td>\n",
       "      <td>83</td>\n",
       "    </tr>\n",
       "    <tr>\n",
       "      <th>201</th>\n",
       "      <td>of</td>\n",
       "      <td>78</td>\n",
       "    </tr>\n",
       "    <tr>\n",
       "      <th>34</th>\n",
       "      <td>tumor</td>\n",
       "      <td>76</td>\n",
       "    </tr>\n",
       "    <tr>\n",
       "      <th>73</th>\n",
       "      <td>neoplasm</td>\n",
       "      <td>76</td>\n",
       "    </tr>\n",
       "    <tr>\n",
       "      <th>98</th>\n",
       "      <td>leukemia,</td>\n",
       "      <td>74</td>\n",
       "    </tr>\n",
       "    <tr>\n",
       "      <th>280</th>\n",
       "      <td>myelogenous</td>\n",
       "      <td>73</td>\n",
       "    </tr>\n",
       "    <tr>\n",
       "      <th>97</th>\n",
       "      <td>disease</td>\n",
       "      <td>69</td>\n",
       "    </tr>\n",
       "    <tr>\n",
       "      <th>29</th>\n",
       "      <td>advanced</td>\n",
       "      <td>59</td>\n",
       "    </tr>\n",
       "    <tr>\n",
       "      <th>42</th>\n",
       "      <td>cutaneous</td>\n",
       "      <td>51</td>\n",
       "    </tr>\n",
       "    <tr>\n",
       "      <th>292</th>\n",
       "      <td>syndromes</td>\n",
       "      <td>50</td>\n",
       "    </tr>\n",
       "    <tr>\n",
       "      <th>103</th>\n",
       "      <td>plasma</td>\n",
       "      <td>49</td>\n",
       "    </tr>\n",
       "    <tr>\n",
       "      <th>51</th>\n",
       "      <td>with</td>\n",
       "      <td>47</td>\n",
       "    </tr>\n",
       "    <tr>\n",
       "      <th>68</th>\n",
       "      <td>tumor,</td>\n",
       "      <td>47</td>\n",
       "    </tr>\n",
       "  </tbody>\n",
       "</table>\n",
       "</div>"
      ],
      "text/plain": [
       "               index     0\n",
       "2           lymphoma  1655\n",
       "80          leukemia   702\n",
       "14         recurrent   455\n",
       "5               cell   425\n",
       "16             adult   393\n",
       "87             acute   370\n",
       "39            cancer   311\n",
       "229            stage   282\n",
       "60       lymphocytic   254\n",
       "82           chronic   253\n",
       "1             b-cell   240\n",
       "64     lymphoblastic   230\n",
       "19             large   206\n",
       "7         follicular   198\n",
       "18           diffuse   190\n",
       "10             solid   180\n",
       "0          lymphoma,   174\n",
       "27            t-cell   172\n",
       "6        non-hodgkin   166\n",
       "59             small   151\n",
       "49             grade   146\n",
       "32        refractory   141\n",
       "53           myeloma   127\n",
       "284          myeloid   123\n",
       "233               iv   111\n",
       "58               and   110\n",
       "15           hodgkin   110\n",
       "52          multiple   107\n",
       "162             zone   105\n",
       "161         marginal   103\n",
       "232              iii   103\n",
       "291  myelodysplastic    98\n",
       "12     non-hodgkin's    94\n",
       "30            tumors    91\n",
       "9             mantle    88\n",
       "43         carcinoma    87\n",
       "172         syndrome    85\n",
       "118        childhood    83\n",
       "201               of    78\n",
       "34             tumor    76\n",
       "73          neoplasm    76\n",
       "98         leukemia,    74\n",
       "280      myelogenous    73\n",
       "97           disease    69\n",
       "29          advanced    59\n",
       "42         cutaneous    51\n",
       "292        syndromes    50\n",
       "103           plasma    49\n",
       "51              with    47\n",
       "68            tumor,    47"
      ]
     },
     "execution_count": 29,
     "metadata": {},
     "output_type": "execute_result"
    }
   ],
   "source": [
    "pd.DataFrame.from_dict(Counter(cond), orient='index').reset_index().sort_values(by=0, ascending = False)[:50]"
   ]
  },
  {
   "cell_type": "code",
   "execution_count": 30,
   "id": "c48de053",
   "metadata": {},
   "outputs": [],
   "source": [
    "df['leuke_con'] = np.where(df[\"conditions\"].str.lower().str.contains(\"leukemia\"),1 ,0)\n",
    "df['recur_con'] = np.where(df[\"conditions\"].str.lower().str.contains(\"recurrent\"),1 ,0)\n",
    "df['acut_con'] = np.where(df[\"conditions\"].str.lower().str.contains(\"acute\"),1 ,0)\n",
    "df['chro_con'] = np.where(df[\"conditions\"].str.lower().str.contains(\"chronic\"),1 ,0)\n",
    "df['nonho_con'] = np.where(df[\"conditions\"].str.lower().str.contains(\"non-hodgkin\"),1 ,0)\n",
    "df['refra_con'] = np.where(df[\"conditions\"].str.lower().str.contains(\"refractory\"),1 ,0)\n",
    "df['myel_con'] = np.where(df[\"conditions\"].str.lower().str.contains(\"myeloma\"),1 ,0)\n",
    "df['myelo_con'] = np.where(df[\"conditions\"].str.lower().str.contains(\"myeloid\"),1 ,0)"
   ]
  },
  {
   "cell_type": "markdown",
   "id": "7f7a7437",
   "metadata": {},
   "source": [
    "## 1. duration bin"
   ]
  },
  {
   "cell_type": "code",
   "execution_count": 31,
   "id": "8786b21c",
   "metadata": {},
   "outputs": [
    {
     "data": {
      "text/plain": [
       "<AxesSubplot:>"
      ]
     },
     "execution_count": 31,
     "metadata": {},
     "output_type": "execute_result"
    },
    {
     "data": {
      "image/png": "[encoded data removed]",
      "text/plain": [
       "<Figure size 432x288 with 1 Axes>"
      ]
     },
     "metadata": {
      "needs_background": "light"
     },
     "output_type": "display_data"
    }
   ],
   "source": [
    "df.duration.hist()"
   ]
  },
  {
   "cell_type": "code",
   "execution_count": 32,
   "id": "73181210",
   "metadata": {},
   "outputs": [
    {
     "data": {
      "text/plain": [
       "1788.3636363636363"
      ]
     },
     "execution_count": 32,
     "metadata": {},
     "output_type": "execute_result"
    }
   ],
   "source": [
    "df.duration.mean()"
   ]
  },
  {
   "cell_type": "code",
   "execution_count": 33,
   "id": "35ca2cf4",
   "metadata": {},
   "outputs": [],
   "source": [
    "def condition(x):\n",
    "    if x<1825:\n",
    "        return \"D1: <5yr\"\n",
    "    else:\n",
    "        return 'D2: 5yr+'"
   ]
  },
  {
   "cell_type": "code",
   "execution_count": 34,
   "id": "5ebc40a0",
   "metadata": {},
   "outputs": [],
   "source": [
    "df['dc'] = df['duration'].apply(lambda x: condition(x))"
   ]
  },
  {
   "cell_type": "code",
   "execution_count": 35,
   "id": "ccd45ac9",
   "metadata": {},
   "outputs": [
    {
     "data": {
      "text/plain": [
       "D1: <5yr    651\n",
       "D2: 5yr+    438\n",
       "Name: dc, dtype: int64"
      ]
     },
     "execution_count": 35,
     "metadata": {},
     "output_type": "execute_result"
    }
   ],
   "source": [
    "df.dc.value_counts()"
   ]
  },
  {
   "cell_type": "code",
   "execution_count": 36,
   "id": "2e264553",
   "metadata": {},
   "outputs": [
    {
     "data": {
      "text/plain": [
       "Index(['unnamed: 0', 'rank', 'nct_number', 'title', 'acronym', 'status',\n",
       "       'study results', 'conditions', 'interventions', 'outcome measures',\n",
       "       'sponsor/collaborators', 'gender', 'age', 'phases', 'enrollment',\n",
       "       'funded bys', 'study type', 'study designs', 'other ids', 'start date',\n",
       "       'primary completion date', 'completion date', 'first posted',\n",
       "       'results first posted', 'last update posted', 'locations',\n",
       "       'study documents', 'url', 'duration', 'ftype2', 'cond1', 'allocation',\n",
       "       'interv_mod2', 'mask1', 'purp1', 'measure_pfs', 'measure_mtd',\n",
       "       'measure_cmax', 'measure_os', 'measure_dor', 'measure_dlt', 'measure_',\n",
       "       'measure_aes', 'measure_tmax', 'measure_orr', 'number_of_measures',\n",
       "       'drug_included', 'biological_included', 'other_included',\n",
       "       'procedure_included', 'intervention_count', 'multiple_interverions',\n",
       "       'include_country_united states', 'include_country_france',\n",
       "       'include_country_united kingdom', 'include_country_germany',\n",
       "       'lead_country', 'location_count', 'multiple_locations', 'np_spon',\n",
       "       'adult_include', 'child_include', 'refra_ttl', 'relap_ttl', 'adv_ttl',\n",
       "       'nonhod_ttl', 'chemo_ttl', 'ritu_int', 'cell_int', 'cyclo_int',\n",
       "       'stem_int', 'bio_int', 'flud_int', 'hydro_int', 'radia_int',\n",
       "       'leuke_con', 'recur_con', 'acut_con', 'chro_con', 'nonho_con',\n",
       "       'refra_con', 'myel_con', 'myelo_con', 'dc'],\n",
       "      dtype='object')"
      ]
     },
     "execution_count": 36,
     "metadata": {},
     "output_type": "execute_result"
    }
   ],
   "source": [
    "df.columns"
   ]
  },
  {
   "cell_type": "markdown",
   "id": "7716e42d",
   "metadata": {},
   "source": [
    "## 2. modeling"
   ]
  },
  {
   "cell_type": "code",
   "execution_count": 34,
   "id": "5af8e864",
   "metadata": {},
   "outputs": [],
   "source": [
    "## 2.0 data prepare - one hot encoding"
   ]
  },
  {
   "cell_type": "code",
   "execution_count": 37,
   "id": "cd0cb6fa",
   "metadata": {},
   "outputs": [],
   "source": [
    "from sklearn.model_selection import train_test_split"
   ]
  },
  {
   "cell_type": "code",
   "execution_count": 38,
   "id": "95683228",
   "metadata": {},
   "outputs": [
    {
     "data": {
      "text/plain": [
       "D1: <5yr    651\n",
       "D2: 5yr+    438\n",
       "Name: dc, dtype: int64"
      ]
     },
     "execution_count": 38,
     "metadata": {},
     "output_type": "execute_result"
    }
   ],
   "source": [
    "df.dc.value_counts()"
   ]
  },
  {
   "cell_type": "code",
   "execution_count": 39,
   "id": "3221a3d4",
   "metadata": {},
   "outputs": [],
   "source": [
    "df['y_class'] = 1\n",
    "df.loc[df['dc'] ==\"D1: <5yr\",'y_class'] = 0"
   ]
  },
  {
   "cell_type": "code",
   "execution_count": 40,
   "id": "03662fb0",
   "metadata": {},
   "outputs": [],
   "source": [
    "df['indus'] = df['ftype2'].apply(lambda x: 1 if x=='Industry Lead' else 0)"
   ]
  },
  {
   "cell_type": "code",
   "execution_count": 41,
   "id": "879f443d",
   "metadata": {},
   "outputs": [],
   "source": [
    "df['condition_count'] = df.conditions.str.count('\\|') + 1"
   ]
  },
  {
   "cell_type": "code",
   "execution_count": 42,
   "id": "bc95fd7b",
   "metadata": {},
   "outputs": [],
   "source": [
    "df['random'] = df['allocation'].apply(lambda x: 1 if x=='Randomized' else 0)"
   ]
  },
  {
   "cell_type": "code",
   "execution_count": 43,
   "id": "d3c4eb0d",
   "metadata": {},
   "outputs": [],
   "source": [
    "df['cross'] = df['interv_mod2'].apply(lambda x: 1 if x=='Crossover Assignment' else 0)"
   ]
  },
  {
   "cell_type": "code",
   "execution_count": 44,
   "id": "c4bc0ae8",
   "metadata": {},
   "outputs": [],
   "source": [
    "df['label_open'] = df['mask1'].apply(lambda x: 1 if x=='None (Open Label)' else 0)\n",
    "df['label_nopen'] = df['mask1'].apply(lambda x: 1 if x=='Not Open Label' else 0)"
   ]
  },
  {
   "cell_type": "code",
   "execution_count": 45,
   "id": "78dfc946",
   "metadata": {},
   "outputs": [
    {
     "data": {
      "text/plain": [
       "None (Open Label)    996\n",
       "Not Open Label        14\n",
       "Name: mask1, dtype: int64"
      ]
     },
     "execution_count": 45,
     "metadata": {},
     "output_type": "execute_result"
    }
   ],
   "source": [
    "df.mask1.value_counts()"
   ]
  },
  {
   "cell_type": "code",
   "execution_count": 46,
   "id": "c002e50b",
   "metadata": {},
   "outputs": [],
   "source": [
    "df['purp_treat'] = df['purp1'].apply(lambda x: 1 if x=='Treatment/Diagnostic' else 0)\n",
    "df['purp_prev'] = df['purp1'].apply(lambda x: 1 if x=='Other/Basic/Prevention' else 0)"
   ]
  },
  {
   "cell_type": "code",
   "execution_count": 47,
   "id": "9d766277",
   "metadata": {},
   "outputs": [
    {
     "data": {
      "text/plain": [
       "Treatment/Diagnostic      1035\n",
       "Other/Basic/Prevention      34\n",
       "Supportive Care             15\n",
       "Name: purp1, dtype: int64"
      ]
     },
     "execution_count": 47,
     "metadata": {},
     "output_type": "execute_result"
    }
   ],
   "source": [
    "df.purp1.value_counts()"
   ]
  },
  {
   "cell_type": "code",
   "execution_count": 48,
   "id": "0dc81423",
   "metadata": {},
   "outputs": [],
   "source": [
    "df['us_lead'] = df['lead_country'].apply(lambda x: 1 if x=='United States' else 0)\n",
    "df['france_lead'] = df['lead_country'].apply(lambda x: 1 if x=='France' else 0)\n",
    "df['uk_lead'] = df['lead_country'].apply(lambda x: 1 if x=='United Kingdom' else 0)\n",
    "df['german_lead'] = df['lead_country'].apply(lambda x: 1 if x=='Germany' else 0)"
   ]
  },
  {
   "cell_type": "code",
   "execution_count": 49,
   "id": "23c282fa",
   "metadata": {},
   "outputs": [
    {
     "data": {
      "text/plain": [
       "United States     829\n",
       "Others            195\n",
       "France             28\n",
       "United Kingdom     21\n",
       "Germany            16\n",
       "Name: lead_country, dtype: int64"
      ]
     },
     "execution_count": 49,
     "metadata": {},
     "output_type": "execute_result"
    }
   ],
   "source": [
    "df.lead_country.value_counts()"
   ]
  },
  {
   "cell_type": "code",
   "execution_count": 50,
   "id": "68278e13",
   "metadata": {},
   "outputs": [],
   "source": [
    "df.columns = df.columns.str.lower()"
   ]
  },
  {
   "cell_type": "code",
   "execution_count": 51,
   "id": "667ea3b4",
   "metadata": {},
   "outputs": [
    {
     "data": {
      "text/plain": [
       "Index(['unnamed: 0', 'rank', 'nct_number', 'title', 'acronym', 'status',\n",
       "       'study results', 'conditions', 'interventions', 'outcome measures',\n",
       "       'sponsor/collaborators', 'gender', 'age', 'phases', 'enrollment',\n",
       "       'funded bys', 'study type', 'study designs', 'other ids', 'start date',\n",
       "       'primary completion date', 'completion date', 'first posted',\n",
       "       'results first posted', 'last update posted', 'locations',\n",
       "       'study documents', 'url', 'duration', 'ftype2', 'cond1', 'allocation',\n",
       "       'interv_mod2', 'mask1', 'purp1', 'measure_pfs', 'measure_mtd',\n",
       "       'measure_cmax', 'measure_os', 'measure_dor', 'measure_dlt', 'measure_',\n",
       "       'measure_aes', 'measure_tmax', 'measure_orr', 'number_of_measures',\n",
       "       'drug_included', 'biological_included', 'other_included',\n",
       "       'procedure_included', 'intervention_count', 'multiple_interverions',\n",
       "       'include_country_united states', 'include_country_france',\n",
       "       'include_country_united kingdom', 'include_country_germany',\n",
       "       'lead_country', 'location_count', 'multiple_locations', 'np_spon',\n",
       "       'adult_include', 'child_include', 'refra_ttl', 'relap_ttl', 'adv_ttl',\n",
       "       'nonhod_ttl', 'chemo_ttl', 'ritu_int', 'cell_int', 'cyclo_int',\n",
       "       'stem_int', 'bio_int', 'flud_int', 'hydro_int', 'radia_int',\n",
       "       'leuke_con', 'recur_con', 'acut_con', 'chro_con', 'nonho_con',\n",
       "       'refra_con', 'myel_con', 'myelo_con', 'dc', 'y_class', 'indus',\n",
       "       'condition_count', 'random', 'cross', 'label_open', 'label_nopen',\n",
       "       'purp_treat', 'purp_prev', 'us_lead', 'france_lead', 'uk_lead',\n",
       "       'german_lead'],\n",
       "      dtype='object')"
      ]
     },
     "execution_count": 51,
     "metadata": {},
     "output_type": "execute_result"
    }
   ],
   "source": [
    "df.columns"
   ]
  },
  {
   "cell_type": "markdown",
   "id": "78965bfd",
   "metadata": {},
   "source": [
    "# what's 'measure_'"
   ]
  },
  {
   "cell_type": "code",
   "execution_count": 52,
   "id": "02bcb6b2",
   "metadata": {},
   "outputs": [],
   "source": [
    "X_features = ['indus', 'condition_count', 'random', 'cross', 'label_open', 'label_nopen',\n",
    "              'purp_treat', 'purp_prev', 'us_lead', 'france_lead', 'uk_lead', 'german_lead',\n",
    "              'measure_pfs', 'measure_mtd','measure_cmax', 'measure_os', 'measure_dor', \n",
    "              'measure_dlt', 'measure_aes', 'measure_tmax', 'measure_orr', 'number_of_measures',\n",
    "              'drug_included', 'biological_included', 'other_included','procedure_included', 'intervention_count',\n",
    "              'include_country_united states', 'include_country_france','include_country_united kingdom', \n",
    "              'include_country_germany','location_count', 'enrollment']"
   ]
  },
  {
   "cell_type": "code",
   "execution_count": 53,
   "id": "5aed1bfb",
   "metadata": {},
   "outputs": [
    {
     "data": {
      "text/plain": [
       "33"
      ]
     },
     "execution_count": 53,
     "metadata": {},
     "output_type": "execute_result"
    }
   ],
   "source": [
    "len(X_features)"
   ]
  },
  {
   "cell_type": "code",
   "execution_count": 138,
   "id": "2341863a",
   "metadata": {},
   "outputs": [],
   "source": [
    "#X_features = top20"
   ]
  },
  {
   "cell_type": "code",
   "execution_count": 54,
   "id": "f988b01e",
   "metadata": {},
   "outputs": [
    {
     "data": {
      "text/plain": [
       "indus                              0\n",
       "condition_count                    0\n",
       "random                             0\n",
       "cross                              0\n",
       "label_open                         0\n",
       "label_nopen                        0\n",
       "purp_treat                         0\n",
       "purp_prev                          0\n",
       "us_lead                            0\n",
       "france_lead                        0\n",
       "uk_lead                            0\n",
       "german_lead                        0\n",
       "measure_pfs                        0\n",
       "measure_mtd                        0\n",
       "measure_cmax                       0\n",
       "measure_os                         0\n",
       "measure_dor                        0\n",
       "measure_dlt                        0\n",
       "measure_aes                        0\n",
       "measure_tmax                       0\n",
       "measure_orr                        0\n",
       "number_of_measures                 0\n",
       "drug_included                      0\n",
       "biological_included                0\n",
       "other_included                     0\n",
       "procedure_included                 0\n",
       "intervention_count                 0\n",
       "include_country_united states      0\n",
       "include_country_france             0\n",
       "include_country_united kingdom     0\n",
       "include_country_germany            0\n",
       "location_count                     0\n",
       "enrollment                        46\n",
       "dtype: int64"
      ]
     },
     "execution_count": 54,
     "metadata": {},
     "output_type": "execute_result"
    }
   ],
   "source": [
    "df[X_features].isna().sum()"
   ]
  },
  {
   "cell_type": "code",
   "execution_count": 55,
   "id": "13230944",
   "metadata": {},
   "outputs": [],
   "source": [
    "df.loc[df.enrollment.isna(), 'enrollment'] = df.enrollment.mean()"
   ]
  },
  {
   "cell_type": "code",
   "execution_count": 56,
   "id": "17997e0a",
   "metadata": {},
   "outputs": [],
   "source": [
    "train, test = train_test_split(df[X_features+['y_class']], test_size = 0.2, random_state = 42)"
   ]
  },
  {
   "cell_type": "code",
   "execution_count": 57,
   "id": "7f9579bc",
   "metadata": {},
   "outputs": [],
   "source": [
    "from sklearn.metrics import accuracy_score"
   ]
  },
  {
   "cell_type": "markdown",
   "id": "437672ac",
   "metadata": {},
   "source": [
    "## 2.1 logistic reg"
   ]
  },
  {
   "cell_type": "code",
   "execution_count": 58,
   "id": "d09a9c22",
   "metadata": {},
   "outputs": [
    {
     "name": "stdout",
     "output_type": "stream",
     "text": [
      "(218, 4)\n"
     ]
    },
    {
     "data": {
      "text/plain": [
       "0.7522935779816514"
      ]
     },
     "execution_count": 58,
     "metadata": {},
     "output_type": "execute_result"
    }
   ],
   "source": [
    "from sklearn.linear_model import LogisticRegression\n",
    "\n",
    "#modeling\n",
    "LM_model = LogisticRegression(penalty='l2', max_iter=500, multi_class='ovr', solver='liblinear')\n",
    "LM_model.fit(train[X_features],train['y_class'])\n",
    "\n",
    "# Prediction\n",
    "LM_pred_prob = pd.DataFrame(LM_model.predict_proba(test[X_features]))\n",
    "LM_pred = pd.DataFrame(LM_model.predict(test[X_features]))\n",
    "LM_pred = pd.concat([test.reset_index()['y_class'],LM_pred_prob,LM_pred],axis=1, ignore_index=True)\n",
    "print(LM_pred.shape)\n",
    "\n",
    "LM_pred.columns = ['Actual','y_prob_d1', 'y_prob_d2', 'Y_pred']\n",
    "LM_pred.head()\n",
    "\n",
    "## performance\n",
    "accuracy_score(LM_pred.Actual, LM_pred.Y_pred)"
   ]
  },
  {
   "cell_type": "code",
   "execution_count": 59,
   "id": "bd389f04",
   "metadata": {},
   "outputs": [
    {
     "data": {
      "text/html": [
       "<div>\n",
       "<style scoped>\n",
       "    .dataframe tbody tr th:only-of-type {\n",
       "        vertical-align: middle;\n",
       "    }\n",
       "\n",
       "    .dataframe tbody tr th {\n",
       "        vertical-align: top;\n",
       "    }\n",
       "\n",
       "    .dataframe thead th {\n",
       "        text-align: right;\n",
       "    }\n",
       "</style>\n",
       "<table border=\"1\" class=\"dataframe\">\n",
       "  <thead>\n",
       "    <tr style=\"text-align: right;\">\n",
       "      <th>Actual</th>\n",
       "      <th>0</th>\n",
       "      <th>1</th>\n",
       "    </tr>\n",
       "    <tr>\n",
       "      <th>Y_pred</th>\n",
       "      <th></th>\n",
       "      <th></th>\n",
       "    </tr>\n",
       "  </thead>\n",
       "  <tbody>\n",
       "    <tr>\n",
       "      <th>0</th>\n",
       "      <td>107</td>\n",
       "      <td>32</td>\n",
       "    </tr>\n",
       "    <tr>\n",
       "      <th>1</th>\n",
       "      <td>22</td>\n",
       "      <td>57</td>\n",
       "    </tr>\n",
       "  </tbody>\n",
       "</table>\n",
       "</div>"
      ],
      "text/plain": [
       "Actual    0   1\n",
       "Y_pred         \n",
       "0       107  32\n",
       "1        22  57"
      ]
     },
     "execution_count": 59,
     "metadata": {},
     "output_type": "execute_result"
    }
   ],
   "source": [
    "pd.crosstab(LM_pred['Y_pred'],LM_pred['Actual']) "
   ]
  },
  {
   "cell_type": "code",
   "execution_count": 60,
   "id": "c40464fd",
   "metadata": {},
   "outputs": [
    {
     "data": {
      "text/html": [
       "<div>\n",
       "<style scoped>\n",
       "    .dataframe tbody tr th:only-of-type {\n",
       "        vertical-align: middle;\n",
       "    }\n",
       "\n",
       "    .dataframe tbody tr th {\n",
       "        vertical-align: top;\n",
       "    }\n",
       "\n",
       "    .dataframe thead th {\n",
       "        text-align: right;\n",
       "    }\n",
       "</style>\n",
       "<table border=\"1\" class=\"dataframe\">\n",
       "  <thead>\n",
       "    <tr style=\"text-align: right;\">\n",
       "      <th>Actual</th>\n",
       "      <th>0</th>\n",
       "      <th>1</th>\n",
       "    </tr>\n",
       "    <tr>\n",
       "      <th>Y_pred</th>\n",
       "      <th></th>\n",
       "      <th></th>\n",
       "    </tr>\n",
       "  </thead>\n",
       "  <tbody>\n",
       "    <tr>\n",
       "      <th>0</th>\n",
       "      <td>0.77</td>\n",
       "      <td>0.23</td>\n",
       "    </tr>\n",
       "    <tr>\n",
       "      <th>1</th>\n",
       "      <td>0.28</td>\n",
       "      <td>0.72</td>\n",
       "    </tr>\n",
       "  </tbody>\n",
       "</table>\n",
       "</div>"
      ],
      "text/plain": [
       "Actual     0     1\n",
       "Y_pred            \n",
       "0       0.77  0.23\n",
       "1       0.28  0.72"
      ]
     },
     "execution_count": 60,
     "metadata": {},
     "output_type": "execute_result"
    }
   ],
   "source": [
    "pd.crosstab(LM_pred['Y_pred'],LM_pred['Actual']).apply(lambda x: x/x.sum(), axis=1).round(2)"
   ]
  },
  {
   "cell_type": "markdown",
   "id": "2e843ee0",
   "metadata": {},
   "source": [
    "## 2.2 decision tree"
   ]
  },
  {
   "cell_type": "code",
   "execution_count": 61,
   "id": "be3a9d6c",
   "metadata": {},
   "outputs": [
    {
     "data": {
      "text/html": [
       "<div>\n",
       "<style scoped>\n",
       "    .dataframe tbody tr th:only-of-type {\n",
       "        vertical-align: middle;\n",
       "    }\n",
       "\n",
       "    .dataframe tbody tr th {\n",
       "        vertical-align: top;\n",
       "    }\n",
       "\n",
       "    .dataframe thead th {\n",
       "        text-align: right;\n",
       "    }\n",
       "</style>\n",
       "<table border=\"1\" class=\"dataframe\">\n",
       "  <thead>\n",
       "    <tr style=\"text-align: right;\">\n",
       "      <th>Actual</th>\n",
       "      <th>0</th>\n",
       "      <th>1</th>\n",
       "    </tr>\n",
       "    <tr>\n",
       "      <th>Y_pred</th>\n",
       "      <th></th>\n",
       "      <th></th>\n",
       "    </tr>\n",
       "  </thead>\n",
       "  <tbody>\n",
       "    <tr>\n",
       "      <th>0</th>\n",
       "      <td>0.72</td>\n",
       "      <td>0.28</td>\n",
       "    </tr>\n",
       "    <tr>\n",
       "      <th>1</th>\n",
       "      <td>0.42</td>\n",
       "      <td>0.58</td>\n",
       "    </tr>\n",
       "  </tbody>\n",
       "</table>\n",
       "</div>"
      ],
      "text/plain": [
       "Actual     0     1\n",
       "Y_pred            \n",
       "0       0.72  0.28\n",
       "1       0.42  0.58"
      ]
     },
     "execution_count": 61,
     "metadata": {},
     "output_type": "execute_result"
    }
   ],
   "source": [
    "from sklearn.tree import DecisionTreeClassifier\n",
    "\n",
    "# Modeling\n",
    "dt_model = DecisionTreeClassifier(random_state=0).fit(train[X_features],train['y_class'])\n",
    "\n",
    "# Prediction\n",
    "def Prediction(model):\n",
    "    pred_prob = pd.DataFrame(model.predict_proba(test[X_features]))\n",
    "    pred = pd.DataFrame(model.predict(test[X_features]))\n",
    "    pred = pd.concat([test.reset_index()['y_class'],pred_prob,pred],axis=1, ignore_index=True)\n",
    "    pred.columns = ['Actual','y_prob_d1', 'y_prob_d2', 'Y_pred']\n",
    "    return(pred)\n",
    "dt_pred = Prediction(dt_model)  \n",
    "\n",
    "# Actual vs. Prediction\n",
    "pd.crosstab(dt_pred['Y_pred'],dt_pred['Actual']).apply(lambda x: x/x.sum(), axis=1).round(2)"
   ]
  },
  {
   "cell_type": "code",
   "execution_count": 62,
   "id": "29cc510c",
   "metadata": {},
   "outputs": [
    {
     "data": {
      "text/plain": [
       "0.6605504587155964"
      ]
     },
     "execution_count": 62,
     "metadata": {},
     "output_type": "execute_result"
    }
   ],
   "source": [
    "accuracy_score(dt_pred.Actual, dt_pred.Y_pred)"
   ]
  },
  {
   "cell_type": "markdown",
   "id": "d5a0b6f0",
   "metadata": {},
   "source": [
    "## 2.3 neural network"
   ]
  },
  {
   "cell_type": "code",
   "execution_count": 63,
   "id": "37b744f3",
   "metadata": {},
   "outputs": [
    {
     "data": {
      "text/html": [
       "<div>\n",
       "<style scoped>\n",
       "    .dataframe tbody tr th:only-of-type {\n",
       "        vertical-align: middle;\n",
       "    }\n",
       "\n",
       "    .dataframe tbody tr th {\n",
       "        vertical-align: top;\n",
       "    }\n",
       "\n",
       "    .dataframe thead th {\n",
       "        text-align: right;\n",
       "    }\n",
       "</style>\n",
       "<table border=\"1\" class=\"dataframe\">\n",
       "  <thead>\n",
       "    <tr style=\"text-align: right;\">\n",
       "      <th>Actual</th>\n",
       "      <th>0</th>\n",
       "      <th>1</th>\n",
       "    </tr>\n",
       "    <tr>\n",
       "      <th>Y_pred</th>\n",
       "      <th></th>\n",
       "      <th></th>\n",
       "    </tr>\n",
       "  </thead>\n",
       "  <tbody>\n",
       "    <tr>\n",
       "      <th>0</th>\n",
       "      <td>0.76</td>\n",
       "      <td>0.24</td>\n",
       "    </tr>\n",
       "    <tr>\n",
       "      <th>1</th>\n",
       "      <td>0.33</td>\n",
       "      <td>0.67</td>\n",
       "    </tr>\n",
       "  </tbody>\n",
       "</table>\n",
       "</div>"
      ],
      "text/plain": [
       "Actual     0     1\n",
       "Y_pred            \n",
       "0       0.76  0.24\n",
       "1       0.33  0.67"
      ]
     },
     "execution_count": 63,
     "metadata": {},
     "output_type": "execute_result"
    }
   ],
   "source": [
    "from sklearn.neural_network import MLPClassifier\n",
    "NN_model = MLPClassifier(random_state=1, max_iter=300).fit(train[X_features],train['y_class'])\n",
    "NN_pred = Prediction(NN_model)    \n",
    "pd.crosstab(NN_pred['Y_pred'],NN_pred['Actual']).apply(lambda x: x/x.sum(), axis=1).round(2)"
   ]
  },
  {
   "cell_type": "code",
   "execution_count": 64,
   "id": "25cd340f",
   "metadata": {},
   "outputs": [
    {
     "data": {
      "text/plain": [
       "0.7247706422018348"
      ]
     },
     "execution_count": 64,
     "metadata": {},
     "output_type": "execute_result"
    }
   ],
   "source": [
    "accuracy_score(NN_pred.Actual, NN_pred.Y_pred)"
   ]
  },
  {
   "cell_type": "markdown",
   "id": "da7e2fb1",
   "metadata": {},
   "source": [
    "## 2.4 random forest"
   ]
  },
  {
   "cell_type": "code",
   "execution_count": 65,
   "id": "b18eb70b",
   "metadata": {},
   "outputs": [
    {
     "data": {
      "text/html": [
       "<div>\n",
       "<style scoped>\n",
       "    .dataframe tbody tr th:only-of-type {\n",
       "        vertical-align: middle;\n",
       "    }\n",
       "\n",
       "    .dataframe tbody tr th {\n",
       "        vertical-align: top;\n",
       "    }\n",
       "\n",
       "    .dataframe thead th {\n",
       "        text-align: right;\n",
       "    }\n",
       "</style>\n",
       "<table border=\"1\" class=\"dataframe\">\n",
       "  <thead>\n",
       "    <tr style=\"text-align: right;\">\n",
       "      <th>Actual</th>\n",
       "      <th>0</th>\n",
       "      <th>1</th>\n",
       "    </tr>\n",
       "    <tr>\n",
       "      <th>Y_pred</th>\n",
       "      <th></th>\n",
       "      <th></th>\n",
       "    </tr>\n",
       "  </thead>\n",
       "  <tbody>\n",
       "    <tr>\n",
       "      <th>0</th>\n",
       "      <td>0.77</td>\n",
       "      <td>0.23</td>\n",
       "    </tr>\n",
       "    <tr>\n",
       "      <th>1</th>\n",
       "      <td>0.27</td>\n",
       "      <td>0.73</td>\n",
       "    </tr>\n",
       "  </tbody>\n",
       "</table>\n",
       "</div>"
      ],
      "text/plain": [
       "Actual     0     1\n",
       "Y_pred            \n",
       "0       0.77  0.23\n",
       "1       0.27  0.73"
      ]
     },
     "execution_count": 65,
     "metadata": {},
     "output_type": "execute_result"
    }
   ],
   "source": [
    "from sklearn.ensemble import RandomForestClassifier\n",
    "rf_model = RandomForestClassifier(max_depth=8, random_state=0).fit(train[X_features],train['y_class'])\n",
    "rf_pred = Prediction(rf_model) \n",
    "pd.crosstab(rf_pred['Y_pred'],rf_pred['Actual']).apply(lambda x: x/x.sum(), axis=1).round(2)"
   ]
  },
  {
   "cell_type": "code",
   "execution_count": 66,
   "id": "101a763a",
   "metadata": {},
   "outputs": [
    {
     "data": {
      "text/plain": [
       "0.7568807339449541"
      ]
     },
     "execution_count": 66,
     "metadata": {},
     "output_type": "execute_result"
    }
   ],
   "source": [
    "accuracy_score(rf_pred.Actual, rf_pred.Y_pred)"
   ]
  },
  {
   "cell_type": "code",
   "execution_count": 67,
   "id": "189ad2c7",
   "metadata": {},
   "outputs": [
    {
     "data": {
      "text/plain": [
       "enrollment                        0.222109\n",
       "indus                             0.154407\n",
       "location_count                    0.088468\n",
       "number_of_measures                0.078964\n",
       "condition_count                   0.074204\n",
       "intervention_count                0.069358\n",
       "include_country_united states     0.031117\n",
       "us_lead                           0.026495\n",
       "biological_included               0.018057\n",
       "other_included                    0.017776\n",
       "include_country_germany           0.015008\n",
       "include_country_united kingdom    0.013386\n",
       "procedure_included                0.012681\n",
       "drug_included                     0.012670\n",
       "random                            0.012563\n",
       "label_open                        0.012445\n",
       "measure_dor                       0.012291\n",
       "measure_aes                       0.011867\n",
       "measure_mtd                       0.011654\n",
       "purp_treat                        0.011268\n",
       "purp_prev                         0.010929\n",
       "measure_pfs                       0.010888\n",
       "measure_os                        0.010520\n",
       "measure_cmax                      0.009648\n",
       "measure_dlt                       0.009019\n",
       "measure_orr                       0.008884\n",
       "measure_tmax                      0.008501\n",
       "german_lead                       0.007289\n",
       "include_country_france            0.006684\n",
       "france_lead                       0.004180\n",
       "uk_lead                           0.003380\n",
       "label_nopen                       0.001782\n",
       "cross                             0.001507\n",
       "dtype: float64"
      ]
     },
     "execution_count": 67,
     "metadata": {},
     "output_type": "execute_result"
    }
   ],
   "source": [
    "pd.Series(rf_model.feature_importances_, index=X_features).sort_values(ascending = False)"
   ]
  },
  {
   "cell_type": "markdown",
   "id": "b8c85981",
   "metadata": {},
   "source": [
    "## 2.42 xgboost"
   ]
  },
  {
   "cell_type": "code",
   "execution_count": 339,
   "id": "66829c4f",
   "metadata": {},
   "outputs": [
    {
     "name": "stdout",
     "output_type": "stream",
     "text": [
      "Collecting xgboost\n",
      "  Downloading xgboost-1.7.6-py3-none-macosx_10_15_x86_64.macosx_11_0_x86_64.macosx_12_0_x86_64.whl (1.8 MB)\n",
      "\u001b[K     |████████████████████████████████| 1.8 MB 4.0 MB/s eta 0:00:01\n",
      "\u001b[?25hRequirement already satisfied: scipy in /Users/bowenlong/opt/anaconda3/lib/python3.9/site-packages (from xgboost) (1.7.1)\n",
      "Requirement already satisfied: numpy in /Users/bowenlong/opt/anaconda3/lib/python3.9/site-packages (from xgboost) (1.20.3)\n",
      "Installing collected packages: xgboost\n",
      "Successfully installed xgboost-1.7.6\n",
      "Note: you may need to restart the kernel to use updated packages.\n"
     ]
    }
   ],
   "source": [
    "#pip install xgboost"
   ]
  },
  {
   "cell_type": "code",
   "execution_count": 68,
   "id": "bec75034",
   "metadata": {},
   "outputs": [
    {
     "data": {
      "text/html": [
       "<div>\n",
       "<style scoped>\n",
       "    .dataframe tbody tr th:only-of-type {\n",
       "        vertical-align: middle;\n",
       "    }\n",
       "\n",
       "    .dataframe tbody tr th {\n",
       "        vertical-align: top;\n",
       "    }\n",
       "\n",
       "    .dataframe thead th {\n",
       "        text-align: right;\n",
       "    }\n",
       "</style>\n",
       "<table border=\"1\" class=\"dataframe\">\n",
       "  <thead>\n",
       "    <tr style=\"text-align: right;\">\n",
       "      <th>Actual</th>\n",
       "      <th>0</th>\n",
       "      <th>1</th>\n",
       "    </tr>\n",
       "    <tr>\n",
       "      <th>Y_pred</th>\n",
       "      <th></th>\n",
       "      <th></th>\n",
       "    </tr>\n",
       "  </thead>\n",
       "  <tbody>\n",
       "    <tr>\n",
       "      <th>0</th>\n",
       "      <td>0.77</td>\n",
       "      <td>0.23</td>\n",
       "    </tr>\n",
       "    <tr>\n",
       "      <th>1</th>\n",
       "      <td>0.34</td>\n",
       "      <td>0.66</td>\n",
       "    </tr>\n",
       "  </tbody>\n",
       "</table>\n",
       "</div>"
      ],
      "text/plain": [
       "Actual     0     1\n",
       "Y_pred            \n",
       "0       0.77  0.23\n",
       "1       0.34  0.66"
      ]
     },
     "execution_count": 68,
     "metadata": {},
     "output_type": "execute_result"
    }
   ],
   "source": [
    "import xgboost as xgb\n",
    "xgb_model = xgb.XGBClassifier(random_state=0).fit(train[X_features],train['y_class'])\n",
    "xgb_pred = Prediction(xgb_model) \n",
    "pd.crosstab(xgb_pred['Y_pred'],xgb_pred['Actual']).apply(lambda x: x/x.sum(), axis=1).round(2)"
   ]
  },
  {
   "cell_type": "code",
   "execution_count": 69,
   "id": "68c15b42",
   "metadata": {},
   "outputs": [
    {
     "data": {
      "text/plain": [
       "0.7247706422018348"
      ]
     },
     "execution_count": 69,
     "metadata": {},
     "output_type": "execute_result"
    }
   ],
   "source": [
    "accuracy_score(xgb_pred.Actual, xgb_pred.Y_pred)"
   ]
  },
  {
   "cell_type": "code",
   "execution_count": 299,
   "id": "dfb64613",
   "metadata": {},
   "outputs": [],
   "source": [
    "#top20 = pd.Series(rf_model.feature_importances_, index=X_features).sort_values(ascending = False)[:10].index.to_list()"
   ]
  },
  {
   "cell_type": "code",
   "execution_count": 300,
   "id": "5ad61b25",
   "metadata": {},
   "outputs": [],
   "source": [
    "\"\"\"# Prediction\n",
    "def Prediction2(model):\n",
    "    pred_prob = pd.DataFrame(model.predict_proba(test[top20]))\n",
    "    pred = pd.DataFrame(model.predict(test[top20]))\n",
    "    pred = pd.concat([test.reset_index()['y_class'],pred_prob,pred],axis=1, ignore_index=True)\n",
    "    pred.columns = ['Actual','y_prob_d1', 'y_prob_d2','y_prob_d3', 'Y_pred']\n",
    "    return(pred)\"\"\""
   ]
  },
  {
   "cell_type": "code",
   "execution_count": 301,
   "id": "7a22cb28",
   "metadata": {},
   "outputs": [
    {
     "data": {
      "text/html": [
       "<div>\n",
       "<style scoped>\n",
       "    .dataframe tbody tr th:only-of-type {\n",
       "        vertical-align: middle;\n",
       "    }\n",
       "\n",
       "    .dataframe tbody tr th {\n",
       "        vertical-align: top;\n",
       "    }\n",
       "\n",
       "    .dataframe thead th {\n",
       "        text-align: right;\n",
       "    }\n",
       "</style>\n",
       "<table border=\"1\" class=\"dataframe\">\n",
       "  <thead>\n",
       "    <tr style=\"text-align: right;\">\n",
       "      <th>Actual</th>\n",
       "      <th>D1: 2yr</th>\n",
       "      <th>D2: 2-5yr</th>\n",
       "      <th>D3: 5yr+</th>\n",
       "    </tr>\n",
       "    <tr>\n",
       "      <th>Y_pred</th>\n",
       "      <th></th>\n",
       "      <th></th>\n",
       "      <th></th>\n",
       "    </tr>\n",
       "  </thead>\n",
       "  <tbody>\n",
       "    <tr>\n",
       "      <th>D1: 2yr</th>\n",
       "      <td>0.33</td>\n",
       "      <td>0.67</td>\n",
       "      <td>0.00</td>\n",
       "    </tr>\n",
       "    <tr>\n",
       "      <th>D2: 2-5yr</th>\n",
       "      <td>0.16</td>\n",
       "      <td>0.59</td>\n",
       "      <td>0.25</td>\n",
       "    </tr>\n",
       "    <tr>\n",
       "      <th>D3: 5yr+</th>\n",
       "      <td>0.03</td>\n",
       "      <td>0.31</td>\n",
       "      <td>0.66</td>\n",
       "    </tr>\n",
       "  </tbody>\n",
       "</table>\n",
       "</div>"
      ],
      "text/plain": [
       "Actual     D1: 2yr  D2: 2-5yr  D3: 5yr+\n",
       "Y_pred                                 \n",
       "D1: 2yr       0.33       0.67      0.00\n",
       "D2: 2-5yr     0.16       0.59      0.25\n",
       "D3: 5yr+      0.03       0.31      0.66"
      ]
     },
     "execution_count": 301,
     "metadata": {},
     "output_type": "execute_result"
    }
   ],
   "source": [
    "\"\"\"from sklearn.ensemble import RandomForestClassifier\n",
    "rf_model = RandomForestClassifier(max_depth=8, random_state=0).fit(train[top20],train['y_class'])\n",
    "rf_pred = Prediction2(rf_model) \n",
    "pd.crosstab(rf_pred['Y_pred'],rf_pred['Actual']).apply(lambda x: x/x.sum(), axis=1).round(2)\"\"\""
   ]
  },
  {
   "cell_type": "code",
   "execution_count": 302,
   "id": "ab049c5e",
   "metadata": {},
   "outputs": [
    {
     "data": {
      "text/plain": [
       "0.6100917431192661"
      ]
     },
     "execution_count": 302,
     "metadata": {},
     "output_type": "execute_result"
    }
   ],
   "source": [
    "#accuracy_score(rf_pred.Actual, rf_pred.Y_pred)"
   ]
  },
  {
   "cell_type": "markdown",
   "id": "4f5acd68",
   "metadata": {},
   "source": [
    "## 2.5 naive bayes"
   ]
  },
  {
   "cell_type": "code",
   "execution_count": 70,
   "id": "e5cc1e79",
   "metadata": {},
   "outputs": [
    {
     "data": {
      "text/html": [
       "<div>\n",
       "<style scoped>\n",
       "    .dataframe tbody tr th:only-of-type {\n",
       "        vertical-align: middle;\n",
       "    }\n",
       "\n",
       "    .dataframe tbody tr th {\n",
       "        vertical-align: top;\n",
       "    }\n",
       "\n",
       "    .dataframe thead th {\n",
       "        text-align: right;\n",
       "    }\n",
       "</style>\n",
       "<table border=\"1\" class=\"dataframe\">\n",
       "  <thead>\n",
       "    <tr style=\"text-align: right;\">\n",
       "      <th>Actual</th>\n",
       "      <th>0</th>\n",
       "      <th>1</th>\n",
       "    </tr>\n",
       "    <tr>\n",
       "      <th>Y_pred</th>\n",
       "      <th></th>\n",
       "      <th></th>\n",
       "    </tr>\n",
       "  </thead>\n",
       "  <tbody>\n",
       "    <tr>\n",
       "      <th>0</th>\n",
       "      <td>0.81</td>\n",
       "      <td>0.19</td>\n",
       "    </tr>\n",
       "    <tr>\n",
       "      <th>1</th>\n",
       "      <td>0.52</td>\n",
       "      <td>0.48</td>\n",
       "    </tr>\n",
       "  </tbody>\n",
       "</table>\n",
       "</div>"
      ],
      "text/plain": [
       "Actual     0     1\n",
       "Y_pred            \n",
       "0       0.81  0.19\n",
       "1       0.52  0.48"
      ]
     },
     "execution_count": 70,
     "metadata": {},
     "output_type": "execute_result"
    }
   ],
   "source": [
    "from sklearn.naive_bayes import BernoulliNB\n",
    "from sklearn.naive_bayes import GaussianNB\n",
    "NB_model = GaussianNB().fit(train[X_features],train['y_class'])\n",
    "NB_pred = Prediction(NB_model)    \n",
    "pd.crosstab(NB_pred['Y_pred'],NB_pred['Actual']).apply(lambda x: x/x.sum(), axis=1).round(2)"
   ]
  },
  {
   "cell_type": "code",
   "execution_count": 71,
   "id": "e3235db6",
   "metadata": {},
   "outputs": [
    {
     "data": {
      "text/plain": [
       "0.5596330275229358"
      ]
     },
     "execution_count": 71,
     "metadata": {},
     "output_type": "execute_result"
    }
   ],
   "source": [
    "accuracy_score(NB_pred.Actual, NB_pred.Y_pred)"
   ]
  },
  {
   "cell_type": "markdown",
   "id": "bcacf560",
   "metadata": {},
   "source": [
    "## 2.6 KNN"
   ]
  },
  {
   "cell_type": "code",
   "execution_count": 72,
   "id": "2a5d5600",
   "metadata": {},
   "outputs": [
    {
     "data": {
      "text/html": [
       "<div>\n",
       "<style scoped>\n",
       "    .dataframe tbody tr th:only-of-type {\n",
       "        vertical-align: middle;\n",
       "    }\n",
       "\n",
       "    .dataframe tbody tr th {\n",
       "        vertical-align: top;\n",
       "    }\n",
       "\n",
       "    .dataframe thead th {\n",
       "        text-align: right;\n",
       "    }\n",
       "</style>\n",
       "<table border=\"1\" class=\"dataframe\">\n",
       "  <thead>\n",
       "    <tr style=\"text-align: right;\">\n",
       "      <th>Actual</th>\n",
       "      <th>0</th>\n",
       "      <th>1</th>\n",
       "    </tr>\n",
       "    <tr>\n",
       "      <th>Y_pred</th>\n",
       "      <th></th>\n",
       "      <th></th>\n",
       "    </tr>\n",
       "  </thead>\n",
       "  <tbody>\n",
       "    <tr>\n",
       "      <th>0</th>\n",
       "      <td>0.68</td>\n",
       "      <td>0.32</td>\n",
       "    </tr>\n",
       "    <tr>\n",
       "      <th>1</th>\n",
       "      <td>0.45</td>\n",
       "      <td>0.55</td>\n",
       "    </tr>\n",
       "  </tbody>\n",
       "</table>\n",
       "</div>"
      ],
      "text/plain": [
       "Actual     0     1\n",
       "Y_pred            \n",
       "0       0.68  0.32\n",
       "1       0.45  0.55"
      ]
     },
     "execution_count": 72,
     "metadata": {},
     "output_type": "execute_result"
    }
   ],
   "source": [
    "from sklearn.neighbors import KNeighborsClassifier\n",
    "KNN_model = KNeighborsClassifier(n_neighbors=3).fit(train[X_features],train['y_class'])\n",
    "KNN_pred = Prediction(KNN_model)    \n",
    "pd.crosstab(KNN_pred['Y_pred'],KNN_pred['Actual']).apply(lambda x: x/x.sum(), axis=1).round(2)"
   ]
  },
  {
   "cell_type": "code",
   "execution_count": 73,
   "id": "f1190bf8",
   "metadata": {},
   "outputs": [
    {
     "data": {
      "text/plain": [
       "0.6284403669724771"
      ]
     },
     "execution_count": 73,
     "metadata": {},
     "output_type": "execute_result"
    }
   ],
   "source": [
    "accuracy_score(KNN_pred.Actual, KNN_pred.Y_pred)"
   ]
  },
  {
   "cell_type": "markdown",
   "id": "b8e4dd9b",
   "metadata": {},
   "source": [
    "## 2.7 LDA"
   ]
  },
  {
   "cell_type": "code",
   "execution_count": 74,
   "id": "ede44b23",
   "metadata": {},
   "outputs": [
    {
     "data": {
      "text/html": [
       "<div>\n",
       "<style scoped>\n",
       "    .dataframe tbody tr th:only-of-type {\n",
       "        vertical-align: middle;\n",
       "    }\n",
       "\n",
       "    .dataframe tbody tr th {\n",
       "        vertical-align: top;\n",
       "    }\n",
       "\n",
       "    .dataframe thead th {\n",
       "        text-align: right;\n",
       "    }\n",
       "</style>\n",
       "<table border=\"1\" class=\"dataframe\">\n",
       "  <thead>\n",
       "    <tr style=\"text-align: right;\">\n",
       "      <th>Actual</th>\n",
       "      <th>0</th>\n",
       "      <th>1</th>\n",
       "    </tr>\n",
       "    <tr>\n",
       "      <th>Y_pred</th>\n",
       "      <th></th>\n",
       "      <th></th>\n",
       "    </tr>\n",
       "  </thead>\n",
       "  <tbody>\n",
       "    <tr>\n",
       "      <th>0</th>\n",
       "      <td>0.75</td>\n",
       "      <td>0.25</td>\n",
       "    </tr>\n",
       "    <tr>\n",
       "      <th>1</th>\n",
       "      <td>0.36</td>\n",
       "      <td>0.64</td>\n",
       "    </tr>\n",
       "  </tbody>\n",
       "</table>\n",
       "</div>"
      ],
      "text/plain": [
       "Actual     0     1\n",
       "Y_pred            \n",
       "0       0.75  0.25\n",
       "1       0.36  0.64"
      ]
     },
     "execution_count": 74,
     "metadata": {},
     "output_type": "execute_result"
    }
   ],
   "source": [
    "from sklearn.discriminant_analysis import LinearDiscriminantAnalysis\n",
    "disc_model = LinearDiscriminantAnalysis().fit(train[X_features],train['y_class'])\n",
    "disc_pred = Prediction(disc_model)    \n",
    "pd.crosstab(disc_pred['Y_pred'],disc_pred['Actual']).apply(lambda x: x/x.sum(), axis=1).round(2)"
   ]
  },
  {
   "cell_type": "code",
   "execution_count": 75,
   "id": "37cedb20",
   "metadata": {},
   "outputs": [
    {
     "data": {
      "text/plain": [
       "0.7064220183486238"
      ]
     },
     "execution_count": 75,
     "metadata": {},
     "output_type": "execute_result"
    }
   ],
   "source": [
    "accuracy_score(disc_pred.Actual, disc_pred.Y_pred)"
   ]
  }
 ],
 "metadata": {
  "kernelspec": {
   "display_name": "Python 3 (ipykernel)",
   "language": "python",
   "name": "python3"
  },
  "language_info": {
   "codemirror_mode": {
    "name": "ipython",
    "version": 3
   },
   "file_extension": ".py",
   "mimetype": "text/x-python",
   "name": "python",
   "nbconvert_exporter": "python",
   "pygments_lexer": "ipython3",
   "version": "3.9.7"
  }
 },
 "nbformat": 4,
 "nbformat_minor": 5
}
