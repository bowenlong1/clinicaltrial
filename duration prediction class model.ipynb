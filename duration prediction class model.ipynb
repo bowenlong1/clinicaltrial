{
 "cells": [
  {
   "cell_type": "code",
   "execution_count": 1,
   "id": "cde74beb",
   "metadata": {},
   "outputs": [],
   "source": [
    "import numpy as np\n",
    "import pandas as pd\n",
    "import datetime as dt\n",
    "import re\n",
    "import matplotlib.pyplot as plt\n",
    "from collections import Counter"
   ]
  },
  {
   "cell_type": "code",
   "execution_count": 2,
   "id": "8a818286",
   "metadata": {},
   "outputs": [],
   "source": [
    "import warnings\n",
    "warnings.filterwarnings(\"ignore\")"
   ]
  },
  {
   "cell_type": "code",
   "execution_count": 3,
   "id": "1d4d6268",
   "metadata": {},
   "outputs": [],
   "source": [
    "df1 = pd.read_csv('duration eda_bowen.csv')"
   ]
  },
  {
   "cell_type": "code",
   "execution_count": 17,
   "id": "9c5d14cb",
   "metadata": {},
   "outputs": [],
   "source": [
    "df1 = df1.rename(columns = {'nct number':'nct_number'})"
   ]
  },
  {
   "cell_type": "code",
   "execution_count": 8,
   "id": "5a3589ce",
   "metadata": {},
   "outputs": [],
   "source": [
    "df2 = pd.read_csv('updated_data (1).csv')"
   ]
  },
  {
   "cell_type": "code",
   "execution_count": 23,
   "id": "5e4673df",
   "metadata": {},
   "outputs": [],
   "source": [
    "df = df1.merge(df2[['nct_number','measure_PFS', 'measure_MTD', 'measure_Cmax', 'measure_OS',\n",
    "       'measure_DOR', 'measure_DLT', 'measure_', 'measure_AEs', 'measure_Tmax',\n",
    "       'measure_ORR', 'number_of_measures', 'drug_included',\n",
    "       'biological_included', 'other_included', 'procedure_included',\n",
    "       'intervention_count', 'multiple_interverions',\n",
    "       'include_country_United States', 'include_country_France',\n",
    "       'include_country_United Kingdom', 'include_country_Germany',\n",
    "       'lead_country', 'location_count', 'multiple_locations']], how = 'left')"
   ]
  },
  {
   "cell_type": "code",
   "execution_count": 33,
   "id": "1fcf7714",
   "metadata": {},
   "outputs": [],
   "source": [
    "df.columns = df.columns.str.lower()"
   ]
  },
  {
   "cell_type": "code",
   "execution_count": 30,
   "id": "59b793d1",
   "metadata": {},
   "outputs": [],
   "source": [
    "df2.groupby('age').agg({'duration':['count', 'mean']}).sort_values(('duration', 'count'), ascending = False).to_csv('age.csv')"
   ]
  },
  {
   "cell_type": "code",
   "execution_count": 4,
   "id": "931724bf",
   "metadata": {},
   "outputs": [],
   "source": [
    "##conditions, outcome measures,Funded Bys, study design"
   ]
  },
  {
   "cell_type": "markdown",
   "id": "7f7a7437",
   "metadata": {},
   "source": [
    "## 1. duration bin"
   ]
  },
  {
   "cell_type": "code",
   "execution_count": 35,
   "id": "8786b21c",
   "metadata": {},
   "outputs": [
    {
     "data": {
      "text/plain": [
       "<AxesSubplot:>"
      ]
     },
     "execution_count": 35,
     "metadata": {},
     "output_type": "execute_result"
    },
    {
     "data": {
      "image/png": "[encoded data removed]",
      "text/plain": [
       "<Figure size 432x288 with 1 Axes>"
      ]
     },
     "metadata": {
      "needs_background": "light"
     },
     "output_type": "display_data"
    }
   ],
   "source": [
    "df.duration.hist()"
   ]
  },
  {
   "cell_type": "code",
   "execution_count": 49,
   "id": "73181210",
   "metadata": {},
   "outputs": [
    {
     "data": {
      "text/plain": [
       "1788.3636363636363"
      ]
     },
     "execution_count": 49,
     "metadata": {},
     "output_type": "execute_result"
    }
   ],
   "source": [
    "df.duration.mean()"
   ]
  },
  {
   "cell_type": "code",
   "execution_count": 46,
   "id": "35ca2cf4",
   "metadata": {},
   "outputs": [],
   "source": [
    "def condition(x):\n",
    "    if x<730:\n",
    "        return \"D1: 2yr\"\n",
    "    elif x<1825:\n",
    "        return \"D2: 2-5yr\"\n",
    "    else:\n",
    "        return 'D3: 5yr+'"
   ]
  },
  {
   "cell_type": "code",
   "execution_count": 47,
   "id": "5ebc40a0",
   "metadata": {},
   "outputs": [],
   "source": [
    "df['dc'] = df['duration'].apply(lambda x: condition(x))"
   ]
  },
  {
   "cell_type": "code",
   "execution_count": 48,
   "id": "ccd45ac9",
   "metadata": {},
   "outputs": [
    {
     "data": {
      "text/plain": [
       "D2: 2-5yr    525\n",
       "D3: 5yr+     438\n",
       "D1: 2yr      126\n",
       "Name: dc, dtype: int64"
      ]
     },
     "execution_count": 48,
     "metadata": {},
     "output_type": "execute_result"
    }
   ],
   "source": [
    "df.dc.value_counts()"
   ]
  },
  {
   "cell_type": "code",
   "execution_count": 50,
   "id": "2e264553",
   "metadata": {},
   "outputs": [
    {
     "data": {
      "text/plain": [
       "Index(['unnamed: 0', 'rank', 'nct_number', 'title', 'acronym', 'status',\n",
       "       'study results', 'conditions', 'interventions', 'outcome measures',\n",
       "       'sponsor/collaborators', 'gender', 'age', 'phases', 'enrollment',\n",
       "       'funded bys', 'study type', 'study designs', 'other ids', 'start date',\n",
       "       'primary completion date', 'completion date', 'first posted',\n",
       "       'results first posted', 'last update posted', 'locations',\n",
       "       'study documents', 'url', 'duration', 'ftype2', 'cond1', 'allocation',\n",
       "       'interv_mod2', 'mask1', 'purp1', 'measure_pfs', 'measure_mtd',\n",
       "       'measure_cmax', 'measure_os', 'measure_dor', 'measure_dlt', 'measure_',\n",
       "       'measure_aes', 'measure_tmax', 'measure_orr', 'number_of_measures',\n",
       "       'drug_included', 'biological_included', 'other_included',\n",
       "       'procedure_included', 'intervention_count', 'multiple_interverions',\n",
       "       'include_country_united states', 'include_country_france',\n",
       "       'include_country_united kingdom', 'include_country_germany',\n",
       "       'lead_country', 'location_count', 'multiple_locations', 'dc'],\n",
       "      dtype='object')"
      ]
     },
     "execution_count": 50,
     "metadata": {},
     "output_type": "execute_result"
    }
   ],
   "source": [
    "df.columns"
   ]
  },
  {
   "cell_type": "markdown",
   "id": "7716e42d",
   "metadata": {},
   "source": [
    "## 2. modeling"
   ]
  },
  {
   "cell_type": "code",
   "execution_count": null,
   "id": "5af8e864",
   "metadata": {},
   "outputs": [],
   "source": [
    "## 2.0 data prepare - one hot encoding"
   ]
  },
  {
   "cell_type": "code",
   "execution_count": 53,
   "id": "cd0cb6fa",
   "metadata": {},
   "outputs": [],
   "source": [
    "from sklearn.model_selection import train_test_split"
   ]
  },
  {
   "cell_type": "code",
   "execution_count": 62,
   "id": "3221a3d4",
   "metadata": {},
   "outputs": [],
   "source": [
    "df['y_class'] = df['dc']"
   ]
  },
  {
   "cell_type": "code",
   "execution_count": 67,
   "id": "03662fb0",
   "metadata": {},
   "outputs": [],
   "source": [
    "df['indus'] = df['ftype2'].apply(lambda x: 1 if x=='Industry Lead' else 0)"
   ]
  },
  {
   "cell_type": "code",
   "execution_count": 98,
   "id": "879f443d",
   "metadata": {},
   "outputs": [],
   "source": [
    "df['condition_count'] = df.conditions.str.count('\\|') + 1"
   ]
  },
  {
   "cell_type": "code",
   "execution_count": 71,
   "id": "bc95fd7b",
   "metadata": {},
   "outputs": [],
   "source": [
    "df['random'] = df['allocation'].apply(lambda x: 1 if x=='Randomized' else 0)"
   ]
  },
  {
   "cell_type": "code",
   "execution_count": 73,
   "id": "d3c4eb0d",
   "metadata": {},
   "outputs": [],
   "source": [
    "df['cross'] = df['interv_mod2'].apply(lambda x: 1 if x=='Crossover Assignment' else 0)"
   ]
  },
  {
   "cell_type": "code",
   "execution_count": 102,
   "id": "c4bc0ae8",
   "metadata": {},
   "outputs": [],
   "source": [
    "df['label_open'] = df['mask1'].apply(lambda x: 1 if x=='None (Open Label)' else 0)\n",
    "df['label_nopen'] = df['mask1'].apply(lambda x: 1 if x=='Not Open Label' else 0)"
   ]
  },
  {
   "cell_type": "code",
   "execution_count": 103,
   "id": "78dfc946",
   "metadata": {},
   "outputs": [
    {
     "data": {
      "text/plain": [
       "None (Open Label)    996\n",
       "Not Open Label        14\n",
       "Name: mask1, dtype: int64"
      ]
     },
     "execution_count": 103,
     "metadata": {},
     "output_type": "execute_result"
    }
   ],
   "source": [
    "df.mask1.value_counts()"
   ]
  },
  {
   "cell_type": "code",
   "execution_count": 104,
   "id": "c002e50b",
   "metadata": {},
   "outputs": [],
   "source": [
    "df['purp_treat'] = df['purp1'].apply(lambda x: 1 if x=='Treatment/Diagnostic' else 0)\n",
    "df['purp_prev'] = df['purp1'].apply(lambda x: 1 if x=='Other/Basic/Prevention' else 0)"
   ]
  },
  {
   "cell_type": "code",
   "execution_count": 79,
   "id": "9d766277",
   "metadata": {},
   "outputs": [
    {
     "data": {
      "text/plain": [
       "Treatment/Diagnostic      1035\n",
       "Other/Basic/Prevention      34\n",
       "Supportive Care             15\n",
       "Name: purp1, dtype: int64"
      ]
     },
     "execution_count": 79,
     "metadata": {},
     "output_type": "execute_result"
    }
   ],
   "source": [
    "df.purp1.value_counts()"
   ]
  },
  {
   "cell_type": "code",
   "execution_count": 109,
   "id": "0dc81423",
   "metadata": {},
   "outputs": [],
   "source": [
    "df['us_lead'] = df['lead_country'].apply(lambda x: 1 if x=='United States' else 0)\n",
    "df['france_lead'] = df['lead_country'].apply(lambda x: 1 if x=='France' else 0)\n",
    "df['uk_lead'] = df['lead_country'].apply(lambda x: 1 if x=='United Kingdom' else 0)\n",
    "df['german_lead'] = df['lead_country'].apply(lambda x: 1 if x=='Germany' else 0)"
   ]
  },
  {
   "cell_type": "code",
   "execution_count": 105,
   "id": "23c282fa",
   "metadata": {},
   "outputs": [
    {
     "data": {
      "text/plain": [
       "United States     829\n",
       "Others            195\n",
       "France             28\n",
       "United Kingdom     21\n",
       "Germany            16\n",
       "Name: lead_country, dtype: int64"
      ]
     },
     "execution_count": 105,
     "metadata": {},
     "output_type": "execute_result"
    }
   ],
   "source": [
    "df.lead_country.value_counts()"
   ]
  },
  {
   "cell_type": "code",
   "execution_count": 106,
   "id": "68278e13",
   "metadata": {},
   "outputs": [
    {
     "data": {
      "text/plain": [
       "Index(['unnamed: 0', 'rank', 'nct_number', 'title', 'acronym', 'status',\n",
       "       'study results', 'conditions', 'interventions', 'outcome measures',\n",
       "       'sponsor/collaborators', 'gender', 'age', 'phases', 'enrollment',\n",
       "       'funded bys', 'study type', 'study designs', 'other ids', 'start date',\n",
       "       'primary completion date', 'completion date', 'first posted',\n",
       "       'results first posted', 'last update posted', 'locations',\n",
       "       'study documents', 'url', 'duration', 'ftype2', 'cond1', 'allocation',\n",
       "       'interv_mod2', 'mask1', 'purp1', 'measure_pfs', 'measure_mtd',\n",
       "       'measure_cmax', 'measure_os', 'measure_dor', 'measure_dlt', 'measure_',\n",
       "       'measure_aes', 'measure_tmax', 'measure_orr', 'number_of_measures',\n",
       "       'drug_included', 'biological_included', 'other_included',\n",
       "       'procedure_included', 'intervention_count', 'multiple_interverions',\n",
       "       'include_country_united states', 'include_country_france',\n",
       "       'include_country_united kingdom', 'include_country_germany',\n",
       "       'lead_country', 'location_count', 'multiple_locations', 'dc', 'y_class',\n",
       "       'indus', 'random', 'cross', 'condition_count', 'label_open',\n",
       "       'label_nopen', 'purp_treat', 'purp_prev'],\n",
       "      dtype='object')"
      ]
     },
     "execution_count": 106,
     "metadata": {},
     "output_type": "execute_result"
    }
   ],
   "source": [
    "df.columns"
   ]
  },
  {
   "cell_type": "markdown",
   "id": "78965bfd",
   "metadata": {},
   "source": [
    "# what's 'measure_'"
   ]
  },
  {
   "cell_type": "code",
   "execution_count": 110,
   "id": "02bcb6b2",
   "metadata": {},
   "outputs": [],
   "source": [
    "X_features = ['indus', 'condition_count', 'random', 'cross', 'label_open', 'label_nopen',\n",
    "              'purp_treat', 'purp_prev', 'us_lead', 'france_lead', 'uk_lead', 'german_lead',\n",
    "              'measure_pfs', 'measure_mtd','measure_cmax', 'measure_os', 'measure_dor', \n",
    "              'measure_dlt', 'measure_aes', 'measure_tmax', 'measure_orr', 'number_of_measures',\n",
    "              'drug_included', 'biological_included', 'other_included','procedure_included', 'intervention_count',\n",
    "              'include_country_united states', 'include_country_france','include_country_united kingdom', \n",
    "              'include_country_germany','location_count']"
   ]
  },
  {
   "cell_type": "code",
   "execution_count": 111,
   "id": "17997e0a",
   "metadata": {},
   "outputs": [],
   "source": [
    "train, test = train_test_split(df[X_features+['y_class']], test_size = 0.2, random_state = 42)"
   ]
  },
  {
   "cell_type": "code",
   "execution_count": 122,
   "id": "7f9579bc",
   "metadata": {},
   "outputs": [],
   "source": [
    "from sklearn.metrics import accuracy_score"
   ]
  },
  {
   "cell_type": "markdown",
   "id": "437672ac",
   "metadata": {},
   "source": [
    "## 2.1 logistic reg"
   ]
  },
  {
   "cell_type": "code",
   "execution_count": 125,
   "id": "d09a9c22",
   "metadata": {},
   "outputs": [
    {
     "name": "stdout",
     "output_type": "stream",
     "text": [
      "(218, 5)\n"
     ]
    },
    {
     "data": {
      "text/plain": [
       "0.6146788990825688"
      ]
     },
     "execution_count": 125,
     "metadata": {},
     "output_type": "execute_result"
    }
   ],
   "source": [
    "from sklearn.linear_model import LogisticRegression\n",
    "\n",
    "#modeling\n",
    "LM_model = LogisticRegression(penalty='l2', max_iter=500, multi_class='ovr', solver='liblinear')\n",
    "LM_model.fit(train[X_features],train['y_class'])\n",
    "\n",
    "# Prediction\n",
    "LM_pred_prob = pd.DataFrame(LM_model.predict_proba(test[X_features]))\n",
    "LM_pred = pd.DataFrame(LM_model.predict(test[X_features]))\n",
    "LM_pred = pd.concat([test.reset_index()['y_class'],LM_pred_prob,LM_pred],axis=1, ignore_index=True)\n",
    "print(LM_pred.shape)\n",
    "\n",
    "LM_pred.columns = ['Actual','y_prob_d1', 'y_prob_d2','y_prob_d3', 'Y_pred']\n",
    "LM_pred.head()\n",
    "\n",
    "## performance\n",
    "accuracy_score(LM_pred.Actual, LM_pred.Y_pred)"
   ]
  },
  {
   "cell_type": "code",
   "execution_count": 128,
   "id": "bd389f04",
   "metadata": {},
   "outputs": [
    {
     "data": {
      "text/html": [
       "<div>\n",
       "<style scoped>\n",
       "    .dataframe tbody tr th:only-of-type {\n",
       "        vertical-align: middle;\n",
       "    }\n",
       "\n",
       "    .dataframe tbody tr th {\n",
       "        vertical-align: top;\n",
       "    }\n",
       "\n",
       "    .dataframe thead th {\n",
       "        text-align: right;\n",
       "    }\n",
       "</style>\n",
       "<table border=\"1\" class=\"dataframe\">\n",
       "  <thead>\n",
       "    <tr style=\"text-align: right;\">\n",
       "      <th>Actual</th>\n",
       "      <th>D1: 2yr</th>\n",
       "      <th>D2: 2-5yr</th>\n",
       "      <th>D3: 5yr+</th>\n",
       "    </tr>\n",
       "    <tr>\n",
       "      <th>Y_pred</th>\n",
       "      <th></th>\n",
       "      <th></th>\n",
       "      <th></th>\n",
       "    </tr>\n",
       "  </thead>\n",
       "  <tbody>\n",
       "    <tr>\n",
       "      <th>D1: 2yr</th>\n",
       "      <td>2</td>\n",
       "      <td>0</td>\n",
       "      <td>0</td>\n",
       "    </tr>\n",
       "    <tr>\n",
       "      <th>D2: 2-5yr</th>\n",
       "      <td>18</td>\n",
       "      <td>75</td>\n",
       "      <td>32</td>\n",
       "    </tr>\n",
       "    <tr>\n",
       "      <th>D3: 5yr+</th>\n",
       "      <td>5</td>\n",
       "      <td>29</td>\n",
       "      <td>57</td>\n",
       "    </tr>\n",
       "  </tbody>\n",
       "</table>\n",
       "</div>"
      ],
      "text/plain": [
       "Actual     D1: 2yr  D2: 2-5yr  D3: 5yr+\n",
       "Y_pred                                 \n",
       "D1: 2yr          2          0         0\n",
       "D2: 2-5yr       18         75        32\n",
       "D3: 5yr+         5         29        57"
      ]
     },
     "execution_count": 128,
     "metadata": {},
     "output_type": "execute_result"
    }
   ],
   "source": [
    "pd.crosstab(LM_pred['Y_pred'],LM_pred['Actual']) "
   ]
  },
  {
   "cell_type": "code",
   "execution_count": 129,
   "id": "c40464fd",
   "metadata": {},
   "outputs": [
    {
     "data": {
      "text/html": [
       "<div>\n",
       "<style scoped>\n",
       "    .dataframe tbody tr th:only-of-type {\n",
       "        vertical-align: middle;\n",
       "    }\n",
       "\n",
       "    .dataframe tbody tr th {\n",
       "        vertical-align: top;\n",
       "    }\n",
       "\n",
       "    .dataframe thead th {\n",
       "        text-align: right;\n",
       "    }\n",
       "</style>\n",
       "<table border=\"1\" class=\"dataframe\">\n",
       "  <thead>\n",
       "    <tr style=\"text-align: right;\">\n",
       "      <th>Actual</th>\n",
       "      <th>D1: 2yr</th>\n",
       "      <th>D2: 2-5yr</th>\n",
       "      <th>D3: 5yr+</th>\n",
       "    </tr>\n",
       "    <tr>\n",
       "      <th>Y_pred</th>\n",
       "      <th></th>\n",
       "      <th></th>\n",
       "      <th></th>\n",
       "    </tr>\n",
       "  </thead>\n",
       "  <tbody>\n",
       "    <tr>\n",
       "      <th>D1: 2yr</th>\n",
       "      <td>1.00</td>\n",
       "      <td>0.00</td>\n",
       "      <td>0.00</td>\n",
       "    </tr>\n",
       "    <tr>\n",
       "      <th>D2: 2-5yr</th>\n",
       "      <td>0.14</td>\n",
       "      <td>0.60</td>\n",
       "      <td>0.26</td>\n",
       "    </tr>\n",
       "    <tr>\n",
       "      <th>D3: 5yr+</th>\n",
       "      <td>0.05</td>\n",
       "      <td>0.32</td>\n",
       "      <td>0.63</td>\n",
       "    </tr>\n",
       "  </tbody>\n",
       "</table>\n",
       "</div>"
      ],
      "text/plain": [
       "Actual     D1: 2yr  D2: 2-5yr  D3: 5yr+\n",
       "Y_pred                                 \n",
       "D1: 2yr       1.00       0.00      0.00\n",
       "D2: 2-5yr     0.14       0.60      0.26\n",
       "D3: 5yr+      0.05       0.32      0.63"
      ]
     },
     "execution_count": 129,
     "metadata": {},
     "output_type": "execute_result"
    }
   ],
   "source": [
    "pd.crosstab(LM_pred['Y_pred'],LM_pred['Actual']).apply(lambda x: x/x.sum(), axis=1).round(2)"
   ]
  },
  {
   "cell_type": "markdown",
   "id": "2e843ee0",
   "metadata": {},
   "source": [
    "## 2.2 decision tree"
   ]
  },
  {
   "cell_type": "code",
   "execution_count": 130,
   "id": "be3a9d6c",
   "metadata": {},
   "outputs": [
    {
     "data": {
      "text/html": [
       "<div>\n",
       "<style scoped>\n",
       "    .dataframe tbody tr th:only-of-type {\n",
       "        vertical-align: middle;\n",
       "    }\n",
       "\n",
       "    .dataframe tbody tr th {\n",
       "        vertical-align: top;\n",
       "    }\n",
       "\n",
       "    .dataframe thead th {\n",
       "        text-align: right;\n",
       "    }\n",
       "</style>\n",
       "<table border=\"1\" class=\"dataframe\">\n",
       "  <thead>\n",
       "    <tr style=\"text-align: right;\">\n",
       "      <th>Actual</th>\n",
       "      <th>D1: 2yr</th>\n",
       "      <th>D2: 2-5yr</th>\n",
       "      <th>D3: 5yr+</th>\n",
       "    </tr>\n",
       "    <tr>\n",
       "      <th>Y_pred</th>\n",
       "      <th></th>\n",
       "      <th></th>\n",
       "      <th></th>\n",
       "    </tr>\n",
       "  </thead>\n",
       "  <tbody>\n",
       "    <tr>\n",
       "      <th>D1: 2yr</th>\n",
       "      <td>0.23</td>\n",
       "      <td>0.55</td>\n",
       "      <td>0.23</td>\n",
       "    </tr>\n",
       "    <tr>\n",
       "      <th>D2: 2-5yr</th>\n",
       "      <td>0.13</td>\n",
       "      <td>0.51</td>\n",
       "      <td>0.36</td>\n",
       "    </tr>\n",
       "    <tr>\n",
       "      <th>D3: 5yr+</th>\n",
       "      <td>0.07</td>\n",
       "      <td>0.42</td>\n",
       "      <td>0.51</td>\n",
       "    </tr>\n",
       "  </tbody>\n",
       "</table>\n",
       "</div>"
      ],
      "text/plain": [
       "Actual     D1: 2yr  D2: 2-5yr  D3: 5yr+\n",
       "Y_pred                                 \n",
       "D1: 2yr       0.23       0.55      0.23\n",
       "D2: 2-5yr     0.13       0.51      0.36\n",
       "D3: 5yr+      0.07       0.42      0.51"
      ]
     },
     "execution_count": 130,
     "metadata": {},
     "output_type": "execute_result"
    }
   ],
   "source": [
    "from sklearn.tree import DecisionTreeClassifier\n",
    "\n",
    "# Modeling\n",
    "dt_model = DecisionTreeClassifier(random_state=0).fit(train[X_features],train['y_class'])\n",
    "\n",
    "# Prediction\n",
    "def Prediction(model):\n",
    "    pred_prob = pd.DataFrame(model.predict_proba(test[X_features]))\n",
    "    pred = pd.DataFrame(model.predict(test[X_features]))\n",
    "    pred = pd.concat([test.reset_index()['y_class'],pred_prob,pred],axis=1, ignore_index=True)\n",
    "    pred.columns = ['Actual','y_prob_d1', 'y_prob_d2','y_prob_d3', 'Y_pred']\n",
    "    return(pred)\n",
    "dt_pred = Prediction(dt_model)  \n",
    "\n",
    "# Actual vs. Prediction\n",
    "pd.crosstab(dt_pred['Y_pred'],dt_pred['Actual']).apply(lambda x: x/x.sum(), axis=1).round(2)"
   ]
  },
  {
   "cell_type": "code",
   "execution_count": 131,
   "id": "29cc510c",
   "metadata": {},
   "outputs": [
    {
     "data": {
      "text/plain": [
       "0.481651376146789"
      ]
     },
     "execution_count": 131,
     "metadata": {},
     "output_type": "execute_result"
    }
   ],
   "source": [
    "accuracy_score(dt_pred.Actual, dt_pred.Y_pred)"
   ]
  },
  {
   "cell_type": "markdown",
   "id": "d5a0b6f0",
   "metadata": {},
   "source": [
    "## 2.3 neural network"
   ]
  },
  {
   "cell_type": "code",
   "execution_count": 132,
   "id": "37b744f3",
   "metadata": {},
   "outputs": [
    {
     "data": {
      "text/html": [
       "<div>\n",
       "<style scoped>\n",
       "    .dataframe tbody tr th:only-of-type {\n",
       "        vertical-align: middle;\n",
       "    }\n",
       "\n",
       "    .dataframe tbody tr th {\n",
       "        vertical-align: top;\n",
       "    }\n",
       "\n",
       "    .dataframe thead th {\n",
       "        text-align: right;\n",
       "    }\n",
       "</style>\n",
       "<table border=\"1\" class=\"dataframe\">\n",
       "  <thead>\n",
       "    <tr style=\"text-align: right;\">\n",
       "      <th>Actual</th>\n",
       "      <th>D1: 2yr</th>\n",
       "      <th>D2: 2-5yr</th>\n",
       "      <th>D3: 5yr+</th>\n",
       "    </tr>\n",
       "    <tr>\n",
       "      <th>Y_pred</th>\n",
       "      <th></th>\n",
       "      <th></th>\n",
       "      <th></th>\n",
       "    </tr>\n",
       "  </thead>\n",
       "  <tbody>\n",
       "    <tr>\n",
       "      <th>D1: 2yr</th>\n",
       "      <td>0.50</td>\n",
       "      <td>0.38</td>\n",
       "      <td>0.12</td>\n",
       "    </tr>\n",
       "    <tr>\n",
       "      <th>D2: 2-5yr</th>\n",
       "      <td>0.10</td>\n",
       "      <td>0.59</td>\n",
       "      <td>0.31</td>\n",
       "    </tr>\n",
       "    <tr>\n",
       "      <th>D3: 5yr+</th>\n",
       "      <td>0.06</td>\n",
       "      <td>0.34</td>\n",
       "      <td>0.60</td>\n",
       "    </tr>\n",
       "  </tbody>\n",
       "</table>\n",
       "</div>"
      ],
      "text/plain": [
       "Actual     D1: 2yr  D2: 2-5yr  D3: 5yr+\n",
       "Y_pred                                 \n",
       "D1: 2yr       0.50       0.38      0.12\n",
       "D2: 2-5yr     0.10       0.59      0.31\n",
       "D3: 5yr+      0.06       0.34      0.60"
      ]
     },
     "execution_count": 132,
     "metadata": {},
     "output_type": "execute_result"
    }
   ],
   "source": [
    "from sklearn.neural_network import MLPClassifier\n",
    "NN_model = MLPClassifier(random_state=1, max_iter=300).fit(train[X_features],train['y_class'])\n",
    "NN_pred = Prediction(NN_model)    \n",
    "pd.crosstab(NN_pred['Y_pred'],NN_pred['Actual']).apply(lambda x: x/x.sum(), axis=1).round(2)"
   ]
  },
  {
   "cell_type": "code",
   "execution_count": 133,
   "id": "25cd340f",
   "metadata": {},
   "outputs": [
    {
     "data": {
      "text/plain": [
       "0.5871559633027523"
      ]
     },
     "execution_count": 133,
     "metadata": {},
     "output_type": "execute_result"
    }
   ],
   "source": [
    "accuracy_score(NN_pred.Actual, NN_pred.Y_pred)"
   ]
  },
  {
   "cell_type": "markdown",
   "id": "da7e2fb1",
   "metadata": {},
   "source": [
    "## 2.4 random forest"
   ]
  },
  {
   "cell_type": "code",
   "execution_count": 134,
   "id": "b18eb70b",
   "metadata": {},
   "outputs": [
    {
     "data": {
      "text/html": [
       "<div>\n",
       "<style scoped>\n",
       "    .dataframe tbody tr th:only-of-type {\n",
       "        vertical-align: middle;\n",
       "    }\n",
       "\n",
       "    .dataframe tbody tr th {\n",
       "        vertical-align: top;\n",
       "    }\n",
       "\n",
       "    .dataframe thead th {\n",
       "        text-align: right;\n",
       "    }\n",
       "</style>\n",
       "<table border=\"1\" class=\"dataframe\">\n",
       "  <thead>\n",
       "    <tr style=\"text-align: right;\">\n",
       "      <th>Actual</th>\n",
       "      <th>D1: 2yr</th>\n",
       "      <th>D2: 2-5yr</th>\n",
       "      <th>D3: 5yr+</th>\n",
       "    </tr>\n",
       "    <tr>\n",
       "      <th>Y_pred</th>\n",
       "      <th></th>\n",
       "      <th></th>\n",
       "      <th></th>\n",
       "    </tr>\n",
       "  </thead>\n",
       "  <tbody>\n",
       "    <tr>\n",
       "      <th>D1: 2yr</th>\n",
       "      <td>1.00</td>\n",
       "      <td>0.00</td>\n",
       "      <td>0.00</td>\n",
       "    </tr>\n",
       "    <tr>\n",
       "      <th>D2: 2-5yr</th>\n",
       "      <td>0.15</td>\n",
       "      <td>0.58</td>\n",
       "      <td>0.27</td>\n",
       "    </tr>\n",
       "    <tr>\n",
       "      <th>D3: 5yr+</th>\n",
       "      <td>0.04</td>\n",
       "      <td>0.34</td>\n",
       "      <td>0.62</td>\n",
       "    </tr>\n",
       "  </tbody>\n",
       "</table>\n",
       "</div>"
      ],
      "text/plain": [
       "Actual     D1: 2yr  D2: 2-5yr  D3: 5yr+\n",
       "Y_pred                                 \n",
       "D1: 2yr       1.00       0.00      0.00\n",
       "D2: 2-5yr     0.15       0.58      0.27\n",
       "D3: 5yr+      0.04       0.34      0.62"
      ]
     },
     "execution_count": 134,
     "metadata": {},
     "output_type": "execute_result"
    }
   ],
   "source": [
    "from sklearn.ensemble import RandomForestClassifier\n",
    "rf_model = RandomForestClassifier(max_depth=8, random_state=0).fit(train[X_features],train['y_class'])\n",
    "rf_pred = Prediction(rf_model) \n",
    "pd.crosstab(rf_pred['Y_pred'],rf_pred['Actual']).apply(lambda x: x/x.sum(), axis=1).round(2)"
   ]
  },
  {
   "cell_type": "code",
   "execution_count": 135,
   "id": "0016d5b2",
   "metadata": {},
   "outputs": [
    {
     "data": {
      "text/plain": [
       "0.6009174311926605"
      ]
     },
     "execution_count": 135,
     "metadata": {},
     "output_type": "execute_result"
    }
   ],
   "source": [
    "accuracy_score(rf_pred.Actual, rf_pred.Y_pred)"
   ]
  },
  {
   "cell_type": "markdown",
   "id": "4f5acd68",
   "metadata": {},
   "source": [
    "## 2.5 naive bayes"
   ]
  },
  {
   "cell_type": "code",
   "execution_count": 136,
   "id": "e5cc1e79",
   "metadata": {},
   "outputs": [
    {
     "data": {
      "text/html": [
       "<div>\n",
       "<style scoped>\n",
       "    .dataframe tbody tr th:only-of-type {\n",
       "        vertical-align: middle;\n",
       "    }\n",
       "\n",
       "    .dataframe tbody tr th {\n",
       "        vertical-align: top;\n",
       "    }\n",
       "\n",
       "    .dataframe thead th {\n",
       "        text-align: right;\n",
       "    }\n",
       "</style>\n",
       "<table border=\"1\" class=\"dataframe\">\n",
       "  <thead>\n",
       "    <tr style=\"text-align: right;\">\n",
       "      <th>Actual</th>\n",
       "      <th>D1: 2yr</th>\n",
       "      <th>D2: 2-5yr</th>\n",
       "      <th>D3: 5yr+</th>\n",
       "    </tr>\n",
       "    <tr>\n",
       "      <th>Y_pred</th>\n",
       "      <th></th>\n",
       "      <th></th>\n",
       "      <th></th>\n",
       "    </tr>\n",
       "  </thead>\n",
       "  <tbody>\n",
       "    <tr>\n",
       "      <th>D1: 2yr</th>\n",
       "      <td>0.30</td>\n",
       "      <td>0.52</td>\n",
       "      <td>0.17</td>\n",
       "    </tr>\n",
       "    <tr>\n",
       "      <th>D2: 2-5yr</th>\n",
       "      <td>0.18</td>\n",
       "      <td>0.50</td>\n",
       "      <td>0.32</td>\n",
       "    </tr>\n",
       "    <tr>\n",
       "      <th>D3: 5yr+</th>\n",
       "      <td>0.08</td>\n",
       "      <td>0.47</td>\n",
       "      <td>0.45</td>\n",
       "    </tr>\n",
       "  </tbody>\n",
       "</table>\n",
       "</div>"
      ],
      "text/plain": [
       "Actual     D1: 2yr  D2: 2-5yr  D3: 5yr+\n",
       "Y_pred                                 \n",
       "D1: 2yr       0.30       0.52      0.17\n",
       "D2: 2-5yr     0.18       0.50      0.32\n",
       "D3: 5yr+      0.08       0.47      0.45"
      ]
     },
     "execution_count": 136,
     "metadata": {},
     "output_type": "execute_result"
    }
   ],
   "source": [
    "from sklearn.naive_bayes import BernoulliNB\n",
    "from sklearn.naive_bayes import GaussianNB\n",
    "NB_model = GaussianNB().fit(train[X_features],train['y_class'])\n",
    "NB_pred = Prediction(NB_model)    \n",
    "pd.crosstab(NB_pred['Y_pred'],NB_pred['Actual']).apply(lambda x: x/x.sum(), axis=1).round(2)"
   ]
  },
  {
   "cell_type": "code",
   "execution_count": 137,
   "id": "e3235db6",
   "metadata": {},
   "outputs": [
    {
     "data": {
      "text/plain": [
       "0.44036697247706424"
      ]
     },
     "execution_count": 137,
     "metadata": {},
     "output_type": "execute_result"
    }
   ],
   "source": [
    "accuracy_score(NB_pred.Actual, NB_pred.Y_pred)"
   ]
  },
  {
   "cell_type": "markdown",
   "id": "bcacf560",
   "metadata": {},
   "source": [
    "## 2.6 KNN"
   ]
  },
  {
   "cell_type": "code",
   "execution_count": 138,
   "id": "2a5d5600",
   "metadata": {},
   "outputs": [
    {
     "data": {
      "text/html": [
       "<div>\n",
       "<style scoped>\n",
       "    .dataframe tbody tr th:only-of-type {\n",
       "        vertical-align: middle;\n",
       "    }\n",
       "\n",
       "    .dataframe tbody tr th {\n",
       "        vertical-align: top;\n",
       "    }\n",
       "\n",
       "    .dataframe thead th {\n",
       "        text-align: right;\n",
       "    }\n",
       "</style>\n",
       "<table border=\"1\" class=\"dataframe\">\n",
       "  <thead>\n",
       "    <tr style=\"text-align: right;\">\n",
       "      <th>Actual</th>\n",
       "      <th>D1: 2yr</th>\n",
       "      <th>D2: 2-5yr</th>\n",
       "      <th>D3: 5yr+</th>\n",
       "    </tr>\n",
       "    <tr>\n",
       "      <th>Y_pred</th>\n",
       "      <th></th>\n",
       "      <th></th>\n",
       "      <th></th>\n",
       "    </tr>\n",
       "  </thead>\n",
       "  <tbody>\n",
       "    <tr>\n",
       "      <th>D1: 2yr</th>\n",
       "      <td>0.22</td>\n",
       "      <td>0.49</td>\n",
       "      <td>0.30</td>\n",
       "    </tr>\n",
       "    <tr>\n",
       "      <th>D2: 2-5yr</th>\n",
       "      <td>0.11</td>\n",
       "      <td>0.52</td>\n",
       "      <td>0.37</td>\n",
       "    </tr>\n",
       "    <tr>\n",
       "      <th>D3: 5yr+</th>\n",
       "      <td>0.06</td>\n",
       "      <td>0.40</td>\n",
       "      <td>0.54</td>\n",
       "    </tr>\n",
       "  </tbody>\n",
       "</table>\n",
       "</div>"
      ],
      "text/plain": [
       "Actual     D1: 2yr  D2: 2-5yr  D3: 5yr+\n",
       "Y_pred                                 \n",
       "D1: 2yr       0.22       0.49      0.30\n",
       "D2: 2-5yr     0.11       0.52      0.37\n",
       "D3: 5yr+      0.06       0.40      0.54"
      ]
     },
     "execution_count": 138,
     "metadata": {},
     "output_type": "execute_result"
    }
   ],
   "source": [
    "from sklearn.neighbors import KNeighborsClassifier\n",
    "KNN_model = KNeighborsClassifier(n_neighbors=3).fit(train[X_features],train['y_class'])\n",
    "KNN_pred = Prediction(KNN_model)    \n",
    "pd.crosstab(KNN_pred['Y_pred'],KNN_pred['Actual']).apply(lambda x: x/x.sum(), axis=1).round(2)"
   ]
  },
  {
   "cell_type": "code",
   "execution_count": 139,
   "id": "f1190bf8",
   "metadata": {},
   "outputs": [
    {
     "data": {
      "text/plain": [
       "0.4724770642201835"
      ]
     },
     "execution_count": 139,
     "metadata": {},
     "output_type": "execute_result"
    }
   ],
   "source": [
    "accuracy_score(KNN_pred.Actual, KNN_pred.Y_pred)"
   ]
  },
  {
   "cell_type": "markdown",
   "id": "b8e4dd9b",
   "metadata": {},
   "source": [
    "## 2.7 LDA"
   ]
  },
  {
   "cell_type": "code",
   "execution_count": 142,
   "id": "ede44b23",
   "metadata": {},
   "outputs": [
    {
     "data": {
      "text/html": [
       "<div>\n",
       "<style scoped>\n",
       "    .dataframe tbody tr th:only-of-type {\n",
       "        vertical-align: middle;\n",
       "    }\n",
       "\n",
       "    .dataframe tbody tr th {\n",
       "        vertical-align: top;\n",
       "    }\n",
       "\n",
       "    .dataframe thead th {\n",
       "        text-align: right;\n",
       "    }\n",
       "</style>\n",
       "<table border=\"1\" class=\"dataframe\">\n",
       "  <thead>\n",
       "    <tr style=\"text-align: right;\">\n",
       "      <th>Actual</th>\n",
       "      <th>D1: 2yr</th>\n",
       "      <th>D2: 2-5yr</th>\n",
       "      <th>D3: 5yr+</th>\n",
       "    </tr>\n",
       "    <tr>\n",
       "      <th>Y_pred</th>\n",
       "      <th></th>\n",
       "      <th></th>\n",
       "      <th></th>\n",
       "    </tr>\n",
       "  </thead>\n",
       "  <tbody>\n",
       "    <tr>\n",
       "      <th>D1: 2yr</th>\n",
       "      <td>0.30</td>\n",
       "      <td>0.70</td>\n",
       "      <td>0.00</td>\n",
       "    </tr>\n",
       "    <tr>\n",
       "      <th>D2: 2-5yr</th>\n",
       "      <td>0.15</td>\n",
       "      <td>0.55</td>\n",
       "      <td>0.30</td>\n",
       "    </tr>\n",
       "    <tr>\n",
       "      <th>D3: 5yr+</th>\n",
       "      <td>0.05</td>\n",
       "      <td>0.34</td>\n",
       "      <td>0.61</td>\n",
       "    </tr>\n",
       "  </tbody>\n",
       "</table>\n",
       "</div>"
      ],
      "text/plain": [
       "Actual     D1: 2yr  D2: 2-5yr  D3: 5yr+\n",
       "Y_pred                                 \n",
       "D1: 2yr       0.30       0.70      0.00\n",
       "D2: 2-5yr     0.15       0.55      0.30\n",
       "D3: 5yr+      0.05       0.34      0.61"
      ]
     },
     "execution_count": 142,
     "metadata": {},
     "output_type": "execute_result"
    }
   ],
   "source": [
    "from sklearn.discriminant_analysis import LinearDiscriminantAnalysis\n",
    "disc_model = LinearDiscriminantAnalysis().fit(train[X_features],train['y_class'])\n",
    "disc_pred = Prediction(disc_model)    \n",
    "pd.crosstab(disc_pred['Y_pred'],disc_pred['Actual']).apply(lambda x: x/x.sum(), axis=1).round(2)"
   ]
  },
  {
   "cell_type": "code",
   "execution_count": 143,
   "id": "37cedb20",
   "metadata": {},
   "outputs": [
    {
     "data": {
      "text/plain": [
       "0.5642201834862385"
      ]
     },
     "execution_count": 143,
     "metadata": {},
     "output_type": "execute_result"
    }
   ],
   "source": [
    "accuracy_score(disc_pred.Actual, disc_pred.Y_pred)"
   ]
  }
 ],
 "metadata": {
  "kernelspec": {
   "display_name": "Python 3 (ipykernel)",
   "language": "python",
   "name": "python3"
  },
  "language_info": {
   "codemirror_mode": {
    "name": "ipython",
    "version": 3
   },
   "file_extension": ".py",
   "mimetype": "text/x-python",
   "name": "python",
   "nbconvert_exporter": "python",
   "pygments_lexer": "ipython3",
   "version": "3.9.7"
  }
 },
 "nbformat": 4,
 "nbformat_minor": 5
}
